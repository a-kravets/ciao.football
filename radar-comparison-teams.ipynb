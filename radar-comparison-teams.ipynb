{
 "cells": [
  {
   "cell_type": "code",
   "execution_count": 1,
   "metadata": {},
   "outputs": [],
   "source": [
    "import pandas as pd\n",
    "import matplotlib.pyplot as plt\n",
    "from soccerplots.radar_chart import Radar"
   ]
  },
  {
   "cell_type": "code",
   "execution_count": 38,
   "metadata": {},
   "outputs": [],
   "source": [
    "# Load csv\n",
    "\n",
    "file = r'D:\\Python\\Code\\ciao.football\\Serie A\\chelsea.csv'\n",
    "df_chelsea = pd.read_csv(file)\n",
    "\n",
    "pd.set_option(\"display.max.columns\", None)\n",
    "\n",
    "df_chelsea_total = df_chelsea[-1:]"
   ]
  },
  {
   "cell_type": "code",
   "execution_count": 39,
   "metadata": {},
   "outputs": [],
   "source": [
    "new_header = df_chelsea.iloc[0] #grab the first row for the header\n",
    "df_chelsea = df_chelsea[1:] #take the data less the header row\n",
    "df_chelsea.columns = new_header #set the header row as the df header"
   ]
  },
  {
   "cell_type": "code",
   "execution_count": 52,
   "metadata": {},
   "outputs": [],
   "source": [
    "df_chelsea['team'] = 'Chelsea'"
   ]
  },
  {
   "cell_type": "code",
   "execution_count": 87,
   "metadata": {},
   "outputs": [],
   "source": [
    "df_chelsea_total = df_chelsea[-1:]\n",
    "\n",
    "df_chelsea_total = df_chelsea_total[['team', 'Sh', 'SoT', 'CrdY', 'Touches', 'Press', 'Tkl', 'Int', 'Blocks', 'xG', 'xA', 'SCA', 'Cmp', 'Cmp%', 'Carries', 'Succ']]"
   ]
  },
  {
   "cell_type": "code",
   "execution_count": 88,
   "metadata": {},
   "outputs": [
    {
     "data": {
      "text/html": [
       "<div>\n",
       "<style scoped>\n",
       "    .dataframe tbody tr th:only-of-type {\n",
       "        vertical-align: middle;\n",
       "    }\n",
       "\n",
       "    .dataframe tbody tr th {\n",
       "        vertical-align: top;\n",
       "    }\n",
       "\n",
       "    .dataframe thead th {\n",
       "        text-align: right;\n",
       "    }\n",
       "</style>\n",
       "<table border=\"1\" class=\"dataframe\">\n",
       "  <thead>\n",
       "    <tr style=\"text-align: right;\">\n",
       "      <th></th>\n",
       "      <th>team</th>\n",
       "      <th>Sh</th>\n",
       "      <th>SoT</th>\n",
       "      <th>CrdY</th>\n",
       "      <th>Touches</th>\n",
       "      <th>Press</th>\n",
       "      <th>Tkl</th>\n",
       "      <th>Int</th>\n",
       "      <th>Blocks</th>\n",
       "      <th>xG</th>\n",
       "      <th>xA</th>\n",
       "      <th>SCA</th>\n",
       "      <th>Cmp</th>\n",
       "      <th>Cmp%</th>\n",
       "      <th>Carries</th>\n",
       "      <th>Succ</th>\n",
       "    </tr>\n",
       "  </thead>\n",
       "  <tbody>\n",
       "    <tr>\n",
       "      <th>16</th>\n",
       "      <td>Chelsea</td>\n",
       "      <td>15</td>\n",
       "      <td>5</td>\n",
       "      <td>3</td>\n",
       "      <td>472</td>\n",
       "      <td>221</td>\n",
       "      <td>17</td>\n",
       "      <td>16</td>\n",
       "      <td>6</td>\n",
       "      <td>3.3</td>\n",
       "      <td>2.3</td>\n",
       "      <td>25</td>\n",
       "      <td>300</td>\n",
       "      <td>79.4</td>\n",
       "      <td>319</td>\n",
       "      <td>7</td>\n",
       "    </tr>\n",
       "  </tbody>\n",
       "</table>\n",
       "</div>"
      ],
      "text/plain": [
       "0      team  Sh SoT CrdY Touches Press Tkl Int Blocks   xG   xA SCA  Cmp  \\\n",
       "16  Chelsea  15   5    3     472   221  17  16      6  3.3  2.3  25  300   \n",
       "\n",
       "0   Cmp% Carries Succ  \n",
       "16  79.4     319    7  "
      ]
     },
     "execution_count": 88,
     "metadata": {},
     "output_type": "execute_result"
    }
   ],
   "source": [
    "df_chelsea_total"
   ]
  },
  {
   "cell_type": "code",
   "execution_count": 46,
   "metadata": {},
   "outputs": [],
   "source": [
    "# Load csv\n",
    "\n",
    "file = r'D:\\Python\\Code\\ciao.football\\Serie A\\madrid.csv'\n",
    "df_madrid = pd.read_csv(file)\n",
    "\n",
    "df_madrid_total = df_madrid[-1:]"
   ]
  },
  {
   "cell_type": "code",
   "execution_count": 47,
   "metadata": {},
   "outputs": [],
   "source": [
    "new_header = df_madrid.iloc[0] #grab the first row for the header\n",
    "df_madrid = df_madrid[1:] #take the data less the header row\n",
    "df_madrid.columns = new_header #set the header row as the df header"
   ]
  },
  {
   "cell_type": "code",
   "execution_count": 48,
   "metadata": {},
   "outputs": [
    {
     "data": {
      "text/html": [
       "<div>\n",
       "<style scoped>\n",
       "    .dataframe tbody tr th:only-of-type {\n",
       "        vertical-align: middle;\n",
       "    }\n",
       "\n",
       "    .dataframe tbody tr th {\n",
       "        vertical-align: top;\n",
       "    }\n",
       "\n",
       "    .dataframe thead th {\n",
       "        text-align: right;\n",
       "    }\n",
       "</style>\n",
       "<table border=\"1\" class=\"dataframe\">\n",
       "  <thead>\n",
       "    <tr style=\"text-align: right;\">\n",
       "      <th></th>\n",
       "      <th>Player</th>\n",
       "      <th>#</th>\n",
       "      <th>Nation</th>\n",
       "      <th>Pos</th>\n",
       "      <th>Age</th>\n",
       "      <th>Min</th>\n",
       "      <th>Gls</th>\n",
       "      <th>Ast</th>\n",
       "      <th>PK</th>\n",
       "      <th>PKatt</th>\n",
       "      <th>Sh</th>\n",
       "      <th>SoT</th>\n",
       "      <th>CrdY</th>\n",
       "      <th>CrdR</th>\n",
       "      <th>Touches</th>\n",
       "      <th>Press</th>\n",
       "      <th>Tkl</th>\n",
       "      <th>Int</th>\n",
       "      <th>Blocks</th>\n",
       "      <th>xG</th>\n",
       "      <th>npxG</th>\n",
       "      <th>xA</th>\n",
       "      <th>SCA</th>\n",
       "      <th>GCA</th>\n",
       "      <th>Cmp</th>\n",
       "      <th>Att</th>\n",
       "      <th>Cmp%</th>\n",
       "      <th>Prog</th>\n",
       "      <th>Carries</th>\n",
       "      <th>Prog</th>\n",
       "      <th>Succ</th>\n",
       "      <th>Att</th>\n",
       "    </tr>\n",
       "  </thead>\n",
       "  <tbody>\n",
       "    <tr>\n",
       "      <th>1</th>\n",
       "      <td>Eden Hazard\\Eden-Hazard</td>\n",
       "      <td>7</td>\n",
       "      <td>be BEL</td>\n",
       "      <td>FW</td>\n",
       "      <td>30-118</td>\n",
       "      <td>88</td>\n",
       "      <td>0</td>\n",
       "      <td>0</td>\n",
       "      <td>0</td>\n",
       "      <td>0</td>\n",
       "      <td>1</td>\n",
       "      <td>1</td>\n",
       "      <td>0</td>\n",
       "      <td>0</td>\n",
       "      <td>50</td>\n",
       "      <td>17</td>\n",
       "      <td>0</td>\n",
       "      <td>0</td>\n",
       "      <td>0</td>\n",
       "      <td>0.0</td>\n",
       "      <td>0.0</td>\n",
       "      <td>0.0</td>\n",
       "      <td>1</td>\n",
       "      <td>0</td>\n",
       "      <td>34</td>\n",
       "      <td>40</td>\n",
       "      <td>85.0</td>\n",
       "      <td>1</td>\n",
       "      <td>47</td>\n",
       "      <td>2</td>\n",
       "      <td>2</td>\n",
       "      <td>2</td>\n",
       "    </tr>\n",
       "    <tr>\n",
       "      <th>2</th>\n",
       "      <td>Mariano\\Mariano</td>\n",
       "      <td>24</td>\n",
       "      <td>do DOM</td>\n",
       "      <td>FW</td>\n",
       "      <td>27-277</td>\n",
       "      <td>2</td>\n",
       "      <td>0</td>\n",
       "      <td>0</td>\n",
       "      <td>0</td>\n",
       "      <td>0</td>\n",
       "      <td>0</td>\n",
       "      <td>0</td>\n",
       "      <td>0</td>\n",
       "      <td>0</td>\n",
       "      <td>0</td>\n",
       "      <td>1</td>\n",
       "      <td>0</td>\n",
       "      <td>0</td>\n",
       "      <td>0</td>\n",
       "      <td>0.0</td>\n",
       "      <td>0.0</td>\n",
       "      <td>0.0</td>\n",
       "      <td>0</td>\n",
       "      <td>0</td>\n",
       "      <td>0</td>\n",
       "      <td>0</td>\n",
       "      <td>NaN</td>\n",
       "      <td>0</td>\n",
       "      <td>0</td>\n",
       "      <td>0</td>\n",
       "      <td>0</td>\n",
       "      <td>0</td>\n",
       "    </tr>\n",
       "    <tr>\n",
       "      <th>3</th>\n",
       "      <td>Karim Benzema\\Karim-Benzema</td>\n",
       "      <td>9</td>\n",
       "      <td>fr FRA</td>\n",
       "      <td>FW</td>\n",
       "      <td>33-137</td>\n",
       "      <td>90</td>\n",
       "      <td>0</td>\n",
       "      <td>0</td>\n",
       "      <td>0</td>\n",
       "      <td>0</td>\n",
       "      <td>2</td>\n",
       "      <td>2</td>\n",
       "      <td>0</td>\n",
       "      <td>0</td>\n",
       "      <td>37</td>\n",
       "      <td>23</td>\n",
       "      <td>1</td>\n",
       "      <td>1</td>\n",
       "      <td>0</td>\n",
       "      <td>0.3</td>\n",
       "      <td>0.3</td>\n",
       "      <td>0.0</td>\n",
       "      <td>0</td>\n",
       "      <td>0</td>\n",
       "      <td>22</td>\n",
       "      <td>26</td>\n",
       "      <td>84.6</td>\n",
       "      <td>0</td>\n",
       "      <td>29</td>\n",
       "      <td>2</td>\n",
       "      <td>0</td>\n",
       "      <td>1</td>\n",
       "    </tr>\n",
       "    <tr>\n",
       "      <th>4</th>\n",
       "      <td>Luka Modrić\\Luka-Modric</td>\n",
       "      <td>10</td>\n",
       "      <td>hr CRO</td>\n",
       "      <td>AM</td>\n",
       "      <td>35-238</td>\n",
       "      <td>90</td>\n",
       "      <td>0</td>\n",
       "      <td>0</td>\n",
       "      <td>0</td>\n",
       "      <td>0</td>\n",
       "      <td>1</td>\n",
       "      <td>1</td>\n",
       "      <td>0</td>\n",
       "      <td>0</td>\n",
       "      <td>99</td>\n",
       "      <td>19</td>\n",
       "      <td>1</td>\n",
       "      <td>1</td>\n",
       "      <td>1</td>\n",
       "      <td>0.0</td>\n",
       "      <td>0.0</td>\n",
       "      <td>0.2</td>\n",
       "      <td>2</td>\n",
       "      <td>0</td>\n",
       "      <td>84</td>\n",
       "      <td>94</td>\n",
       "      <td>89.4</td>\n",
       "      <td>4</td>\n",
       "      <td>88</td>\n",
       "      <td>8</td>\n",
       "      <td>3</td>\n",
       "      <td>3</td>\n",
       "    </tr>\n",
       "    <tr>\n",
       "      <th>5</th>\n",
       "      <td>Ferland Mendy\\Ferland-Mendy</td>\n",
       "      <td>23</td>\n",
       "      <td>fr FRA</td>\n",
       "      <td>DM</td>\n",
       "      <td>25-331</td>\n",
       "      <td>62</td>\n",
       "      <td>0</td>\n",
       "      <td>0</td>\n",
       "      <td>0</td>\n",
       "      <td>0</td>\n",
       "      <td>0</td>\n",
       "      <td>0</td>\n",
       "      <td>0</td>\n",
       "      <td>0</td>\n",
       "      <td>55</td>\n",
       "      <td>8</td>\n",
       "      <td>0</td>\n",
       "      <td>0</td>\n",
       "      <td>3</td>\n",
       "      <td>0.0</td>\n",
       "      <td>0.0</td>\n",
       "      <td>0.0</td>\n",
       "      <td>1</td>\n",
       "      <td>0</td>\n",
       "      <td>45</td>\n",
       "      <td>46</td>\n",
       "      <td>97.8</td>\n",
       "      <td>0</td>\n",
       "      <td>40</td>\n",
       "      <td>0</td>\n",
       "      <td>1</td>\n",
       "      <td>1</td>\n",
       "    </tr>\n",
       "  </tbody>\n",
       "</table>\n",
       "</div>"
      ],
      "text/plain": [
       "0                       Player   #  Nation Pos     Age Min Gls Ast PK PKatt  \\\n",
       "1      Eden Hazard\\Eden-Hazard   7  be BEL  FW  30-118  88   0   0  0     0   \n",
       "2              Mariano\\Mariano  24  do DOM  FW  27-277   2   0   0  0     0   \n",
       "3  Karim Benzema\\Karim-Benzema   9  fr FRA  FW  33-137  90   0   0  0     0   \n",
       "4      Luka Modrić\\Luka-Modric  10  hr CRO  AM  35-238  90   0   0  0     0   \n",
       "5  Ferland Mendy\\Ferland-Mendy  23  fr FRA  DM  25-331  62   0   0  0     0   \n",
       "\n",
       "0 Sh SoT CrdY CrdR Touches Press Tkl Int Blocks   xG npxG   xA SCA GCA Cmp  \\\n",
       "1  1   1    0    0      50    17   0   0      0  0.0  0.0  0.0   1   0  34   \n",
       "2  0   0    0    0       0     1   0   0      0  0.0  0.0  0.0   0   0   0   \n",
       "3  2   2    0    0      37    23   1   1      0  0.3  0.3  0.0   0   0  22   \n",
       "4  1   1    0    0      99    19   1   1      1  0.0  0.0  0.2   2   0  84   \n",
       "5  0   0    0    0      55     8   0   0      3  0.0  0.0  0.0   1   0  45   \n",
       "\n",
       "0 Att  Cmp% Prog Carries Prog Succ Att  \n",
       "1  40  85.0    1      47    2    2   2  \n",
       "2   0   NaN    0       0    0    0   0  \n",
       "3  26  84.6    0      29    2    0   1  \n",
       "4  94  89.4    4      88    8    3   3  \n",
       "5  46  97.8    0      40    0    1   1  "
      ]
     },
     "execution_count": 48,
     "metadata": {},
     "output_type": "execute_result"
    }
   ],
   "source": [
    "df_madrid.head()"
   ]
  },
  {
   "cell_type": "code",
   "execution_count": 49,
   "metadata": {},
   "outputs": [],
   "source": [
    "df_madrid['team'] = 'Real Madrid'"
   ]
  },
  {
   "cell_type": "code",
   "execution_count": 85,
   "metadata": {},
   "outputs": [],
   "source": [
    "df_madrid_total = df_madrid[-1:]\n",
    "\n",
    "df_madrid_total = df_madrid_total[['team', 'Sh', 'SoT', 'CrdY', 'Touches', 'Press', 'Tkl', 'Int', 'Blocks', 'xG', 'xA', 'SCA', 'Cmp', 'Cmp%', 'Carries', 'Succ']]"
   ]
  },
  {
   "cell_type": "code",
   "execution_count": 89,
   "metadata": {},
   "outputs": [
    {
     "data": {
      "text/html": [
       "<div>\n",
       "<style scoped>\n",
       "    .dataframe tbody tr th:only-of-type {\n",
       "        vertical-align: middle;\n",
       "    }\n",
       "\n",
       "    .dataframe tbody tr th {\n",
       "        vertical-align: top;\n",
       "    }\n",
       "\n",
       "    .dataframe thead th {\n",
       "        text-align: right;\n",
       "    }\n",
       "</style>\n",
       "<table border=\"1\" class=\"dataframe\">\n",
       "  <thead>\n",
       "    <tr style=\"text-align: right;\">\n",
       "      <th></th>\n",
       "      <th>team</th>\n",
       "      <th>Sh</th>\n",
       "      <th>SoT</th>\n",
       "      <th>CrdY</th>\n",
       "      <th>Touches</th>\n",
       "      <th>Press</th>\n",
       "      <th>Tkl</th>\n",
       "      <th>Int</th>\n",
       "      <th>Blocks</th>\n",
       "      <th>xG</th>\n",
       "      <th>xA</th>\n",
       "      <th>SCA</th>\n",
       "      <th>Cmp</th>\n",
       "      <th>Cmp%</th>\n",
       "      <th>Carries</th>\n",
       "      <th>Succ</th>\n",
       "    </tr>\n",
       "  </thead>\n",
       "  <tbody>\n",
       "    <tr>\n",
       "      <th>16</th>\n",
       "      <td>Real Madrid</td>\n",
       "      <td>7</td>\n",
       "      <td>5</td>\n",
       "      <td>4</td>\n",
       "      <td>839</td>\n",
       "      <td>201</td>\n",
       "      <td>11</td>\n",
       "      <td>7</td>\n",
       "      <td>15</td>\n",
       "      <td>0.4</td>\n",
       "      <td>0.3</td>\n",
       "      <td>12</td>\n",
       "      <td>666</td>\n",
       "      <td>89.4</td>\n",
       "      <td>658</td>\n",
       "      <td>10</td>\n",
       "    </tr>\n",
       "  </tbody>\n",
       "</table>\n",
       "</div>"
      ],
      "text/plain": [
       "0          team Sh SoT CrdY Touches Press Tkl Int Blocks   xG   xA SCA  Cmp  \\\n",
       "16  Real Madrid  7   5    4     839   201  11   7     15  0.4  0.3  12  666   \n",
       "\n",
       "0   Cmp% Carries Succ  \n",
       "16  89.4     658   10  "
      ]
     },
     "execution_count": 89,
     "metadata": {},
     "output_type": "execute_result"
    }
   ],
   "source": [
    "df_madrid_total"
   ]
  },
  {
   "cell_type": "code",
   "execution_count": 112,
   "metadata": {},
   "outputs": [
    {
     "data": {
      "text/html": [
       "<div>\n",
       "<style scoped>\n",
       "    .dataframe tbody tr th:only-of-type {\n",
       "        vertical-align: middle;\n",
       "    }\n",
       "\n",
       "    .dataframe tbody tr th {\n",
       "        vertical-align: top;\n",
       "    }\n",
       "\n",
       "    .dataframe thead th {\n",
       "        text-align: right;\n",
       "    }\n",
       "</style>\n",
       "<table border=\"1\" class=\"dataframe\">\n",
       "  <thead>\n",
       "    <tr style=\"text-align: right;\">\n",
       "      <th></th>\n",
       "      <th>index</th>\n",
       "      <th>Player</th>\n",
       "      <th>#</th>\n",
       "      <th>Nation</th>\n",
       "      <th>Pos</th>\n",
       "      <th>Age</th>\n",
       "      <th>Min</th>\n",
       "      <th>Gls</th>\n",
       "      <th>Ast</th>\n",
       "      <th>PK</th>\n",
       "      <th>PKatt</th>\n",
       "      <th>Sh</th>\n",
       "      <th>SoT</th>\n",
       "      <th>CrdY</th>\n",
       "      <th>CrdR</th>\n",
       "      <th>Touches</th>\n",
       "      <th>Press</th>\n",
       "      <th>Tkl</th>\n",
       "      <th>Int</th>\n",
       "      <th>Blocks</th>\n",
       "      <th>xG</th>\n",
       "      <th>npxG</th>\n",
       "      <th>xA</th>\n",
       "      <th>SCA</th>\n",
       "      <th>GCA</th>\n",
       "      <th>Cmp</th>\n",
       "      <th>Att</th>\n",
       "      <th>Cmp%</th>\n",
       "      <th>Prog</th>\n",
       "      <th>Carries</th>\n",
       "      <th>Prog.1</th>\n",
       "      <th>Succ</th>\n",
       "      <th>Att.1</th>\n",
       "    </tr>\n",
       "  </thead>\n",
       "  <tbody>\n",
       "    <tr>\n",
       "      <th>0</th>\n",
       "      <td>9</td>\n",
       "      <td>Oleksandr Zinchenko\\Oleksandr-Zinchenko</td>\n",
       "      <td>11.0</td>\n",
       "      <td>ua UKR</td>\n",
       "      <td>LB</td>\n",
       "      <td>24-140</td>\n",
       "      <td>90</td>\n",
       "      <td>0</td>\n",
       "      <td>0</td>\n",
       "      <td>0</td>\n",
       "      <td>0</td>\n",
       "      <td>0</td>\n",
       "      <td>0</td>\n",
       "      <td>1</td>\n",
       "      <td>0</td>\n",
       "      <td>82</td>\n",
       "      <td>9</td>\n",
       "      <td>4</td>\n",
       "      <td>2</td>\n",
       "      <td>3</td>\n",
       "      <td>0.0</td>\n",
       "      <td>0.0</td>\n",
       "      <td>0.1</td>\n",
       "      <td>2</td>\n",
       "      <td>0</td>\n",
       "      <td>69</td>\n",
       "      <td>73</td>\n",
       "      <td>94.5</td>\n",
       "      <td>1</td>\n",
       "      <td>44</td>\n",
       "      <td>5</td>\n",
       "      <td>1</td>\n",
       "      <td>1</td>\n",
       "    </tr>\n",
       "    <tr>\n",
       "      <th>1</th>\n",
       "      <td>12</td>\n",
       "      <td>Kyle Walker\\Kyle-Walker</td>\n",
       "      <td>2.0</td>\n",
       "      <td>eng ENG</td>\n",
       "      <td>RB</td>\n",
       "      <td>30-341</td>\n",
       "      <td>90</td>\n",
       "      <td>0</td>\n",
       "      <td>0</td>\n",
       "      <td>0</td>\n",
       "      <td>0</td>\n",
       "      <td>0</td>\n",
       "      <td>0</td>\n",
       "      <td>0</td>\n",
       "      <td>0</td>\n",
       "      <td>65</td>\n",
       "      <td>15</td>\n",
       "      <td>4</td>\n",
       "      <td>3</td>\n",
       "      <td>3</td>\n",
       "      <td>0.0</td>\n",
       "      <td>0.0</td>\n",
       "      <td>0.1</td>\n",
       "      <td>1</td>\n",
       "      <td>0</td>\n",
       "      <td>46</td>\n",
       "      <td>51</td>\n",
       "      <td>90.2</td>\n",
       "      <td>1</td>\n",
       "      <td>40</td>\n",
       "      <td>3</td>\n",
       "      <td>3</td>\n",
       "      <td>3</td>\n",
       "    </tr>\n",
       "  </tbody>\n",
       "</table>\n",
       "</div>"
      ],
      "text/plain": [
       "   index                                   Player     #   Nation Pos     Age  \\\n",
       "0      9  Oleksandr Zinchenko\\Oleksandr-Zinchenko  11.0   ua UKR  LB  24-140   \n",
       "1     12                  Kyle Walker\\Kyle-Walker   2.0  eng ENG  RB  30-341   \n",
       "\n",
       "   Min  Gls  Ast  PK  PKatt  Sh  SoT  CrdY  CrdR  Touches  Press  Tkl  Int  \\\n",
       "0   90    0    0   0      0   0    0     1     0       82      9    4    2   \n",
       "1   90    0    0   0      0   0    0     0     0       65     15    4    3   \n",
       "\n",
       "   Blocks   xG  npxG   xA  SCA  GCA  Cmp  Att  Cmp%  Prog  Carries  Prog.1  \\\n",
       "0       3  0.0   0.0  0.1    2    0   69   73  94.5     1       44       5   \n",
       "1       3  0.0   0.0  0.1    1    0   46   51  90.2     1       40       3   \n",
       "\n",
       "   Succ  Att.1  \n",
       "0     1      1  \n",
       "1     3      3  "
      ]
     },
     "execution_count": 112,
     "metadata": {},
     "output_type": "execute_result"
    }
   ],
   "source": [
    "pd.set_option(\"display.max.columns\", None)\n",
    "\n",
    "df_pair = df[(df['#'] == 2) | (df['#'] == 11)].reset_index()\n",
    "\n",
    "'''\n",
    "df_walker = df.loc[df['#'] == 2].reset_index()\n",
    "df_walker\n",
    "\n",
    "df_zinchenko = df.loc[df['#'] == 11].reset_index()\n",
    "df_zinchenko\n",
    "'''\n",
    "\n",
    "df_pair"
   ]
  },
  {
   "cell_type": "code",
   "execution_count": 90,
   "metadata": {},
   "outputs": [],
   "source": [
    "df_both_teams = df_chelsea_total.append(df_madrid_total).reset_index()"
   ]
  },
  {
   "cell_type": "code",
   "execution_count": 99,
   "metadata": {},
   "outputs": [
    {
     "data": {
      "text/html": [
       "<div>\n",
       "<style scoped>\n",
       "    .dataframe tbody tr th:only-of-type {\n",
       "        vertical-align: middle;\n",
       "    }\n",
       "\n",
       "    .dataframe tbody tr th {\n",
       "        vertical-align: top;\n",
       "    }\n",
       "\n",
       "    .dataframe thead th {\n",
       "        text-align: right;\n",
       "    }\n",
       "</style>\n",
       "<table border=\"1\" class=\"dataframe\">\n",
       "  <thead>\n",
       "    <tr style=\"text-align: right;\">\n",
       "      <th></th>\n",
       "      <th>team</th>\n",
       "      <th>Sh</th>\n",
       "      <th>SoT</th>\n",
       "      <th>CrdY</th>\n",
       "      <th>Touches</th>\n",
       "      <th>Press</th>\n",
       "      <th>Tkl</th>\n",
       "      <th>Int</th>\n",
       "      <th>Blocks</th>\n",
       "      <th>xG</th>\n",
       "      <th>xA</th>\n",
       "      <th>SCA</th>\n",
       "      <th>Cmp</th>\n",
       "      <th>Cmp%</th>\n",
       "      <th>Carries</th>\n",
       "      <th>Succ</th>\n",
       "    </tr>\n",
       "  </thead>\n",
       "  <tbody>\n",
       "    <tr>\n",
       "      <th>16</th>\n",
       "      <td>ChelseaReal Madrid</td>\n",
       "      <td>157</td>\n",
       "      <td>55</td>\n",
       "      <td>34</td>\n",
       "      <td>472839</td>\n",
       "      <td>221201</td>\n",
       "      <td>1711</td>\n",
       "      <td>167</td>\n",
       "      <td>615</td>\n",
       "      <td>3.30.4</td>\n",
       "      <td>2.30.3</td>\n",
       "      <td>2512</td>\n",
       "      <td>300666</td>\n",
       "      <td>79.489.4</td>\n",
       "      <td>319658</td>\n",
       "      <td>710</td>\n",
       "    </tr>\n",
       "  </tbody>\n",
       "</table>\n",
       "</div>"
      ],
      "text/plain": [
       "0                 team   Sh SoT CrdY Touches   Press   Tkl  Int Blocks  \\\n",
       "16  ChelseaReal Madrid  157  55   34  472839  221201  1711  167    615   \n",
       "\n",
       "0       xG      xA   SCA     Cmp      Cmp% Carries Succ  \n",
       "16  3.30.4  2.30.3  2512  300666  79.489.4  319658  710  "
      ]
     },
     "execution_count": 99,
     "metadata": {},
     "output_type": "execute_result"
    }
   ],
   "source": [
    "df_chelsea_total + df_madrid_total"
   ]
  },
  {
   "cell_type": "code",
   "execution_count": 159,
   "metadata": {},
   "outputs": [
    {
     "data": {
      "text/html": [
       "<div>\n",
       "<style scoped>\n",
       "    .dataframe tbody tr th:only-of-type {\n",
       "        vertical-align: middle;\n",
       "    }\n",
       "\n",
       "    .dataframe tbody tr th {\n",
       "        vertical-align: top;\n",
       "    }\n",
       "\n",
       "    .dataframe thead th {\n",
       "        text-align: right;\n",
       "    }\n",
       "</style>\n",
       "<table border=\"1\" class=\"dataframe\">\n",
       "  <thead>\n",
       "    <tr style=\"text-align: right;\">\n",
       "      <th></th>\n",
       "      <th>index</th>\n",
       "      <th>team</th>\n",
       "      <th>Sh</th>\n",
       "      <th>SoT</th>\n",
       "      <th>CrdY</th>\n",
       "      <th>Touches</th>\n",
       "      <th>Press</th>\n",
       "      <th>Tkl</th>\n",
       "      <th>Int</th>\n",
       "      <th>Blocks</th>\n",
       "      <th>xG</th>\n",
       "      <th>xA</th>\n",
       "      <th>SCA</th>\n",
       "      <th>Cmp</th>\n",
       "      <th>Cmp%</th>\n",
       "      <th>Carries</th>\n",
       "      <th>Succ</th>\n",
       "    </tr>\n",
       "  </thead>\n",
       "  <tbody>\n",
       "    <tr>\n",
       "      <th>0</th>\n",
       "      <td>16</td>\n",
       "      <td>Chelsea</td>\n",
       "      <td>15.0</td>\n",
       "      <td>5.0</td>\n",
       "      <td>3.0</td>\n",
       "      <td>472.0</td>\n",
       "      <td>221.0</td>\n",
       "      <td>17.0</td>\n",
       "      <td>16.0</td>\n",
       "      <td>6.0</td>\n",
       "      <td>3.3</td>\n",
       "      <td>2.3</td>\n",
       "      <td>25.0</td>\n",
       "      <td>300.0</td>\n",
       "      <td>79.400002</td>\n",
       "      <td>319.0</td>\n",
       "      <td>7.0</td>\n",
       "    </tr>\n",
       "    <tr>\n",
       "      <th>1</th>\n",
       "      <td>16</td>\n",
       "      <td>Real Madrid</td>\n",
       "      <td>7.0</td>\n",
       "      <td>5.0</td>\n",
       "      <td>4.0</td>\n",
       "      <td>839.0</td>\n",
       "      <td>201.0</td>\n",
       "      <td>11.0</td>\n",
       "      <td>7.0</td>\n",
       "      <td>15.0</td>\n",
       "      <td>0.4</td>\n",
       "      <td>0.3</td>\n",
       "      <td>12.0</td>\n",
       "      <td>666.0</td>\n",
       "      <td>89.400002</td>\n",
       "      <td>658.0</td>\n",
       "      <td>10.0</td>\n",
       "    </tr>\n",
       "  </tbody>\n",
       "</table>\n",
       "</div>"
      ],
      "text/plain": [
       "0  index         team    Sh  SoT  CrdY  Touches  Press   Tkl   Int  Blocks  \\\n",
       "0     16      Chelsea  15.0  5.0   3.0    472.0  221.0  17.0  16.0     6.0   \n",
       "1     16  Real Madrid   7.0  5.0   4.0    839.0  201.0  11.0   7.0    15.0   \n",
       "\n",
       "0   xG   xA   SCA    Cmp       Cmp%  Carries  Succ  \n",
       "0  3.3  2.3  25.0  300.0  79.400002    319.0   7.0  \n",
       "1  0.4  0.3  12.0  666.0  89.400002    658.0  10.0  "
      ]
     },
     "execution_count": 159,
     "metadata": {},
     "output_type": "execute_result"
    }
   ],
   "source": [
    "df_both_teams"
   ]
  },
  {
   "cell_type": "code",
   "execution_count": 105,
   "metadata": {},
   "outputs": [
    {
     "data": {
      "text/plain": [
       "'Sh'"
      ]
     },
     "execution_count": 105,
     "metadata": {},
     "output_type": "execute_result"
    }
   ],
   "source": [
    "df_both_teams.columns[2:][0]"
   ]
  },
  {
   "cell_type": "code",
   "execution_count": 106,
   "metadata": {},
   "outputs": [],
   "source": [
    "for i in df_both_teams.columns[2:]:\n",
    "    df_both_teams[i] = pd.to_numeric(df_both_teams[i], downcast='float')\n",
    "\n",
    "#france_shots['shot_statsbomb_xg'] = pd.to_numeric(france_shots['shot_statsbomb_xg'], downcast=\"float\")"
   ]
  },
  {
   "cell_type": "code",
   "execution_count": 146,
   "metadata": {},
   "outputs": [
    {
     "data": {
      "text/plain": [
       "['Sh',\n",
       " 'SoT',\n",
       " 'CrdY',\n",
       " 'Touches',\n",
       " 'Press',\n",
       " 'Tkl',\n",
       " 'Int',\n",
       " 'Blocks',\n",
       " 'xG',\n",
       " 'xA',\n",
       " 'SCA',\n",
       " 'Cmp',\n",
       " 'Cmp%',\n",
       " 'Carries',\n",
       " 'Succ']"
      ]
     },
     "execution_count": 146,
     "metadata": {},
     "output_type": "execute_result"
    }
   ],
   "source": [
    "#get parameters\n",
    "params = list(df_both_teams.columns)\n",
    "params = params[2:]\n",
    "params"
   ]
  },
  {
   "cell_type": "code",
   "execution_count": 147,
   "metadata": {},
   "outputs": [
    {
     "data": {
      "text/html": [
       "<div>\n",
       "<style scoped>\n",
       "    .dataframe tbody tr th:only-of-type {\n",
       "        vertical-align: middle;\n",
       "    }\n",
       "\n",
       "    .dataframe tbody tr th {\n",
       "        vertical-align: top;\n",
       "    }\n",
       "\n",
       "    .dataframe thead th {\n",
       "        text-align: right;\n",
       "    }\n",
       "</style>\n",
       "<table border=\"1\" class=\"dataframe\">\n",
       "  <thead>\n",
       "    <tr style=\"text-align: right;\">\n",
       "      <th></th>\n",
       "      <th>Sh</th>\n",
       "      <th>SoT</th>\n",
       "      <th>CrdY</th>\n",
       "      <th>Touches</th>\n",
       "      <th>Press</th>\n",
       "      <th>Tkl</th>\n",
       "      <th>Int</th>\n",
       "      <th>Blocks</th>\n",
       "      <th>xG</th>\n",
       "      <th>xA</th>\n",
       "      <th>SCA</th>\n",
       "      <th>Cmp</th>\n",
       "      <th>Cmp%</th>\n",
       "      <th>Carries</th>\n",
       "      <th>Succ</th>\n",
       "    </tr>\n",
       "  </thead>\n",
       "  <tbody>\n",
       "    <tr>\n",
       "      <th>0</th>\n",
       "      <td>15.0</td>\n",
       "      <td>5.0</td>\n",
       "      <td>3.0</td>\n",
       "      <td>472.0</td>\n",
       "      <td>221.0</td>\n",
       "      <td>17.0</td>\n",
       "      <td>16.0</td>\n",
       "      <td>6.0</td>\n",
       "      <td>3.3</td>\n",
       "      <td>2.3</td>\n",
       "      <td>25.0</td>\n",
       "      <td>300.0</td>\n",
       "      <td>79.400002</td>\n",
       "      <td>319.0</td>\n",
       "      <td>7.0</td>\n",
       "    </tr>\n",
       "    <tr>\n",
       "      <th>1</th>\n",
       "      <td>7.0</td>\n",
       "      <td>5.0</td>\n",
       "      <td>4.0</td>\n",
       "      <td>839.0</td>\n",
       "      <td>201.0</td>\n",
       "      <td>11.0</td>\n",
       "      <td>7.0</td>\n",
       "      <td>15.0</td>\n",
       "      <td>0.4</td>\n",
       "      <td>0.3</td>\n",
       "      <td>12.0</td>\n",
       "      <td>666.0</td>\n",
       "      <td>89.400002</td>\n",
       "      <td>658.0</td>\n",
       "      <td>10.0</td>\n",
       "    </tr>\n",
       "  </tbody>\n",
       "</table>\n",
       "</div>"
      ],
      "text/plain": [
       "0    Sh  SoT  CrdY  Touches  Press   Tkl   Int  Blocks   xG   xA   SCA    Cmp  \\\n",
       "0  15.0  5.0   3.0    472.0  221.0  17.0  16.0     6.0  3.3  2.3  25.0  300.0   \n",
       "1   7.0  5.0   4.0    839.0  201.0  11.0   7.0    15.0  0.4  0.3  12.0  666.0   \n",
       "\n",
       "0       Cmp%  Carries  Succ  \n",
       "0  79.400002    319.0   7.0  \n",
       "1  89.400002    658.0  10.0  "
      ]
     },
     "execution_count": 147,
     "metadata": {},
     "output_type": "execute_result"
    }
   ],
   "source": [
    "df_both_teams[params]"
   ]
  },
  {
   "cell_type": "code",
   "execution_count": 148,
   "metadata": {},
   "outputs": [],
   "source": [
    "a = min(df_both_teams['Press'])"
   ]
  },
  {
   "cell_type": "code",
   "execution_count": 149,
   "metadata": {},
   "outputs": [],
   "source": [
    "a = a - (a*0.25)"
   ]
  },
  {
   "cell_type": "code",
   "execution_count": 150,
   "metadata": {},
   "outputs": [],
   "source": [
    "for x in df_both_teams.columns[2:]:\n",
    "    a = min(df_both_teams[params][x])\n",
    "    a = a - (a*0.25)"
   ]
  },
  {
   "cell_type": "code",
   "execution_count": 151,
   "metadata": {},
   "outputs": [
    {
     "data": {
      "text/plain": [
       "5.25"
      ]
     },
     "execution_count": 151,
     "metadata": {},
     "output_type": "execute_result"
    }
   ],
   "source": [
    "a"
   ]
  },
  {
   "cell_type": "code",
   "execution_count": 153,
   "metadata": {},
   "outputs": [],
   "source": [
    "#add ranges to list of tuple pairs\n",
    "ranges = []\n",
    "a_values = []\n",
    "b_values = []\n",
    "\n",
    "for x in df_both_teams[params]:\n",
    "    a = min(df_both_teams[params][x])\n",
    "    a = a - (a*0.25)\n",
    "    \n",
    "    b = max(df_both_teams[params][x])\n",
    "    b = b + (b*0.25)\n",
    "    \n",
    "    ranges.append((a,b))\n"
   ]
  },
  {
   "cell_type": "code",
   "execution_count": 154,
   "metadata": {},
   "outputs": [
    {
     "data": {
      "text/plain": [
       "[(5.25, 18.75),\n",
       " (3.75, 6.25),\n",
       " (2.25, 5.0),\n",
       " (354.0, 1048.75),\n",
       " (150.75, 276.25),\n",
       " (8.25, 21.25),\n",
       " (5.25, 20.0),\n",
       " (4.5, 18.75),\n",
       " (0.30000000447034836, 4.124999940395355),\n",
       " (0.22500000894069672, 2.8749999403953552),\n",
       " (9.0, 31.25),\n",
       " (225.0, 832.5),\n",
       " (59.55000114440918, 111.75000190734863),\n",
       " (239.25, 822.5),\n",
       " (5.25, 12.5)]"
      ]
     },
     "execution_count": 154,
     "metadata": {},
     "output_type": "execute_result"
    }
   ],
   "source": [
    "ranges"
   ]
  },
  {
   "cell_type": "code",
   "execution_count": 155,
   "metadata": {},
   "outputs": [],
   "source": [
    "for x in range(len(df_both_teams['team'])):\n",
    "    if df_both_teams['team'][x] == 'Chelsea':\n",
    "        a_values = df_both_teams.iloc[x].values.tolist()\n",
    "    if df_both_teams['team'][x] == 'Real Madrid':\n",
    "        b_values = df_both_teams.iloc[x].values.tolist()\n",
    "\n",
    "a_values = a_values[2:]\n",
    "b_values = b_values[2:]\n",
    "        \n",
    "values = [a_values,b_values]"
   ]
  },
  {
   "cell_type": "code",
   "execution_count": 156,
   "metadata": {},
   "outputs": [
    {
     "data": {
      "text/plain": [
       "[[15.0,\n",
       "  5.0,\n",
       "  3.0,\n",
       "  472.0,\n",
       "  221.0,\n",
       "  17.0,\n",
       "  16.0,\n",
       "  6.0,\n",
       "  3.3,\n",
       "  2.3,\n",
       "  25.0,\n",
       "  300.0,\n",
       "  79.4,\n",
       "  319.0,\n",
       "  7.0],\n",
       " [7.0,\n",
       "  5.0,\n",
       "  4.0,\n",
       "  839.0,\n",
       "  201.0,\n",
       "  11.0,\n",
       "  7.0,\n",
       "  15.0,\n",
       "  0.4,\n",
       "  0.3,\n",
       "  12.0,\n",
       "  666.0,\n",
       "  89.4,\n",
       "  658.0,\n",
       "  10.0]]"
      ]
     },
     "execution_count": 156,
     "metadata": {},
     "output_type": "execute_result"
    }
   ],
   "source": [
    "values"
   ]
  },
  {
   "cell_type": "code",
   "execution_count": 167,
   "metadata": {},
   "outputs": [],
   "source": [
    "title = dict(\n",
    "    title_name='Chelsea',\n",
    "    title_color = 'blue',\n",
    "    subtitle_name = '2',\n",
    "    subtitle_color = 'blue',\n",
    "    title_name_2='Real Madrid',\n",
    "    title_color_2 = 'red',\n",
    "    subtitle_name_2 = '0',\n",
    "    subtitle_color_2 = 'red',\n",
    "    title_fontsize = 18,\n",
    "    subtitle_fontsize=15\n",
    ")\n",
    "\n",
    "endnote = '@ciao.football\\nData via FBref / Statsbomb'"
   ]
  },
  {
   "cell_type": "code",
   "execution_count": 169,
   "metadata": {},
   "outputs": [
    {
     "data": {
      "image/png": "[encoded data removed]",
      "text/plain": [
       "<Figure size 1440x720 with 1 Axes>"
      ]
     },
     "metadata": {},
     "output_type": "display_data"
    }
   ],
   "source": [
    "radar = Radar()\n",
    "\n",
    "fig,ax = radar.plot_radar(ranges=ranges,params=params,values=values,\n",
    "                         radar_color=['blue','red'], title=title, endnote=endnote,\n",
    "                         compare=True)"
   ]
  },
  {
   "cell_type": "code",
   "execution_count": 42,
   "metadata": {},
   "outputs": [
    {
     "data": {
      "text/plain": [
       "[(0.07500000000000001, 0.125),\n",
       " (1.5, 2.5),\n",
       " (51.75, 86.25),\n",
       " (54.75, 91.25),\n",
       " (70.875, 118.125),\n",
       " (33.0, 55.0)]"
      ]
     },
     "execution_count": 42,
     "metadata": {},
     "output_type": "execute_result"
    }
   ],
   "source": [
    "ranges"
   ]
  },
  {
   "cell_type": "code",
   "execution_count": 97,
   "metadata": {},
   "outputs": [
    {
     "data": {
      "text/plain": [
       "['xG', 'npxG', 'xA', 'SCA', 'Cmp', 'Att', 'Cmp%', 'Carries']"
      ]
     },
     "execution_count": 97,
     "metadata": {},
     "output_type": "execute_result"
    }
   ],
   "source": [
    "params"
   ]
  },
  {
   "cell_type": "code",
   "execution_count": 96,
   "metadata": {},
   "outputs": [
    {
     "data": {
      "text/plain": [
       "[[0.0, 0.0, 0.1, 2, 69, 73, 94.5, 44], [0.0, 0.0, 0.1, 1, 46, 51, 90.2, 40]]"
      ]
     },
     "execution_count": 96,
     "metadata": {},
     "output_type": "execute_result"
    }
   ],
   "source": [
    "values"
   ]
  },
  {
   "cell_type": "code",
   "execution_count": null,
   "metadata": {},
   "outputs": [],
   "source": []
  }
 ],
 "metadata": {
  "kernelspec": {
   "display_name": "Python 3",
   "language": "python",
   "name": "python3"
  },
  "language_info": {
   "codemirror_mode": {
    "name": "ipython",
    "version": 3
   },
   "file_extension": ".py",
   "mimetype": "text/x-python",
   "name": "python",
   "nbconvert_exporter": "python",
   "pygments_lexer": "ipython3",
   "version": "3.7.6"
  }
 },
 "nbformat": 4,
 "nbformat_minor": 4
}
