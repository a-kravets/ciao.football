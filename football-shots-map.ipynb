{
 "cells": [
  {
   "cell_type": "code",
   "execution_count": null,
   "metadata": {},
   "outputs": [],
   "source": [
    "#Load important libraries\n",
    "import matplotlib.pyplot as plt\n",
    "from mplsoccer.pitch import Pitch\n",
    "import pandas as pd\n",
    "from pandas import json_normalize\n",
    "import numpy as np\n",
    "import requests"
   ]
  },
  {
   "cell_type": "code",
   "execution_count": null,
   "metadata": {},
   "outputs": [],
   "source": [
    "#Load in all match events \n",
    "events = requests.get('https://raw.githubusercontent.com/statsbomb/open-data/master/data/events/8658.json')\n",
    "events = events.json()\n",
    "\n",
    "#Transform JSON into a dataframe \n",
    "df = json_normalize(events, sep = \"_\")"
   ]
  },
  {
   "cell_type": "code",
   "execution_count": null,
   "metadata": {},
   "outputs": [],
   "source": [
    "# Excluding (...) for large number of columns\n",
    "pd.set_option(\"display.max.columns\", None)\n",
    "\n",
    "df.head(8)"
   ]
  },
  {
   "cell_type": "code",
   "execution_count": null,
   "metadata": {},
   "outputs": [],
   "source": [
    "#Filtering shots made by France\n",
    "\n",
    "france_shots = df.loc[(df['type_name'] == 'Shot') & (df['team_name'] == \"France\")]"
   ]
  },
  {
   "cell_type": "code",
   "execution_count": null,
   "metadata": {},
   "outputs": [],
   "source": [
    "#Let's look what we got\n",
    "\n",
    "france_shots"
   ]
  },
  {
   "cell_type": "code",
   "execution_count": null,
   "metadata": {},
   "outputs": [],
   "source": [
    "fig, ax = plt.subplots(figsize=(15.6, 10.4))\n",
    "fig.set_facecolor('black')\n",
    "ax.patch.set_facecolor('black')\n",
    "\n",
    "pitch = Pitch(pitch_type='statsbomb', orientation='horizontal', positional=True, positional_color='#9A9A9A',\n",
    "              pitch_color='grass', line_color='#c7d5cc', goal_type='box',\n",
    "              constrained_layout=True, tight_layout=False)\n",
    "\n",
    "pitch.draw(ax=ax)\n",
    "\n",
    "#plt.gca().invert_yaxis()\n",
    "\n",
    "#for x in range(15):\n",
    "for x in range(len(france_shots['id'])):\n",
    "    #We can choose period 1, 2 or both\n",
    "    if france_shots['period'].iloc[x] == 1 or france_shots['period'].iloc[x] == 2:\n",
    "        # Size of scatter will depend on xG\n",
    "        size = np.sqrt(france_shots['shot_statsbomb_xg'].iloc[x])*200\n",
    "        if france_shots['shot_outcome_name'].iloc[x] == 'Goal':\n",
    "            '''\n",
    "            We can use the .plot() function to draw lines if we give it two pairs of coordinates:\n",
    "            *First must contain the start and end X locations\n",
    "            *Second gives the start and end Y locations\n",
    "            For example, plt.plot([0,1],[2,3]) will plot a line from location (0,2) to (1,3)\n",
    "            '''\n",
    "            \n",
    "            plt.plot((france_shots['location'].iloc[x][0],france_shots['shot_end_location'].iloc[x][0]),\\\n",
    "                     (france_shots['location'].iloc[x][1],france_shots['shot_end_location'].iloc[x][1]),color='blue')\n",
    "            plt.scatter(france_shots['location'].iloc[x][0],france_shots['location'].iloc[x][1],s=size,color='blue')\n",
    "        else:\n",
    "            plt.plot((france_shots['location'].iloc[x][0],france_shots['shot_end_location'].iloc[x][0]),\\\n",
    "                     (france_shots['location'].iloc[x][1],france_shots['shot_end_location'].iloc[x][1]),color='red')\n",
    "            plt.scatter(france_shots['location'].iloc[x][0],france_shots['location'].iloc[x][1],s=size,color='red')\n",
    "    \n",
    "plt.title('France Shots',color='white',size=20)"
   ]
  },
  {
   "cell_type": "code",
   "execution_count": null,
   "metadata": {},
   "outputs": [],
   "source": [
    "#Filtering shots made by France\n",
    "\n",
    "croatia_shots = df.loc[(df['type_name'] == 'Shot') & (df['team_name'] == \"Croatia\")]\n",
    "\n",
    "croatia_shots"
   ]
  },
  {
   "cell_type": "code",
   "execution_count": null,
   "metadata": {},
   "outputs": [],
   "source": [
    "fig, ax = plt.subplots(figsize=(15.6, 10.4))\n",
    "fig.set_facecolor('black')\n",
    "ax.patch.set_facecolor('black')\n",
    "\n",
    "pitch = Pitch(pitch_type='statsbomb', orientation='horizontal', positional=True, positional_color='#9A9A9A',\n",
    "              pitch_color='grass', line_color='#c7d5cc', goal_type='box',\n",
    "              constrained_layout=True, tight_layout=False)\n",
    "\n",
    "pitch.draw(ax=ax)\n",
    "\n",
    "#plt.gca().invert_yaxis()\n",
    "\n",
    "#for x in range(15):\n",
    "for x in range(len(croatia_shots['id'])):\n",
    "    #We can choose period 1, 2 or both\n",
    "    if croatia_shots['period'].iloc[x] == 1 or croatia_shots['period'].iloc[x] == 2:\n",
    "        # Size of scatter will depend on xG\n",
    "        size = np.sqrt(croatia_shots['shot_statsbomb_xg'].iloc[x])*200\n",
    "        if croatia_shots['shot_outcome_name'].iloc[x] == 'Goal':\n",
    "            '''\n",
    "            We can use the .plot() function to draw lines if we give it two pairs of coordinates:\n",
    "            *First must contain the start and end X locations\n",
    "            *Second gives the start and end Y locations\n",
    "            For example, plt.plot([0,1],[2,3]) will plot a line from location (0,2) to (1,3)\n",
    "            '''\n",
    "            plt.plot((croatia_shots['location'].iloc[x][0],croatia_shots['shot_end_location'].iloc[x][0]),\\\n",
    "                     (croatia_shots['location'].iloc[x][1],croatia_shots['shot_end_location'].iloc[x][1]),color='blue')\n",
    "            plt.scatter(croatia_shots['location'].iloc[x][0],croatia_shots['location'].iloc[x][1],s=size,color='blue')\n",
    "        else:\n",
    "            plt.plot((croatia_shots['location'].iloc[x][0],croatia_shots['shot_end_location'].iloc[x][0]),\\\n",
    "                     (croatia_shots['location'].iloc[x][1],croatia_shots['shot_end_location'].iloc[x][1]),color='red')\n",
    "            plt.scatter(croatia_shots['location'].iloc[x][0],croatia_shots['location'].iloc[x][1],s=size,color='red')\n",
    "    \n",
    "plt.title('Croatia Shots',color='white',size=20)"
   ]
  },
  {
   "cell_type": "code",
   "execution_count": null,
   "metadata": {},
   "outputs": [],
   "source": [
    "shots = df.loc[(df['type_name'] == 'Shot')]\n",
    "goals = shots.loc[shots['shot_outcome_name'] == 'Goal']"
   ]
  },
  {
   "cell_type": "code",
   "execution_count": null,
   "metadata": {},
   "outputs": [],
   "source": [
    "goals"
   ]
  },
  {
   "cell_type": "code",
   "execution_count": null,
   "metadata": {},
   "outputs": [],
   "source": []
  }
 ],
 "metadata": {
  "kernelspec": {
   "display_name": "Python 3",
   "language": "python",
   "name": "python3"
  },
  "language_info": {
   "codemirror_mode": {
    "name": "ipython",
    "version": 3
   },
   "file_extension": ".py",
   "mimetype": "text/x-python",
   "name": "python",
   "nbconvert_exporter": "python",
   "pygments_lexer": "ipython3",
   "version": "3.7.6"
  }
 },
 "nbformat": 4,
 "nbformat_minor": 4
}
