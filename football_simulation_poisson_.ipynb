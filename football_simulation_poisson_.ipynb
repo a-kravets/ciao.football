{
  "nbformat": 4,
  "nbformat_minor": 0,
  "metadata": {
    "colab": {
      "provenance": []
    },
    "kernelspec": {
      "name": "python3",
      "display_name": "Python 3"
    },
    "language_info": {
      "name": "python"
    }
  },
  "cells": [
    {
      "cell_type": "code",
      "execution_count": 129,
      "metadata": {
        "id": "1-K2c-EZheVa"
      },
      "outputs": [],
      "source": [
        "# This code is from\n",
        "# https://github.com/Friends-of-Tracking-Data-FoTD/SoccermaticsForPython/blob/master/11SimulateMatches.py\n",
        "# This code is adapted from\n",
        "# https://dashee87.github.io/football/python/predicting-football-results-with-statistical-modelling/\n",
        "# Original code\n",
        "# https://github.com/dashee87/blogScripts/blob/master/Jupyter/2017-06-04-predicting-football-results-with-statistical-modelling.ipynb\n",
        "\n",
        "import pandas as pd\n",
        "import matplotlib.pyplot as plt\n",
        "import numpy as np\n",
        "import seaborn\n",
        "from scipy.stats import poisson,skellam"
      ]
    },
    {
      "cell_type": "code",
      "source": [
        "epl = pd.read_csv(\"https://www.football-data.co.uk/mmz4281/2324/I1.csv\")\n",
        "epl = epl[['HomeTeam','AwayTeam','FTHG','FTAG', 'HS', 'AS', 'HST', 'AST']]\n",
        "epl = epl.rename(columns={'FTHG': 'HomeGoals', 'FTAG': 'AwayGoals'})\n",
        "#epl[:30]\n",
        "epl = epl[20:]\n",
        "epl[-10:]"
      ],
      "metadata": {
        "colab": {
          "base_uri": "https://localhost:8080/",
          "height": 363
        },
        "id": "x9YMlEaZhh10",
        "outputId": "6aa5da8e-6d3f-418e-c99e-e51bd07642b7"
      },
      "execution_count": 130,
      "outputs": [
        {
          "output_type": "execute_result",
          "data": {
            "text/plain": [
              "     HomeTeam     AwayTeam  HomeGoals  AwayGoals  HS  AS  HST  AST\n",
              "70     Empoli      Udinese          0          0  18  11    3    1\n",
              "71      Lecce     Sassuolo          1          1  13  14    4    1\n",
              "72      Inter      Bologna          2          2  14   8    5    3\n",
              "73   Juventus       Torino          2          0  17  10    6    1\n",
              "74      Genoa        Milan          0          1   7  12    1    3\n",
              "75      Monza  Salernitana          3          0  16   8    7    5\n",
              "76  Frosinone       Verona          2          1  11  16    2    4\n",
              "77      Lazio     Atalanta          3          2  12  12    4    4\n",
              "78   Cagliari         Roma          1          4  16  11    2    5\n",
              "79     Napoli   Fiorentina          1          3  16  12    4    3"
            ],
            "text/html": [
              "\n",
              "  <div id=\"df-0209b401-0836-4536-a49d-fe299ed073ce\" class=\"colab-df-container\">\n",
              "    <div>\n",
              "<style scoped>\n",
              "    .dataframe tbody tr th:only-of-type {\n",
              "        vertical-align: middle;\n",
              "    }\n",
              "\n",
              "    .dataframe tbody tr th {\n",
              "        vertical-align: top;\n",
              "    }\n",
              "\n",
              "    .dataframe thead th {\n",
              "        text-align: right;\n",
              "    }\n",
              "</style>\n",
              "<table border=\"1\" class=\"dataframe\">\n",
              "  <thead>\n",
              "    <tr style=\"text-align: right;\">\n",
              "      <th></th>\n",
              "      <th>HomeTeam</th>\n",
              "      <th>AwayTeam</th>\n",
              "      <th>HomeGoals</th>\n",
              "      <th>AwayGoals</th>\n",
              "      <th>HS</th>\n",
              "      <th>AS</th>\n",
              "      <th>HST</th>\n",
              "      <th>AST</th>\n",
              "    </tr>\n",
              "  </thead>\n",
              "  <tbody>\n",
              "    <tr>\n",
              "      <th>70</th>\n",
              "      <td>Empoli</td>\n",
              "      <td>Udinese</td>\n",
              "      <td>0</td>\n",
              "      <td>0</td>\n",
              "      <td>18</td>\n",
              "      <td>11</td>\n",
              "      <td>3</td>\n",
              "      <td>1</td>\n",
              "    </tr>\n",
              "    <tr>\n",
              "      <th>71</th>\n",
              "      <td>Lecce</td>\n",
              "      <td>Sassuolo</td>\n",
              "      <td>1</td>\n",
              "      <td>1</td>\n",
              "      <td>13</td>\n",
              "      <td>14</td>\n",
              "      <td>4</td>\n",
              "      <td>1</td>\n",
              "    </tr>\n",
              "    <tr>\n",
              "      <th>72</th>\n",
              "      <td>Inter</td>\n",
              "      <td>Bologna</td>\n",
              "      <td>2</td>\n",
              "      <td>2</td>\n",
              "      <td>14</td>\n",
              "      <td>8</td>\n",
              "      <td>5</td>\n",
              "      <td>3</td>\n",
              "    </tr>\n",
              "    <tr>\n",
              "      <th>73</th>\n",
              "      <td>Juventus</td>\n",
              "      <td>Torino</td>\n",
              "      <td>2</td>\n",
              "      <td>0</td>\n",
              "      <td>17</td>\n",
              "      <td>10</td>\n",
              "      <td>6</td>\n",
              "      <td>1</td>\n",
              "    </tr>\n",
              "    <tr>\n",
              "      <th>74</th>\n",
              "      <td>Genoa</td>\n",
              "      <td>Milan</td>\n",
              "      <td>0</td>\n",
              "      <td>1</td>\n",
              "      <td>7</td>\n",
              "      <td>12</td>\n",
              "      <td>1</td>\n",
              "      <td>3</td>\n",
              "    </tr>\n",
              "    <tr>\n",
              "      <th>75</th>\n",
              "      <td>Monza</td>\n",
              "      <td>Salernitana</td>\n",
              "      <td>3</td>\n",
              "      <td>0</td>\n",
              "      <td>16</td>\n",
              "      <td>8</td>\n",
              "      <td>7</td>\n",
              "      <td>5</td>\n",
              "    </tr>\n",
              "    <tr>\n",
              "      <th>76</th>\n",
              "      <td>Frosinone</td>\n",
              "      <td>Verona</td>\n",
              "      <td>2</td>\n",
              "      <td>1</td>\n",
              "      <td>11</td>\n",
              "      <td>16</td>\n",
              "      <td>2</td>\n",
              "      <td>4</td>\n",
              "    </tr>\n",
              "    <tr>\n",
              "      <th>77</th>\n",
              "      <td>Lazio</td>\n",
              "      <td>Atalanta</td>\n",
              "      <td>3</td>\n",
              "      <td>2</td>\n",
              "      <td>12</td>\n",
              "      <td>12</td>\n",
              "      <td>4</td>\n",
              "      <td>4</td>\n",
              "    </tr>\n",
              "    <tr>\n",
              "      <th>78</th>\n",
              "      <td>Cagliari</td>\n",
              "      <td>Roma</td>\n",
              "      <td>1</td>\n",
              "      <td>4</td>\n",
              "      <td>16</td>\n",
              "      <td>11</td>\n",
              "      <td>2</td>\n",
              "      <td>5</td>\n",
              "    </tr>\n",
              "    <tr>\n",
              "      <th>79</th>\n",
              "      <td>Napoli</td>\n",
              "      <td>Fiorentina</td>\n",
              "      <td>1</td>\n",
              "      <td>3</td>\n",
              "      <td>16</td>\n",
              "      <td>12</td>\n",
              "      <td>4</td>\n",
              "      <td>3</td>\n",
              "    </tr>\n",
              "  </tbody>\n",
              "</table>\n",
              "</div>\n",
              "    <div class=\"colab-df-buttons\">\n",
              "\n",
              "  <div class=\"colab-df-container\">\n",
              "    <button class=\"colab-df-convert\" onclick=\"convertToInteractive('df-0209b401-0836-4536-a49d-fe299ed073ce')\"\n",
              "            title=\"Convert this dataframe to an interactive table.\"\n",
              "            style=\"display:none;\">\n",
              "\n",
              "  <svg xmlns=\"http://www.w3.org/2000/svg\" height=\"24px\" viewBox=\"0 -960 960 960\">\n",
              "    <path d=\"M120-120v-720h720v720H120Zm60-500h600v-160H180v160Zm220 220h160v-160H400v160Zm0 220h160v-160H400v160ZM180-400h160v-160H180v160Zm440 0h160v-160H620v160ZM180-180h160v-160H180v160Zm440 0h160v-160H620v160Z\"/>\n",
              "  </svg>\n",
              "    </button>\n",
              "\n",
              "  <style>\n",
              "    .colab-df-container {\n",
              "      display:flex;\n",
              "      gap: 12px;\n",
              "    }\n",
              "\n",
              "    .colab-df-convert {\n",
              "      background-color: #E8F0FE;\n",
              "      border: none;\n",
              "      border-radius: 50%;\n",
              "      cursor: pointer;\n",
              "      display: none;\n",
              "      fill: #1967D2;\n",
              "      height: 32px;\n",
              "      padding: 0 0 0 0;\n",
              "      width: 32px;\n",
              "    }\n",
              "\n",
              "    .colab-df-convert:hover {\n",
              "      background-color: #E2EBFA;\n",
              "      box-shadow: 0px 1px 2px rgba(60, 64, 67, 0.3), 0px 1px 3px 1px rgba(60, 64, 67, 0.15);\n",
              "      fill: #174EA6;\n",
              "    }\n",
              "\n",
              "    .colab-df-buttons div {\n",
              "      margin-bottom: 4px;\n",
              "    }\n",
              "\n",
              "    [theme=dark] .colab-df-convert {\n",
              "      background-color: #3B4455;\n",
              "      fill: #D2E3FC;\n",
              "    }\n",
              "\n",
              "    [theme=dark] .colab-df-convert:hover {\n",
              "      background-color: #434B5C;\n",
              "      box-shadow: 0px 1px 3px 1px rgba(0, 0, 0, 0.15);\n",
              "      filter: drop-shadow(0px 1px 2px rgba(0, 0, 0, 0.3));\n",
              "      fill: #FFFFFF;\n",
              "    }\n",
              "  </style>\n",
              "\n",
              "    <script>\n",
              "      const buttonEl =\n",
              "        document.querySelector('#df-0209b401-0836-4536-a49d-fe299ed073ce button.colab-df-convert');\n",
              "      buttonEl.style.display =\n",
              "        google.colab.kernel.accessAllowed ? 'block' : 'none';\n",
              "\n",
              "      async function convertToInteractive(key) {\n",
              "        const element = document.querySelector('#df-0209b401-0836-4536-a49d-fe299ed073ce');\n",
              "        const dataTable =\n",
              "          await google.colab.kernel.invokeFunction('convertToInteractive',\n",
              "                                                    [key], {});\n",
              "        if (!dataTable) return;\n",
              "\n",
              "        const docLinkHtml = 'Like what you see? Visit the ' +\n",
              "          '<a target=\"_blank\" href=https://colab.research.google.com/notebooks/data_table.ipynb>data table notebook</a>'\n",
              "          + ' to learn more about interactive tables.';\n",
              "        element.innerHTML = '';\n",
              "        dataTable['output_type'] = 'display_data';\n",
              "        await google.colab.output.renderOutput(dataTable, element);\n",
              "        const docLink = document.createElement('div');\n",
              "        docLink.innerHTML = docLinkHtml;\n",
              "        element.appendChild(docLink);\n",
              "      }\n",
              "    </script>\n",
              "  </div>\n",
              "\n",
              "\n",
              "<div id=\"df-8ddb7038-92c4-4231-a6ea-c447f7bb0d15\">\n",
              "  <button class=\"colab-df-quickchart\" onclick=\"quickchart('df-8ddb7038-92c4-4231-a6ea-c447f7bb0d15')\"\n",
              "            title=\"Suggest charts.\"\n",
              "            style=\"display:none;\">\n",
              "\n",
              "<svg xmlns=\"http://www.w3.org/2000/svg\" height=\"24px\"viewBox=\"0 0 24 24\"\n",
              "     width=\"24px\">\n",
              "    <g>\n",
              "        <path d=\"M19 3H5c-1.1 0-2 .9-2 2v14c0 1.1.9 2 2 2h14c1.1 0 2-.9 2-2V5c0-1.1-.9-2-2-2zM9 17H7v-7h2v7zm4 0h-2V7h2v10zm4 0h-2v-4h2v4z\"/>\n",
              "    </g>\n",
              "</svg>\n",
              "  </button>\n",
              "\n",
              "<style>\n",
              "  .colab-df-quickchart {\n",
              "      --bg-color: #E8F0FE;\n",
              "      --fill-color: #1967D2;\n",
              "      --hover-bg-color: #E2EBFA;\n",
              "      --hover-fill-color: #174EA6;\n",
              "      --disabled-fill-color: #AAA;\n",
              "      --disabled-bg-color: #DDD;\n",
              "  }\n",
              "\n",
              "  [theme=dark] .colab-df-quickchart {\n",
              "      --bg-color: #3B4455;\n",
              "      --fill-color: #D2E3FC;\n",
              "      --hover-bg-color: #434B5C;\n",
              "      --hover-fill-color: #FFFFFF;\n",
              "      --disabled-bg-color: #3B4455;\n",
              "      --disabled-fill-color: #666;\n",
              "  }\n",
              "\n",
              "  .colab-df-quickchart {\n",
              "    background-color: var(--bg-color);\n",
              "    border: none;\n",
              "    border-radius: 50%;\n",
              "    cursor: pointer;\n",
              "    display: none;\n",
              "    fill: var(--fill-color);\n",
              "    height: 32px;\n",
              "    padding: 0;\n",
              "    width: 32px;\n",
              "  }\n",
              "\n",
              "  .colab-df-quickchart:hover {\n",
              "    background-color: var(--hover-bg-color);\n",
              "    box-shadow: 0 1px 2px rgba(60, 64, 67, 0.3), 0 1px 3px 1px rgba(60, 64, 67, 0.15);\n",
              "    fill: var(--button-hover-fill-color);\n",
              "  }\n",
              "\n",
              "  .colab-df-quickchart-complete:disabled,\n",
              "  .colab-df-quickchart-complete:disabled:hover {\n",
              "    background-color: var(--disabled-bg-color);\n",
              "    fill: var(--disabled-fill-color);\n",
              "    box-shadow: none;\n",
              "  }\n",
              "\n",
              "  .colab-df-spinner {\n",
              "    border: 2px solid var(--fill-color);\n",
              "    border-color: transparent;\n",
              "    border-bottom-color: var(--fill-color);\n",
              "    animation:\n",
              "      spin 1s steps(1) infinite;\n",
              "  }\n",
              "\n",
              "  @keyframes spin {\n",
              "    0% {\n",
              "      border-color: transparent;\n",
              "      border-bottom-color: var(--fill-color);\n",
              "      border-left-color: var(--fill-color);\n",
              "    }\n",
              "    20% {\n",
              "      border-color: transparent;\n",
              "      border-left-color: var(--fill-color);\n",
              "      border-top-color: var(--fill-color);\n",
              "    }\n",
              "    30% {\n",
              "      border-color: transparent;\n",
              "      border-left-color: var(--fill-color);\n",
              "      border-top-color: var(--fill-color);\n",
              "      border-right-color: var(--fill-color);\n",
              "    }\n",
              "    40% {\n",
              "      border-color: transparent;\n",
              "      border-right-color: var(--fill-color);\n",
              "      border-top-color: var(--fill-color);\n",
              "    }\n",
              "    60% {\n",
              "      border-color: transparent;\n",
              "      border-right-color: var(--fill-color);\n",
              "    }\n",
              "    80% {\n",
              "      border-color: transparent;\n",
              "      border-right-color: var(--fill-color);\n",
              "      border-bottom-color: var(--fill-color);\n",
              "    }\n",
              "    90% {\n",
              "      border-color: transparent;\n",
              "      border-bottom-color: var(--fill-color);\n",
              "    }\n",
              "  }\n",
              "</style>\n",
              "\n",
              "  <script>\n",
              "    async function quickchart(key) {\n",
              "      const quickchartButtonEl =\n",
              "        document.querySelector('#' + key + ' button');\n",
              "      quickchartButtonEl.disabled = true;  // To prevent multiple clicks.\n",
              "      quickchartButtonEl.classList.add('colab-df-spinner');\n",
              "      try {\n",
              "        const charts = await google.colab.kernel.invokeFunction(\n",
              "            'suggestCharts', [key], {});\n",
              "      } catch (error) {\n",
              "        console.error('Error during call to suggestCharts:', error);\n",
              "      }\n",
              "      quickchartButtonEl.classList.remove('colab-df-spinner');\n",
              "      quickchartButtonEl.classList.add('colab-df-quickchart-complete');\n",
              "    }\n",
              "    (() => {\n",
              "      let quickchartButtonEl =\n",
              "        document.querySelector('#df-8ddb7038-92c4-4231-a6ea-c447f7bb0d15 button');\n",
              "      quickchartButtonEl.style.display =\n",
              "        google.colab.kernel.accessAllowed ? 'block' : 'none';\n",
              "    })();\n",
              "  </script>\n",
              "</div>\n",
              "    </div>\n",
              "  </div>\n"
            ]
          },
          "metadata": {},
          "execution_count": 130
        }
      ]
    },
    {
      "cell_type": "code",
      "source": [
        "# Load csv\n",
        "\n",
        "sheet_id = \"\"\n",
        "sheet_name = \"\"\n",
        "url = f\"https://docs.google.com/spreadsheets/d/{sheet_id}/gviz/tq?tqx=out:csv&sheet={sheet_name}\"\n",
        "seriea_data = pd.read_csv(url)\n",
        "seriea_data"
      ],
      "metadata": {
        "colab": {
          "base_uri": "https://localhost:8080/",
          "height": 706
        },
        "id": "W2ac_TeWHFEQ",
        "outputId": "664bc58f-f0f8-40ec-f073-181418e06077"
      },
      "execution_count": 131,
      "outputs": [
        {
          "output_type": "execute_result",
          "data": {
            "text/plain": [
              "    Rk        Squad  MP  W  D  L  GF  GA  GD  Pts  ...   xGD  xGD/90  \\\n",
              "0    1        Milan   8  7  0  1  16   8   8   21  ...   5.0    0.63   \n",
              "1    2        Inter   8  6  1  1  21   5  16   19  ...   9.4    1.18   \n",
              "2    3     Juventus   8  5  2  1  14   6   8   17  ...   6.6    0.82   \n",
              "3    4   Fiorentina   8  5  2  1  18  11   7   17  ...  -1.3   -0.16   \n",
              "4    5       Napoli   8  4  2  2  17   9   8   14  ...  10.5    1.31   \n",
              "5    6     Atalanta   8  4  1  3  13   8   5   13  ...   4.5    0.56   \n",
              "6    7        Monza   8  3  3  2   8   7   1   12  ...   2.1    0.27   \n",
              "7    8    Frosinone   8  3  3  2  11  11   0   12  ...   0.5    0.06   \n",
              "8    9        Lecce   8  3  3  2   9  10  -1   12  ...  -4.5   -0.56   \n",
              "9   10         Roma   8  3  2  3  19  12   7   11  ...   5.1    0.64   \n",
              "10  11      Bologna   8  2  5  1   8   6   2   11  ...   2.1    0.26   \n",
              "11  12     Sassuolo   8  3  1  4  12  14  -2   10  ...  -4.8   -0.60   \n",
              "12  13        Lazio   8  3  1  4  10  12  -2   10  ...  -2.0   -0.25   \n",
              "13  14       Torino   8  2  3  3   6   9  -3    9  ...  -2.7   -0.34   \n",
              "14  15        Genoa   8  2  2  4  10  12  -2    8  ...  -3.2   -0.40   \n",
              "15  16       Verona   8  2  2  4   5   8  -3    8  ...  -4.5   -0.57   \n",
              "16  17      Udinese   8  0  5  3   4  12  -8    5  ...  -2.5   -0.31   \n",
              "17  18       Empoli   8  1  1  6   1  16 -15    4  ...  -5.0   -0.62   \n",
              "18  19  Salernitana   8  0  3  5   4  17 -13    3  ... -10.0   -1.25   \n",
              "19  20     Cagliari   8  0  2  6   3  16 -13    2  ...  -5.3   -0.67   \n",
              "\n",
              "    Unnamed: 15  Prev season Rank V  Rank Value  Squad Rank       AVG  \\\n",
              "0           NaN            0.250000    1.000000    0.333333  0.527778   \n",
              "1           NaN            0.333333    0.500000    0.500000  0.444444   \n",
              "2           NaN            0.142857    0.333333    0.250000  0.242063   \n",
              "3           NaN            0.125000    0.250000    0.125000  0.166667   \n",
              "4           NaN            1.000000    0.200000    1.000000  0.733333   \n",
              "5           NaN            0.200000    0.166667    0.166667  0.177778   \n",
              "6           NaN            0.090909    0.142857    0.071429  0.101732   \n",
              "7           NaN                 NaN    0.125000    0.050000  0.087500   \n",
              "8           NaN            0.062500    0.111111    0.055556  0.076389   \n",
              "9           NaN            0.166667    0.100000    0.200000  0.155556   \n",
              "10          NaN            0.111111    0.090909    0.100000  0.100673   \n",
              "11          NaN            0.076923    0.083333    0.090909  0.083722   \n",
              "12          NaN            0.500000    0.076923    0.142857  0.239927   \n",
              "13          NaN            0.100000    0.071429    0.111111  0.094180   \n",
              "14          NaN                 NaN    0.066667    0.076923  0.071795   \n",
              "15          NaN            0.055556    0.062500    0.058824  0.058960   \n",
              "16          NaN            0.083333    0.058824    0.083333  0.075163   \n",
              "17          NaN            0.071429    0.055556    0.062500  0.063161   \n",
              "18          NaN            0.066667    0.052632    0.066667  0.061988   \n",
              "19          NaN                 NaN    0.050000    0.052632  0.051316   \n",
              "\n",
              "    AVG Rank  Correl Rank/Table  avg_rank_weighted  \n",
              "0          2           0.873684           0.500000  \n",
              "1          3                NaN           0.333333  \n",
              "2          4                NaN           0.250000  \n",
              "3          7                NaN           0.142857  \n",
              "4          1                NaN           1.000000  \n",
              "5          6                NaN           0.166667  \n",
              "6          9                NaN           0.111111  \n",
              "7         12                NaN           0.083333  \n",
              "8         14                NaN           0.071429  \n",
              "9          8                NaN           0.125000  \n",
              "10        10                NaN           0.100000  \n",
              "11        13                NaN           0.076923  \n",
              "12         5                NaN           0.200000  \n",
              "13        11                NaN           0.090909  \n",
              "14        16                NaN           0.062500  \n",
              "15        19                NaN           0.052632  \n",
              "16        15                NaN           0.066667  \n",
              "17        17                NaN           0.058824  \n",
              "18        18                NaN           0.055556  \n",
              "19        20                NaN           0.050000  \n",
              "\n",
              "[20 rows x 23 columns]"
            ],
            "text/html": [
              "\n",
              "  <div id=\"df-02f97d83-0b44-4c5a-a04e-c234f6ffa067\" class=\"colab-df-container\">\n",
              "    <div>\n",
              "<style scoped>\n",
              "    .dataframe tbody tr th:only-of-type {\n",
              "        vertical-align: middle;\n",
              "    }\n",
              "\n",
              "    .dataframe tbody tr th {\n",
              "        vertical-align: top;\n",
              "    }\n",
              "\n",
              "    .dataframe thead th {\n",
              "        text-align: right;\n",
              "    }\n",
              "</style>\n",
              "<table border=\"1\" class=\"dataframe\">\n",
              "  <thead>\n",
              "    <tr style=\"text-align: right;\">\n",
              "      <th></th>\n",
              "      <th>Rk</th>\n",
              "      <th>Squad</th>\n",
              "      <th>MP</th>\n",
              "      <th>W</th>\n",
              "      <th>D</th>\n",
              "      <th>L</th>\n",
              "      <th>GF</th>\n",
              "      <th>GA</th>\n",
              "      <th>GD</th>\n",
              "      <th>Pts</th>\n",
              "      <th>...</th>\n",
              "      <th>xGD</th>\n",
              "      <th>xGD/90</th>\n",
              "      <th>Unnamed: 15</th>\n",
              "      <th>Prev season Rank V</th>\n",
              "      <th>Rank Value</th>\n",
              "      <th>Squad Rank</th>\n",
              "      <th>AVG</th>\n",
              "      <th>AVG Rank</th>\n",
              "      <th>Correl Rank/Table</th>\n",
              "      <th>avg_rank_weighted</th>\n",
              "    </tr>\n",
              "  </thead>\n",
              "  <tbody>\n",
              "    <tr>\n",
              "      <th>0</th>\n",
              "      <td>1</td>\n",
              "      <td>Milan</td>\n",
              "      <td>8</td>\n",
              "      <td>7</td>\n",
              "      <td>0</td>\n",
              "      <td>1</td>\n",
              "      <td>16</td>\n",
              "      <td>8</td>\n",
              "      <td>8</td>\n",
              "      <td>21</td>\n",
              "      <td>...</td>\n",
              "      <td>5.0</td>\n",
              "      <td>0.63</td>\n",
              "      <td>NaN</td>\n",
              "      <td>0.250000</td>\n",
              "      <td>1.000000</td>\n",
              "      <td>0.333333</td>\n",
              "      <td>0.527778</td>\n",
              "      <td>2</td>\n",
              "      <td>0.873684</td>\n",
              "      <td>0.500000</td>\n",
              "    </tr>\n",
              "    <tr>\n",
              "      <th>1</th>\n",
              "      <td>2</td>\n",
              "      <td>Inter</td>\n",
              "      <td>8</td>\n",
              "      <td>6</td>\n",
              "      <td>1</td>\n",
              "      <td>1</td>\n",
              "      <td>21</td>\n",
              "      <td>5</td>\n",
              "      <td>16</td>\n",
              "      <td>19</td>\n",
              "      <td>...</td>\n",
              "      <td>9.4</td>\n",
              "      <td>1.18</td>\n",
              "      <td>NaN</td>\n",
              "      <td>0.333333</td>\n",
              "      <td>0.500000</td>\n",
              "      <td>0.500000</td>\n",
              "      <td>0.444444</td>\n",
              "      <td>3</td>\n",
              "      <td>NaN</td>\n",
              "      <td>0.333333</td>\n",
              "    </tr>\n",
              "    <tr>\n",
              "      <th>2</th>\n",
              "      <td>3</td>\n",
              "      <td>Juventus</td>\n",
              "      <td>8</td>\n",
              "      <td>5</td>\n",
              "      <td>2</td>\n",
              "      <td>1</td>\n",
              "      <td>14</td>\n",
              "      <td>6</td>\n",
              "      <td>8</td>\n",
              "      <td>17</td>\n",
              "      <td>...</td>\n",
              "      <td>6.6</td>\n",
              "      <td>0.82</td>\n",
              "      <td>NaN</td>\n",
              "      <td>0.142857</td>\n",
              "      <td>0.333333</td>\n",
              "      <td>0.250000</td>\n",
              "      <td>0.242063</td>\n",
              "      <td>4</td>\n",
              "      <td>NaN</td>\n",
              "      <td>0.250000</td>\n",
              "    </tr>\n",
              "    <tr>\n",
              "      <th>3</th>\n",
              "      <td>4</td>\n",
              "      <td>Fiorentina</td>\n",
              "      <td>8</td>\n",
              "      <td>5</td>\n",
              "      <td>2</td>\n",
              "      <td>1</td>\n",
              "      <td>18</td>\n",
              "      <td>11</td>\n",
              "      <td>7</td>\n",
              "      <td>17</td>\n",
              "      <td>...</td>\n",
              "      <td>-1.3</td>\n",
              "      <td>-0.16</td>\n",
              "      <td>NaN</td>\n",
              "      <td>0.125000</td>\n",
              "      <td>0.250000</td>\n",
              "      <td>0.125000</td>\n",
              "      <td>0.166667</td>\n",
              "      <td>7</td>\n",
              "      <td>NaN</td>\n",
              "      <td>0.142857</td>\n",
              "    </tr>\n",
              "    <tr>\n",
              "      <th>4</th>\n",
              "      <td>5</td>\n",
              "      <td>Napoli</td>\n",
              "      <td>8</td>\n",
              "      <td>4</td>\n",
              "      <td>2</td>\n",
              "      <td>2</td>\n",
              "      <td>17</td>\n",
              "      <td>9</td>\n",
              "      <td>8</td>\n",
              "      <td>14</td>\n",
              "      <td>...</td>\n",
              "      <td>10.5</td>\n",
              "      <td>1.31</td>\n",
              "      <td>NaN</td>\n",
              "      <td>1.000000</td>\n",
              "      <td>0.200000</td>\n",
              "      <td>1.000000</td>\n",
              "      <td>0.733333</td>\n",
              "      <td>1</td>\n",
              "      <td>NaN</td>\n",
              "      <td>1.000000</td>\n",
              "    </tr>\n",
              "    <tr>\n",
              "      <th>5</th>\n",
              "      <td>6</td>\n",
              "      <td>Atalanta</td>\n",
              "      <td>8</td>\n",
              "      <td>4</td>\n",
              "      <td>1</td>\n",
              "      <td>3</td>\n",
              "      <td>13</td>\n",
              "      <td>8</td>\n",
              "      <td>5</td>\n",
              "      <td>13</td>\n",
              "      <td>...</td>\n",
              "      <td>4.5</td>\n",
              "      <td>0.56</td>\n",
              "      <td>NaN</td>\n",
              "      <td>0.200000</td>\n",
              "      <td>0.166667</td>\n",
              "      <td>0.166667</td>\n",
              "      <td>0.177778</td>\n",
              "      <td>6</td>\n",
              "      <td>NaN</td>\n",
              "      <td>0.166667</td>\n",
              "    </tr>\n",
              "    <tr>\n",
              "      <th>6</th>\n",
              "      <td>7</td>\n",
              "      <td>Monza</td>\n",
              "      <td>8</td>\n",
              "      <td>3</td>\n",
              "      <td>3</td>\n",
              "      <td>2</td>\n",
              "      <td>8</td>\n",
              "      <td>7</td>\n",
              "      <td>1</td>\n",
              "      <td>12</td>\n",
              "      <td>...</td>\n",
              "      <td>2.1</td>\n",
              "      <td>0.27</td>\n",
              "      <td>NaN</td>\n",
              "      <td>0.090909</td>\n",
              "      <td>0.142857</td>\n",
              "      <td>0.071429</td>\n",
              "      <td>0.101732</td>\n",
              "      <td>9</td>\n",
              "      <td>NaN</td>\n",
              "      <td>0.111111</td>\n",
              "    </tr>\n",
              "    <tr>\n",
              "      <th>7</th>\n",
              "      <td>8</td>\n",
              "      <td>Frosinone</td>\n",
              "      <td>8</td>\n",
              "      <td>3</td>\n",
              "      <td>3</td>\n",
              "      <td>2</td>\n",
              "      <td>11</td>\n",
              "      <td>11</td>\n",
              "      <td>0</td>\n",
              "      <td>12</td>\n",
              "      <td>...</td>\n",
              "      <td>0.5</td>\n",
              "      <td>0.06</td>\n",
              "      <td>NaN</td>\n",
              "      <td>NaN</td>\n",
              "      <td>0.125000</td>\n",
              "      <td>0.050000</td>\n",
              "      <td>0.087500</td>\n",
              "      <td>12</td>\n",
              "      <td>NaN</td>\n",
              "      <td>0.083333</td>\n",
              "    </tr>\n",
              "    <tr>\n",
              "      <th>8</th>\n",
              "      <td>9</td>\n",
              "      <td>Lecce</td>\n",
              "      <td>8</td>\n",
              "      <td>3</td>\n",
              "      <td>3</td>\n",
              "      <td>2</td>\n",
              "      <td>9</td>\n",
              "      <td>10</td>\n",
              "      <td>-1</td>\n",
              "      <td>12</td>\n",
              "      <td>...</td>\n",
              "      <td>-4.5</td>\n",
              "      <td>-0.56</td>\n",
              "      <td>NaN</td>\n",
              "      <td>0.062500</td>\n",
              "      <td>0.111111</td>\n",
              "      <td>0.055556</td>\n",
              "      <td>0.076389</td>\n",
              "      <td>14</td>\n",
              "      <td>NaN</td>\n",
              "      <td>0.071429</td>\n",
              "    </tr>\n",
              "    <tr>\n",
              "      <th>9</th>\n",
              "      <td>10</td>\n",
              "      <td>Roma</td>\n",
              "      <td>8</td>\n",
              "      <td>3</td>\n",
              "      <td>2</td>\n",
              "      <td>3</td>\n",
              "      <td>19</td>\n",
              "      <td>12</td>\n",
              "      <td>7</td>\n",
              "      <td>11</td>\n",
              "      <td>...</td>\n",
              "      <td>5.1</td>\n",
              "      <td>0.64</td>\n",
              "      <td>NaN</td>\n",
              "      <td>0.166667</td>\n",
              "      <td>0.100000</td>\n",
              "      <td>0.200000</td>\n",
              "      <td>0.155556</td>\n",
              "      <td>8</td>\n",
              "      <td>NaN</td>\n",
              "      <td>0.125000</td>\n",
              "    </tr>\n",
              "    <tr>\n",
              "      <th>10</th>\n",
              "      <td>11</td>\n",
              "      <td>Bologna</td>\n",
              "      <td>8</td>\n",
              "      <td>2</td>\n",
              "      <td>5</td>\n",
              "      <td>1</td>\n",
              "      <td>8</td>\n",
              "      <td>6</td>\n",
              "      <td>2</td>\n",
              "      <td>11</td>\n",
              "      <td>...</td>\n",
              "      <td>2.1</td>\n",
              "      <td>0.26</td>\n",
              "      <td>NaN</td>\n",
              "      <td>0.111111</td>\n",
              "      <td>0.090909</td>\n",
              "      <td>0.100000</td>\n",
              "      <td>0.100673</td>\n",
              "      <td>10</td>\n",
              "      <td>NaN</td>\n",
              "      <td>0.100000</td>\n",
              "    </tr>\n",
              "    <tr>\n",
              "      <th>11</th>\n",
              "      <td>12</td>\n",
              "      <td>Sassuolo</td>\n",
              "      <td>8</td>\n",
              "      <td>3</td>\n",
              "      <td>1</td>\n",
              "      <td>4</td>\n",
              "      <td>12</td>\n",
              "      <td>14</td>\n",
              "      <td>-2</td>\n",
              "      <td>10</td>\n",
              "      <td>...</td>\n",
              "      <td>-4.8</td>\n",
              "      <td>-0.60</td>\n",
              "      <td>NaN</td>\n",
              "      <td>0.076923</td>\n",
              "      <td>0.083333</td>\n",
              "      <td>0.090909</td>\n",
              "      <td>0.083722</td>\n",
              "      <td>13</td>\n",
              "      <td>NaN</td>\n",
              "      <td>0.076923</td>\n",
              "    </tr>\n",
              "    <tr>\n",
              "      <th>12</th>\n",
              "      <td>13</td>\n",
              "      <td>Lazio</td>\n",
              "      <td>8</td>\n",
              "      <td>3</td>\n",
              "      <td>1</td>\n",
              "      <td>4</td>\n",
              "      <td>10</td>\n",
              "      <td>12</td>\n",
              "      <td>-2</td>\n",
              "      <td>10</td>\n",
              "      <td>...</td>\n",
              "      <td>-2.0</td>\n",
              "      <td>-0.25</td>\n",
              "      <td>NaN</td>\n",
              "      <td>0.500000</td>\n",
              "      <td>0.076923</td>\n",
              "      <td>0.142857</td>\n",
              "      <td>0.239927</td>\n",
              "      <td>5</td>\n",
              "      <td>NaN</td>\n",
              "      <td>0.200000</td>\n",
              "    </tr>\n",
              "    <tr>\n",
              "      <th>13</th>\n",
              "      <td>14</td>\n",
              "      <td>Torino</td>\n",
              "      <td>8</td>\n",
              "      <td>2</td>\n",
              "      <td>3</td>\n",
              "      <td>3</td>\n",
              "      <td>6</td>\n",
              "      <td>9</td>\n",
              "      <td>-3</td>\n",
              "      <td>9</td>\n",
              "      <td>...</td>\n",
              "      <td>-2.7</td>\n",
              "      <td>-0.34</td>\n",
              "      <td>NaN</td>\n",
              "      <td>0.100000</td>\n",
              "      <td>0.071429</td>\n",
              "      <td>0.111111</td>\n",
              "      <td>0.094180</td>\n",
              "      <td>11</td>\n",
              "      <td>NaN</td>\n",
              "      <td>0.090909</td>\n",
              "    </tr>\n",
              "    <tr>\n",
              "      <th>14</th>\n",
              "      <td>15</td>\n",
              "      <td>Genoa</td>\n",
              "      <td>8</td>\n",
              "      <td>2</td>\n",
              "      <td>2</td>\n",
              "      <td>4</td>\n",
              "      <td>10</td>\n",
              "      <td>12</td>\n",
              "      <td>-2</td>\n",
              "      <td>8</td>\n",
              "      <td>...</td>\n",
              "      <td>-3.2</td>\n",
              "      <td>-0.40</td>\n",
              "      <td>NaN</td>\n",
              "      <td>NaN</td>\n",
              "      <td>0.066667</td>\n",
              "      <td>0.076923</td>\n",
              "      <td>0.071795</td>\n",
              "      <td>16</td>\n",
              "      <td>NaN</td>\n",
              "      <td>0.062500</td>\n",
              "    </tr>\n",
              "    <tr>\n",
              "      <th>15</th>\n",
              "      <td>16</td>\n",
              "      <td>Verona</td>\n",
              "      <td>8</td>\n",
              "      <td>2</td>\n",
              "      <td>2</td>\n",
              "      <td>4</td>\n",
              "      <td>5</td>\n",
              "      <td>8</td>\n",
              "      <td>-3</td>\n",
              "      <td>8</td>\n",
              "      <td>...</td>\n",
              "      <td>-4.5</td>\n",
              "      <td>-0.57</td>\n",
              "      <td>NaN</td>\n",
              "      <td>0.055556</td>\n",
              "      <td>0.062500</td>\n",
              "      <td>0.058824</td>\n",
              "      <td>0.058960</td>\n",
              "      <td>19</td>\n",
              "      <td>NaN</td>\n",
              "      <td>0.052632</td>\n",
              "    </tr>\n",
              "    <tr>\n",
              "      <th>16</th>\n",
              "      <td>17</td>\n",
              "      <td>Udinese</td>\n",
              "      <td>8</td>\n",
              "      <td>0</td>\n",
              "      <td>5</td>\n",
              "      <td>3</td>\n",
              "      <td>4</td>\n",
              "      <td>12</td>\n",
              "      <td>-8</td>\n",
              "      <td>5</td>\n",
              "      <td>...</td>\n",
              "      <td>-2.5</td>\n",
              "      <td>-0.31</td>\n",
              "      <td>NaN</td>\n",
              "      <td>0.083333</td>\n",
              "      <td>0.058824</td>\n",
              "      <td>0.083333</td>\n",
              "      <td>0.075163</td>\n",
              "      <td>15</td>\n",
              "      <td>NaN</td>\n",
              "      <td>0.066667</td>\n",
              "    </tr>\n",
              "    <tr>\n",
              "      <th>17</th>\n",
              "      <td>18</td>\n",
              "      <td>Empoli</td>\n",
              "      <td>8</td>\n",
              "      <td>1</td>\n",
              "      <td>1</td>\n",
              "      <td>6</td>\n",
              "      <td>1</td>\n",
              "      <td>16</td>\n",
              "      <td>-15</td>\n",
              "      <td>4</td>\n",
              "      <td>...</td>\n",
              "      <td>-5.0</td>\n",
              "      <td>-0.62</td>\n",
              "      <td>NaN</td>\n",
              "      <td>0.071429</td>\n",
              "      <td>0.055556</td>\n",
              "      <td>0.062500</td>\n",
              "      <td>0.063161</td>\n",
              "      <td>17</td>\n",
              "      <td>NaN</td>\n",
              "      <td>0.058824</td>\n",
              "    </tr>\n",
              "    <tr>\n",
              "      <th>18</th>\n",
              "      <td>19</td>\n",
              "      <td>Salernitana</td>\n",
              "      <td>8</td>\n",
              "      <td>0</td>\n",
              "      <td>3</td>\n",
              "      <td>5</td>\n",
              "      <td>4</td>\n",
              "      <td>17</td>\n",
              "      <td>-13</td>\n",
              "      <td>3</td>\n",
              "      <td>...</td>\n",
              "      <td>-10.0</td>\n",
              "      <td>-1.25</td>\n",
              "      <td>NaN</td>\n",
              "      <td>0.066667</td>\n",
              "      <td>0.052632</td>\n",
              "      <td>0.066667</td>\n",
              "      <td>0.061988</td>\n",
              "      <td>18</td>\n",
              "      <td>NaN</td>\n",
              "      <td>0.055556</td>\n",
              "    </tr>\n",
              "    <tr>\n",
              "      <th>19</th>\n",
              "      <td>20</td>\n",
              "      <td>Cagliari</td>\n",
              "      <td>8</td>\n",
              "      <td>0</td>\n",
              "      <td>2</td>\n",
              "      <td>6</td>\n",
              "      <td>3</td>\n",
              "      <td>16</td>\n",
              "      <td>-13</td>\n",
              "      <td>2</td>\n",
              "      <td>...</td>\n",
              "      <td>-5.3</td>\n",
              "      <td>-0.67</td>\n",
              "      <td>NaN</td>\n",
              "      <td>NaN</td>\n",
              "      <td>0.050000</td>\n",
              "      <td>0.052632</td>\n",
              "      <td>0.051316</td>\n",
              "      <td>20</td>\n",
              "      <td>NaN</td>\n",
              "      <td>0.050000</td>\n",
              "    </tr>\n",
              "  </tbody>\n",
              "</table>\n",
              "<p>20 rows × 23 columns</p>\n",
              "</div>\n",
              "    <div class=\"colab-df-buttons\">\n",
              "\n",
              "  <div class=\"colab-df-container\">\n",
              "    <button class=\"colab-df-convert\" onclick=\"convertToInteractive('df-02f97d83-0b44-4c5a-a04e-c234f6ffa067')\"\n",
              "            title=\"Convert this dataframe to an interactive table.\"\n",
              "            style=\"display:none;\">\n",
              "\n",
              "  <svg xmlns=\"http://www.w3.org/2000/svg\" height=\"24px\" viewBox=\"0 -960 960 960\">\n",
              "    <path d=\"M120-120v-720h720v720H120Zm60-500h600v-160H180v160Zm220 220h160v-160H400v160Zm0 220h160v-160H400v160ZM180-400h160v-160H180v160Zm440 0h160v-160H620v160ZM180-180h160v-160H180v160Zm440 0h160v-160H620v160Z\"/>\n",
              "  </svg>\n",
              "    </button>\n",
              "\n",
              "  <style>\n",
              "    .colab-df-container {\n",
              "      display:flex;\n",
              "      gap: 12px;\n",
              "    }\n",
              "\n",
              "    .colab-df-convert {\n",
              "      background-color: #E8F0FE;\n",
              "      border: none;\n",
              "      border-radius: 50%;\n",
              "      cursor: pointer;\n",
              "      display: none;\n",
              "      fill: #1967D2;\n",
              "      height: 32px;\n",
              "      padding: 0 0 0 0;\n",
              "      width: 32px;\n",
              "    }\n",
              "\n",
              "    .colab-df-convert:hover {\n",
              "      background-color: #E2EBFA;\n",
              "      box-shadow: 0px 1px 2px rgba(60, 64, 67, 0.3), 0px 1px 3px 1px rgba(60, 64, 67, 0.15);\n",
              "      fill: #174EA6;\n",
              "    }\n",
              "\n",
              "    .colab-df-buttons div {\n",
              "      margin-bottom: 4px;\n",
              "    }\n",
              "\n",
              "    [theme=dark] .colab-df-convert {\n",
              "      background-color: #3B4455;\n",
              "      fill: #D2E3FC;\n",
              "    }\n",
              "\n",
              "    [theme=dark] .colab-df-convert:hover {\n",
              "      background-color: #434B5C;\n",
              "      box-shadow: 0px 1px 3px 1px rgba(0, 0, 0, 0.15);\n",
              "      filter: drop-shadow(0px 1px 2px rgba(0, 0, 0, 0.3));\n",
              "      fill: #FFFFFF;\n",
              "    }\n",
              "  </style>\n",
              "\n",
              "    <script>\n",
              "      const buttonEl =\n",
              "        document.querySelector('#df-02f97d83-0b44-4c5a-a04e-c234f6ffa067 button.colab-df-convert');\n",
              "      buttonEl.style.display =\n",
              "        google.colab.kernel.accessAllowed ? 'block' : 'none';\n",
              "\n",
              "      async function convertToInteractive(key) {\n",
              "        const element = document.querySelector('#df-02f97d83-0b44-4c5a-a04e-c234f6ffa067');\n",
              "        const dataTable =\n",
              "          await google.colab.kernel.invokeFunction('convertToInteractive',\n",
              "                                                    [key], {});\n",
              "        if (!dataTable) return;\n",
              "\n",
              "        const docLinkHtml = 'Like what you see? Visit the ' +\n",
              "          '<a target=\"_blank\" href=https://colab.research.google.com/notebooks/data_table.ipynb>data table notebook</a>'\n",
              "          + ' to learn more about interactive tables.';\n",
              "        element.innerHTML = '';\n",
              "        dataTable['output_type'] = 'display_data';\n",
              "        await google.colab.output.renderOutput(dataTable, element);\n",
              "        const docLink = document.createElement('div');\n",
              "        docLink.innerHTML = docLinkHtml;\n",
              "        element.appendChild(docLink);\n",
              "      }\n",
              "    </script>\n",
              "  </div>\n",
              "\n",
              "\n",
              "<div id=\"df-09b28a1d-1082-4232-9857-d235273fe0a3\">\n",
              "  <button class=\"colab-df-quickchart\" onclick=\"quickchart('df-09b28a1d-1082-4232-9857-d235273fe0a3')\"\n",
              "            title=\"Suggest charts.\"\n",
              "            style=\"display:none;\">\n",
              "\n",
              "<svg xmlns=\"http://www.w3.org/2000/svg\" height=\"24px\"viewBox=\"0 0 24 24\"\n",
              "     width=\"24px\">\n",
              "    <g>\n",
              "        <path d=\"M19 3H5c-1.1 0-2 .9-2 2v14c0 1.1.9 2 2 2h14c1.1 0 2-.9 2-2V5c0-1.1-.9-2-2-2zM9 17H7v-7h2v7zm4 0h-2V7h2v10zm4 0h-2v-4h2v4z\"/>\n",
              "    </g>\n",
              "</svg>\n",
              "  </button>\n",
              "\n",
              "<style>\n",
              "  .colab-df-quickchart {\n",
              "      --bg-color: #E8F0FE;\n",
              "      --fill-color: #1967D2;\n",
              "      --hover-bg-color: #E2EBFA;\n",
              "      --hover-fill-color: #174EA6;\n",
              "      --disabled-fill-color: #AAA;\n",
              "      --disabled-bg-color: #DDD;\n",
              "  }\n",
              "\n",
              "  [theme=dark] .colab-df-quickchart {\n",
              "      --bg-color: #3B4455;\n",
              "      --fill-color: #D2E3FC;\n",
              "      --hover-bg-color: #434B5C;\n",
              "      --hover-fill-color: #FFFFFF;\n",
              "      --disabled-bg-color: #3B4455;\n",
              "      --disabled-fill-color: #666;\n",
              "  }\n",
              "\n",
              "  .colab-df-quickchart {\n",
              "    background-color: var(--bg-color);\n",
              "    border: none;\n",
              "    border-radius: 50%;\n",
              "    cursor: pointer;\n",
              "    display: none;\n",
              "    fill: var(--fill-color);\n",
              "    height: 32px;\n",
              "    padding: 0;\n",
              "    width: 32px;\n",
              "  }\n",
              "\n",
              "  .colab-df-quickchart:hover {\n",
              "    background-color: var(--hover-bg-color);\n",
              "    box-shadow: 0 1px 2px rgba(60, 64, 67, 0.3), 0 1px 3px 1px rgba(60, 64, 67, 0.15);\n",
              "    fill: var(--button-hover-fill-color);\n",
              "  }\n",
              "\n",
              "  .colab-df-quickchart-complete:disabled,\n",
              "  .colab-df-quickchart-complete:disabled:hover {\n",
              "    background-color: var(--disabled-bg-color);\n",
              "    fill: var(--disabled-fill-color);\n",
              "    box-shadow: none;\n",
              "  }\n",
              "\n",
              "  .colab-df-spinner {\n",
              "    border: 2px solid var(--fill-color);\n",
              "    border-color: transparent;\n",
              "    border-bottom-color: var(--fill-color);\n",
              "    animation:\n",
              "      spin 1s steps(1) infinite;\n",
              "  }\n",
              "\n",
              "  @keyframes spin {\n",
              "    0% {\n",
              "      border-color: transparent;\n",
              "      border-bottom-color: var(--fill-color);\n",
              "      border-left-color: var(--fill-color);\n",
              "    }\n",
              "    20% {\n",
              "      border-color: transparent;\n",
              "      border-left-color: var(--fill-color);\n",
              "      border-top-color: var(--fill-color);\n",
              "    }\n",
              "    30% {\n",
              "      border-color: transparent;\n",
              "      border-left-color: var(--fill-color);\n",
              "      border-top-color: var(--fill-color);\n",
              "      border-right-color: var(--fill-color);\n",
              "    }\n",
              "    40% {\n",
              "      border-color: transparent;\n",
              "      border-right-color: var(--fill-color);\n",
              "      border-top-color: var(--fill-color);\n",
              "    }\n",
              "    60% {\n",
              "      border-color: transparent;\n",
              "      border-right-color: var(--fill-color);\n",
              "    }\n",
              "    80% {\n",
              "      border-color: transparent;\n",
              "      border-right-color: var(--fill-color);\n",
              "      border-bottom-color: var(--fill-color);\n",
              "    }\n",
              "    90% {\n",
              "      border-color: transparent;\n",
              "      border-bottom-color: var(--fill-color);\n",
              "    }\n",
              "  }\n",
              "</style>\n",
              "\n",
              "  <script>\n",
              "    async function quickchart(key) {\n",
              "      const quickchartButtonEl =\n",
              "        document.querySelector('#' + key + ' button');\n",
              "      quickchartButtonEl.disabled = true;  // To prevent multiple clicks.\n",
              "      quickchartButtonEl.classList.add('colab-df-spinner');\n",
              "      try {\n",
              "        const charts = await google.colab.kernel.invokeFunction(\n",
              "            'suggestCharts', [key], {});\n",
              "      } catch (error) {\n",
              "        console.error('Error during call to suggestCharts:', error);\n",
              "      }\n",
              "      quickchartButtonEl.classList.remove('colab-df-spinner');\n",
              "      quickchartButtonEl.classList.add('colab-df-quickchart-complete');\n",
              "    }\n",
              "    (() => {\n",
              "      let quickchartButtonEl =\n",
              "        document.querySelector('#df-09b28a1d-1082-4232-9857-d235273fe0a3 button');\n",
              "      quickchartButtonEl.style.display =\n",
              "        google.colab.kernel.accessAllowed ? 'block' : 'none';\n",
              "    })();\n",
              "  </script>\n",
              "</div>\n",
              "    </div>\n",
              "  </div>\n"
            ]
          },
          "metadata": {},
          "execution_count": 131
        }
      ]
    },
    {
      "cell_type": "code",
      "source": [
        "# importing the tools required for the Poisson regression model\n",
        "import statsmodels.api as sm\n",
        "import statsmodels.formula.api as smf"
      ],
      "metadata": {
        "id": "1HeDgf4Sh7E6"
      },
      "execution_count": 3,
      "outputs": []
    },
    {
      "cell_type": "code",
      "source": [
        "goal_model_data = pd.concat([epl[['HomeTeam','AwayTeam','HomeGoals', 'HS', 'HST', 'AS', 'AST']].assign(home=1).rename(\n",
        "            columns={'HomeTeam':'team', 'AwayTeam':'opponent','HomeGoals':'goals', 'HS': 'shots', 'HST': 'shots_on_target'}),\n",
        "           epl[['AwayTeam','HomeTeam','AwayGoals', 'HS', 'HST', 'AS', 'AST']].assign(home=0).rename(\n",
        "            columns={'AwayTeam':'team', 'HomeTeam':'opponent','AwayGoals':'goals', 'AS': 'shots', 'AST': 'shots_on_target'})])\n",
        "\n",
        "#goal_model_data ="
      ],
      "metadata": {
        "id": "Cc163otfh9nq"
      },
      "execution_count": 132,
      "outputs": []
    },
    {
      "cell_type": "code",
      "source": [
        "#test = pd.merge(epl, goal_model_data, on=\"key\")\n",
        "\n",
        "for i in seriea_data['Squad']:\n",
        "  goal_model_data.loc[(goal_model_data['team'] == i), 'HR'] = seriea_data.loc[(seriea_data['Squad'] == i)].avg_rank_weighted.values[0]\n",
        "\n",
        "for i in seriea_data['Squad']:\n",
        "  goal_model_data.loc[(goal_model_data['opponent'] == i), 'AR'] = seriea_data.loc[(seriea_data['Squad'] == i)].avg_rank_weighted.values[0]"
      ],
      "metadata": {
        "id": "hfyhL3Djb3im"
      },
      "execution_count": 133,
      "outputs": []
    },
    {
      "cell_type": "code",
      "source": [
        "goal_model_data[:10]"
      ],
      "metadata": {
        "colab": {
          "base_uri": "https://localhost:8080/",
          "height": 363
        },
        "id": "6j2HUM9UiAv5",
        "outputId": "eeb9282a-b6cc-43a5-d9ac-5f6868901e0a"
      },
      "execution_count": 134,
      "outputs": [
        {
          "output_type": "execute_result",
          "data": {
            "text/plain": [
              "        team     opponent  goals  shots  shots_on_target    AS  AST  home  HS  \\\n",
              "20  Sassuolo       Verona      3     16                7  11.0  3.0     1 NaN   \n",
              "21      Roma        Milan      1     13                2   9.0  4.0     1 NaN   \n",
              "22   Bologna     Cagliari      2     16                7   7.0  1.0     1 NaN   \n",
              "23   Udinese    Frosinone      0     12                6  12.0  2.0     1 NaN   \n",
              "24  Atalanta        Monza      3     18                8   8.0  2.0     1 NaN   \n",
              "25    Napoli        Lazio      1     22                4   6.0  2.0     1 NaN   \n",
              "26     Inter   Fiorentina      4     21               11   6.0  2.0     1 NaN   \n",
              "27    Torino        Genoa      1     10                3   7.0  2.0     1 NaN   \n",
              "28    Empoli     Juventus      0      7                0  18.0  5.0     1 NaN   \n",
              "29     Lecce  Salernitana      2     20                6  11.0  4.0     1 NaN   \n",
              "\n",
              "    HST        HR        AR  \n",
              "20  NaN  0.076923  0.052632  \n",
              "21  NaN  0.125000  0.500000  \n",
              "22  NaN  0.100000  0.050000  \n",
              "23  NaN  0.066667  0.083333  \n",
              "24  NaN  0.166667  0.111111  \n",
              "25  NaN  1.000000  0.200000  \n",
              "26  NaN  0.333333  0.142857  \n",
              "27  NaN  0.090909  0.062500  \n",
              "28  NaN  0.058824  0.250000  \n",
              "29  NaN  0.071429  0.055556  "
            ],
            "text/html": [
              "\n",
              "  <div id=\"df-b44e9fde-0f1d-40be-be87-3967f73c63a8\" class=\"colab-df-container\">\n",
              "    <div>\n",
              "<style scoped>\n",
              "    .dataframe tbody tr th:only-of-type {\n",
              "        vertical-align: middle;\n",
              "    }\n",
              "\n",
              "    .dataframe tbody tr th {\n",
              "        vertical-align: top;\n",
              "    }\n",
              "\n",
              "    .dataframe thead th {\n",
              "        text-align: right;\n",
              "    }\n",
              "</style>\n",
              "<table border=\"1\" class=\"dataframe\">\n",
              "  <thead>\n",
              "    <tr style=\"text-align: right;\">\n",
              "      <th></th>\n",
              "      <th>team</th>\n",
              "      <th>opponent</th>\n",
              "      <th>goals</th>\n",
              "      <th>shots</th>\n",
              "      <th>shots_on_target</th>\n",
              "      <th>AS</th>\n",
              "      <th>AST</th>\n",
              "      <th>home</th>\n",
              "      <th>HS</th>\n",
              "      <th>HST</th>\n",
              "      <th>HR</th>\n",
              "      <th>AR</th>\n",
              "    </tr>\n",
              "  </thead>\n",
              "  <tbody>\n",
              "    <tr>\n",
              "      <th>20</th>\n",
              "      <td>Sassuolo</td>\n",
              "      <td>Verona</td>\n",
              "      <td>3</td>\n",
              "      <td>16</td>\n",
              "      <td>7</td>\n",
              "      <td>11.0</td>\n",
              "      <td>3.0</td>\n",
              "      <td>1</td>\n",
              "      <td>NaN</td>\n",
              "      <td>NaN</td>\n",
              "      <td>0.076923</td>\n",
              "      <td>0.052632</td>\n",
              "    </tr>\n",
              "    <tr>\n",
              "      <th>21</th>\n",
              "      <td>Roma</td>\n",
              "      <td>Milan</td>\n",
              "      <td>1</td>\n",
              "      <td>13</td>\n",
              "      <td>2</td>\n",
              "      <td>9.0</td>\n",
              "      <td>4.0</td>\n",
              "      <td>1</td>\n",
              "      <td>NaN</td>\n",
              "      <td>NaN</td>\n",
              "      <td>0.125000</td>\n",
              "      <td>0.500000</td>\n",
              "    </tr>\n",
              "    <tr>\n",
              "      <th>22</th>\n",
              "      <td>Bologna</td>\n",
              "      <td>Cagliari</td>\n",
              "      <td>2</td>\n",
              "      <td>16</td>\n",
              "      <td>7</td>\n",
              "      <td>7.0</td>\n",
              "      <td>1.0</td>\n",
              "      <td>1</td>\n",
              "      <td>NaN</td>\n",
              "      <td>NaN</td>\n",
              "      <td>0.100000</td>\n",
              "      <td>0.050000</td>\n",
              "    </tr>\n",
              "    <tr>\n",
              "      <th>23</th>\n",
              "      <td>Udinese</td>\n",
              "      <td>Frosinone</td>\n",
              "      <td>0</td>\n",
              "      <td>12</td>\n",
              "      <td>6</td>\n",
              "      <td>12.0</td>\n",
              "      <td>2.0</td>\n",
              "      <td>1</td>\n",
              "      <td>NaN</td>\n",
              "      <td>NaN</td>\n",
              "      <td>0.066667</td>\n",
              "      <td>0.083333</td>\n",
              "    </tr>\n",
              "    <tr>\n",
              "      <th>24</th>\n",
              "      <td>Atalanta</td>\n",
              "      <td>Monza</td>\n",
              "      <td>3</td>\n",
              "      <td>18</td>\n",
              "      <td>8</td>\n",
              "      <td>8.0</td>\n",
              "      <td>2.0</td>\n",
              "      <td>1</td>\n",
              "      <td>NaN</td>\n",
              "      <td>NaN</td>\n",
              "      <td>0.166667</td>\n",
              "      <td>0.111111</td>\n",
              "    </tr>\n",
              "    <tr>\n",
              "      <th>25</th>\n",
              "      <td>Napoli</td>\n",
              "      <td>Lazio</td>\n",
              "      <td>1</td>\n",
              "      <td>22</td>\n",
              "      <td>4</td>\n",
              "      <td>6.0</td>\n",
              "      <td>2.0</td>\n",
              "      <td>1</td>\n",
              "      <td>NaN</td>\n",
              "      <td>NaN</td>\n",
              "      <td>1.000000</td>\n",
              "      <td>0.200000</td>\n",
              "    </tr>\n",
              "    <tr>\n",
              "      <th>26</th>\n",
              "      <td>Inter</td>\n",
              "      <td>Fiorentina</td>\n",
              "      <td>4</td>\n",
              "      <td>21</td>\n",
              "      <td>11</td>\n",
              "      <td>6.0</td>\n",
              "      <td>2.0</td>\n",
              "      <td>1</td>\n",
              "      <td>NaN</td>\n",
              "      <td>NaN</td>\n",
              "      <td>0.333333</td>\n",
              "      <td>0.142857</td>\n",
              "    </tr>\n",
              "    <tr>\n",
              "      <th>27</th>\n",
              "      <td>Torino</td>\n",
              "      <td>Genoa</td>\n",
              "      <td>1</td>\n",
              "      <td>10</td>\n",
              "      <td>3</td>\n",
              "      <td>7.0</td>\n",
              "      <td>2.0</td>\n",
              "      <td>1</td>\n",
              "      <td>NaN</td>\n",
              "      <td>NaN</td>\n",
              "      <td>0.090909</td>\n",
              "      <td>0.062500</td>\n",
              "    </tr>\n",
              "    <tr>\n",
              "      <th>28</th>\n",
              "      <td>Empoli</td>\n",
              "      <td>Juventus</td>\n",
              "      <td>0</td>\n",
              "      <td>7</td>\n",
              "      <td>0</td>\n",
              "      <td>18.0</td>\n",
              "      <td>5.0</td>\n",
              "      <td>1</td>\n",
              "      <td>NaN</td>\n",
              "      <td>NaN</td>\n",
              "      <td>0.058824</td>\n",
              "      <td>0.250000</td>\n",
              "    </tr>\n",
              "    <tr>\n",
              "      <th>29</th>\n",
              "      <td>Lecce</td>\n",
              "      <td>Salernitana</td>\n",
              "      <td>2</td>\n",
              "      <td>20</td>\n",
              "      <td>6</td>\n",
              "      <td>11.0</td>\n",
              "      <td>4.0</td>\n",
              "      <td>1</td>\n",
              "      <td>NaN</td>\n",
              "      <td>NaN</td>\n",
              "      <td>0.071429</td>\n",
              "      <td>0.055556</td>\n",
              "    </tr>\n",
              "  </tbody>\n",
              "</table>\n",
              "</div>\n",
              "    <div class=\"colab-df-buttons\">\n",
              "\n",
              "  <div class=\"colab-df-container\">\n",
              "    <button class=\"colab-df-convert\" onclick=\"convertToInteractive('df-b44e9fde-0f1d-40be-be87-3967f73c63a8')\"\n",
              "            title=\"Convert this dataframe to an interactive table.\"\n",
              "            style=\"display:none;\">\n",
              "\n",
              "  <svg xmlns=\"http://www.w3.org/2000/svg\" height=\"24px\" viewBox=\"0 -960 960 960\">\n",
              "    <path d=\"M120-120v-720h720v720H120Zm60-500h600v-160H180v160Zm220 220h160v-160H400v160Zm0 220h160v-160H400v160ZM180-400h160v-160H180v160Zm440 0h160v-160H620v160ZM180-180h160v-160H180v160Zm440 0h160v-160H620v160Z\"/>\n",
              "  </svg>\n",
              "    </button>\n",
              "\n",
              "  <style>\n",
              "    .colab-df-container {\n",
              "      display:flex;\n",
              "      gap: 12px;\n",
              "    }\n",
              "\n",
              "    .colab-df-convert {\n",
              "      background-color: #E8F0FE;\n",
              "      border: none;\n",
              "      border-radius: 50%;\n",
              "      cursor: pointer;\n",
              "      display: none;\n",
              "      fill: #1967D2;\n",
              "      height: 32px;\n",
              "      padding: 0 0 0 0;\n",
              "      width: 32px;\n",
              "    }\n",
              "\n",
              "    .colab-df-convert:hover {\n",
              "      background-color: #E2EBFA;\n",
              "      box-shadow: 0px 1px 2px rgba(60, 64, 67, 0.3), 0px 1px 3px 1px rgba(60, 64, 67, 0.15);\n",
              "      fill: #174EA6;\n",
              "    }\n",
              "\n",
              "    .colab-df-buttons div {\n",
              "      margin-bottom: 4px;\n",
              "    }\n",
              "\n",
              "    [theme=dark] .colab-df-convert {\n",
              "      background-color: #3B4455;\n",
              "      fill: #D2E3FC;\n",
              "    }\n",
              "\n",
              "    [theme=dark] .colab-df-convert:hover {\n",
              "      background-color: #434B5C;\n",
              "      box-shadow: 0px 1px 3px 1px rgba(0, 0, 0, 0.15);\n",
              "      filter: drop-shadow(0px 1px 2px rgba(0, 0, 0, 0.3));\n",
              "      fill: #FFFFFF;\n",
              "    }\n",
              "  </style>\n",
              "\n",
              "    <script>\n",
              "      const buttonEl =\n",
              "        document.querySelector('#df-b44e9fde-0f1d-40be-be87-3967f73c63a8 button.colab-df-convert');\n",
              "      buttonEl.style.display =\n",
              "        google.colab.kernel.accessAllowed ? 'block' : 'none';\n",
              "\n",
              "      async function convertToInteractive(key) {\n",
              "        const element = document.querySelector('#df-b44e9fde-0f1d-40be-be87-3967f73c63a8');\n",
              "        const dataTable =\n",
              "          await google.colab.kernel.invokeFunction('convertToInteractive',\n",
              "                                                    [key], {});\n",
              "        if (!dataTable) return;\n",
              "\n",
              "        const docLinkHtml = 'Like what you see? Visit the ' +\n",
              "          '<a target=\"_blank\" href=https://colab.research.google.com/notebooks/data_table.ipynb>data table notebook</a>'\n",
              "          + ' to learn more about interactive tables.';\n",
              "        element.innerHTML = '';\n",
              "        dataTable['output_type'] = 'display_data';\n",
              "        await google.colab.output.renderOutput(dataTable, element);\n",
              "        const docLink = document.createElement('div');\n",
              "        docLink.innerHTML = docLinkHtml;\n",
              "        element.appendChild(docLink);\n",
              "      }\n",
              "    </script>\n",
              "  </div>\n",
              "\n",
              "\n",
              "<div id=\"df-032d3af8-0bc9-4e64-b5dc-3081b4ff517a\">\n",
              "  <button class=\"colab-df-quickchart\" onclick=\"quickchart('df-032d3af8-0bc9-4e64-b5dc-3081b4ff517a')\"\n",
              "            title=\"Suggest charts.\"\n",
              "            style=\"display:none;\">\n",
              "\n",
              "<svg xmlns=\"http://www.w3.org/2000/svg\" height=\"24px\"viewBox=\"0 0 24 24\"\n",
              "     width=\"24px\">\n",
              "    <g>\n",
              "        <path d=\"M19 3H5c-1.1 0-2 .9-2 2v14c0 1.1.9 2 2 2h14c1.1 0 2-.9 2-2V5c0-1.1-.9-2-2-2zM9 17H7v-7h2v7zm4 0h-2V7h2v10zm4 0h-2v-4h2v4z\"/>\n",
              "    </g>\n",
              "</svg>\n",
              "  </button>\n",
              "\n",
              "<style>\n",
              "  .colab-df-quickchart {\n",
              "      --bg-color: #E8F0FE;\n",
              "      --fill-color: #1967D2;\n",
              "      --hover-bg-color: #E2EBFA;\n",
              "      --hover-fill-color: #174EA6;\n",
              "      --disabled-fill-color: #AAA;\n",
              "      --disabled-bg-color: #DDD;\n",
              "  }\n",
              "\n",
              "  [theme=dark] .colab-df-quickchart {\n",
              "      --bg-color: #3B4455;\n",
              "      --fill-color: #D2E3FC;\n",
              "      --hover-bg-color: #434B5C;\n",
              "      --hover-fill-color: #FFFFFF;\n",
              "      --disabled-bg-color: #3B4455;\n",
              "      --disabled-fill-color: #666;\n",
              "  }\n",
              "\n",
              "  .colab-df-quickchart {\n",
              "    background-color: var(--bg-color);\n",
              "    border: none;\n",
              "    border-radius: 50%;\n",
              "    cursor: pointer;\n",
              "    display: none;\n",
              "    fill: var(--fill-color);\n",
              "    height: 32px;\n",
              "    padding: 0;\n",
              "    width: 32px;\n",
              "  }\n",
              "\n",
              "  .colab-df-quickchart:hover {\n",
              "    background-color: var(--hover-bg-color);\n",
              "    box-shadow: 0 1px 2px rgba(60, 64, 67, 0.3), 0 1px 3px 1px rgba(60, 64, 67, 0.15);\n",
              "    fill: var(--button-hover-fill-color);\n",
              "  }\n",
              "\n",
              "  .colab-df-quickchart-complete:disabled,\n",
              "  .colab-df-quickchart-complete:disabled:hover {\n",
              "    background-color: var(--disabled-bg-color);\n",
              "    fill: var(--disabled-fill-color);\n",
              "    box-shadow: none;\n",
              "  }\n",
              "\n",
              "  .colab-df-spinner {\n",
              "    border: 2px solid var(--fill-color);\n",
              "    border-color: transparent;\n",
              "    border-bottom-color: var(--fill-color);\n",
              "    animation:\n",
              "      spin 1s steps(1) infinite;\n",
              "  }\n",
              "\n",
              "  @keyframes spin {\n",
              "    0% {\n",
              "      border-color: transparent;\n",
              "      border-bottom-color: var(--fill-color);\n",
              "      border-left-color: var(--fill-color);\n",
              "    }\n",
              "    20% {\n",
              "      border-color: transparent;\n",
              "      border-left-color: var(--fill-color);\n",
              "      border-top-color: var(--fill-color);\n",
              "    }\n",
              "    30% {\n",
              "      border-color: transparent;\n",
              "      border-left-color: var(--fill-color);\n",
              "      border-top-color: var(--fill-color);\n",
              "      border-right-color: var(--fill-color);\n",
              "    }\n",
              "    40% {\n",
              "      border-color: transparent;\n",
              "      border-right-color: var(--fill-color);\n",
              "      border-top-color: var(--fill-color);\n",
              "    }\n",
              "    60% {\n",
              "      border-color: transparent;\n",
              "      border-right-color: var(--fill-color);\n",
              "    }\n",
              "    80% {\n",
              "      border-color: transparent;\n",
              "      border-right-color: var(--fill-color);\n",
              "      border-bottom-color: var(--fill-color);\n",
              "    }\n",
              "    90% {\n",
              "      border-color: transparent;\n",
              "      border-bottom-color: var(--fill-color);\n",
              "    }\n",
              "  }\n",
              "</style>\n",
              "\n",
              "  <script>\n",
              "    async function quickchart(key) {\n",
              "      const quickchartButtonEl =\n",
              "        document.querySelector('#' + key + ' button');\n",
              "      quickchartButtonEl.disabled = true;  // To prevent multiple clicks.\n",
              "      quickchartButtonEl.classList.add('colab-df-spinner');\n",
              "      try {\n",
              "        const charts = await google.colab.kernel.invokeFunction(\n",
              "            'suggestCharts', [key], {});\n",
              "      } catch (error) {\n",
              "        console.error('Error during call to suggestCharts:', error);\n",
              "      }\n",
              "      quickchartButtonEl.classList.remove('colab-df-spinner');\n",
              "      quickchartButtonEl.classList.add('colab-df-quickchart-complete');\n",
              "    }\n",
              "    (() => {\n",
              "      let quickchartButtonEl =\n",
              "        document.querySelector('#df-032d3af8-0bc9-4e64-b5dc-3081b4ff517a button');\n",
              "      quickchartButtonEl.style.display =\n",
              "        google.colab.kernel.accessAllowed ? 'block' : 'none';\n",
              "    })();\n",
              "  </script>\n",
              "</div>\n",
              "    </div>\n",
              "  </div>\n"
            ]
          },
          "metadata": {},
          "execution_count": 134
        }
      ]
    },
    {
      "cell_type": "code",
      "source": [
        "# x = goal_model_data\n",
        "# x['goals'] = x['goals'].astype(float)\n",
        "# x['home'] = x['home'].astype(float)\n",
        "# x['home'] = np.log1p(x.home)\n",
        "# x['goals'] = np.log1p(x.goals)\n",
        "# x"
      ],
      "metadata": {
        "id": "q30RkWCgMo4L"
      },
      "execution_count": null,
      "outputs": []
    },
    {
      "cell_type": "code",
      "source": [
        "# #Fit the model to the data\n",
        "# #Home advantage included\n",
        "# #Team and opponent as fixed effects.\n",
        "# poisson_model = smf.glm(formula=\"goals ~ home + team + opponent\", data=x,\n",
        "#                         family=sm.families.Poisson()).fit()\n",
        "# poisson_model.summary()"
      ],
      "metadata": {
        "id": "ANxJjBHQOtE9"
      },
      "execution_count": null,
      "outputs": []
    },
    {
      "cell_type": "code",
      "source": [
        "#Fit the model to the data\n",
        "#Home advantage included\n",
        "#Team and opponent as fixed effects.\n",
        "poisson_model = smf.glm(formula=\"goals ~ home + team + opponent\", data=goal_model_data,\n",
        "                        family=sm.families.Poisson()).fit()\n",
        "poisson_model.summary()"
      ],
      "metadata": {
        "colab": {
          "base_uri": "https://localhost:8080/",
          "height": 1000
        },
        "id": "h_QoC30ViSoh",
        "outputId": "6c59ed97-330d-4e78-a6be-cb851f3db4c6"
      },
      "execution_count": 158,
      "outputs": [
        {
          "output_type": "execute_result",
          "data": {
            "text/plain": [
              "<class 'statsmodels.iolib.summary.Summary'>\n",
              "\"\"\"\n",
              "                 Generalized Linear Model Regression Results                  \n",
              "==============================================================================\n",
              "Dep. Variable:                  goals   No. Observations:                  120\n",
              "Model:                            GLM   Df Residuals:                       80\n",
              "Model Family:                 Poisson   Df Model:                           39\n",
              "Link Function:                    Log   Scale:                          1.0000\n",
              "Method:                          IRLS   Log-Likelihood:                -143.63\n",
              "Date:                Thu, 19 Oct 2023   Deviance:                       92.829\n",
              "Time:                        11:45:03   Pearson chi2:                     84.3\n",
              "No. Iterations:                     6   Pseudo R-squ. (CS):             0.5320\n",
              "Covariance Type:            nonrobust                                         \n",
              "===========================================================================================\n",
              "                              coef    std err          z      P>|z|      [0.025      0.975]\n",
              "-------------------------------------------------------------------------------------------\n",
              "Intercept                   0.0152      0.588      0.026      0.979      -1.137       1.168\n",
              "team[T.Bologna]            -0.7076      0.531     -1.333      0.183      -1.748       0.333\n",
              "team[T.Cagliari]           -1.4042      0.714     -1.967      0.049      -2.803      -0.005\n",
              "team[T.Empoli]             -2.9185      1.087     -2.686      0.007      -5.048      -0.789\n",
              "team[T.Fiorentina]          0.0445      0.467      0.095      0.924      -0.871       0.960\n",
              "team[T.Frosinone]          -0.7333      0.535     -1.370      0.171      -1.782       0.316\n",
              "team[T.Genoa]              -0.4817      0.547     -0.880      0.379      -1.554       0.591\n",
              "team[T.Inter]               0.0308      0.481      0.064      0.949      -0.913       0.974\n",
              "team[T.Juventus]           -0.1923      0.504     -0.381      0.703      -1.181       0.796\n",
              "team[T.Lazio]               0.0977      0.517      0.189      0.850      -0.916       1.112\n",
              "team[T.Lecce]              -1.4071      0.621     -2.264      0.024      -2.625      -0.189\n",
              "team[T.Milan]              -0.1371      0.480     -0.286      0.775      -1.078       0.804\n",
              "team[T.Monza]              -1.0296      0.598     -1.722      0.085      -2.202       0.142\n",
              "team[T.Napoli]              0.0105      0.489      0.022      0.983      -0.948       0.969\n",
              "team[T.Roma]                0.1773      0.465      0.381      0.703      -0.734       1.089\n",
              "team[T.Salernitana]        -2.3656      1.078     -2.195      0.028      -4.478      -0.254\n",
              "team[T.Sassuolo]            0.3700      0.467      0.793      0.428      -0.545       1.285\n",
              "team[T.Torino]             -1.1611      0.599     -1.939      0.053      -2.335       0.013\n",
              "team[T.Udinese]            -1.5476      0.689     -2.247      0.025      -2.898      -0.197\n",
              "team[T.Verona]             -1.4367      0.822     -1.748      0.081      -3.048       0.174\n",
              "opponent[T.Bologna]        -0.3901      0.757     -0.515      0.606      -1.874       1.094\n",
              "opponent[T.Cagliari]        0.6713      0.533      1.258      0.208      -0.374       1.717\n",
              "opponent[T.Empoli]          0.8761      0.557      1.572      0.116      -0.216       1.969\n",
              "opponent[T.Fiorentina]      0.2106      0.603      0.349      0.727      -0.971       1.392\n",
              "opponent[T.Frosinone]       0.2170      0.604      0.359      0.719      -0.966       1.400\n",
              "opponent[T.Genoa]           0.5548      0.612      0.906      0.365      -0.645       1.755\n",
              "opponent[T.Inter]           0.1746      0.663      0.263      0.792      -1.125       1.474\n",
              "opponent[T.Juventus]       -0.2558      0.654     -0.391      0.696      -1.538       1.026\n",
              "opponent[T.Lazio]           0.2716      0.583      0.466      0.641      -0.871       1.414\n",
              "opponent[T.Lecce]           0.2461      0.610      0.404      0.686      -0.949       1.441\n",
              "opponent[T.Milan]          -0.0353      0.593     -0.059      0.953      -1.197       1.127\n",
              "opponent[T.Monza]          -0.4207      0.643     -0.654      0.513      -1.682       0.840\n",
              "opponent[T.Napoli]          0.4736      0.570      0.830      0.406      -0.644       1.591\n",
              "opponent[T.Roma]            0.7788      0.614      1.269      0.204      -0.424       1.982\n",
              "opponent[T.Salernitana]     1.5064      0.584      2.579      0.010       0.362       2.651\n",
              "opponent[T.Sassuolo]        0.7357      0.582      1.264      0.206      -0.406       1.877\n",
              "opponent[T.Torino]         -0.1716      0.624     -0.275      0.783      -1.394       1.051\n",
              "opponent[T.Udinese]         0.5372      0.595      0.902      0.367      -0.630       1.704\n",
              "opponent[T.Verona]         -0.0627      0.619     -0.101      0.919      -1.275       1.150\n",
              "home                        0.6305      0.187      3.376      0.001       0.265       0.996\n",
              "===========================================================================================\n",
              "\"\"\""
            ],
            "text/html": [
              "<table class=\"simpletable\">\n",
              "<caption>Generalized Linear Model Regression Results</caption>\n",
              "<tr>\n",
              "  <th>Dep. Variable:</th>         <td>goals</td>      <th>  No. Observations:  </th>  <td>   120</td> \n",
              "</tr>\n",
              "<tr>\n",
              "  <th>Model:</th>                  <td>GLM</td>       <th>  Df Residuals:      </th>  <td>    80</td> \n",
              "</tr>\n",
              "<tr>\n",
              "  <th>Model Family:</th>         <td>Poisson</td>     <th>  Df Model:          </th>  <td>    39</td> \n",
              "</tr>\n",
              "<tr>\n",
              "  <th>Link Function:</th>          <td>Log</td>       <th>  Scale:             </th> <td>  1.0000</td>\n",
              "</tr>\n",
              "<tr>\n",
              "  <th>Method:</th>                <td>IRLS</td>       <th>  Log-Likelihood:    </th> <td> -143.63</td>\n",
              "</tr>\n",
              "<tr>\n",
              "  <th>Date:</th>            <td>Thu, 19 Oct 2023</td> <th>  Deviance:          </th> <td>  92.829</td>\n",
              "</tr>\n",
              "<tr>\n",
              "  <th>Time:</th>                <td>11:45:03</td>     <th>  Pearson chi2:      </th>  <td>  84.3</td> \n",
              "</tr>\n",
              "<tr>\n",
              "  <th>No. Iterations:</th>          <td>6</td>        <th>  Pseudo R-squ. (CS):</th>  <td>0.5320</td> \n",
              "</tr>\n",
              "<tr>\n",
              "  <th>Covariance Type:</th>     <td>nonrobust</td>    <th>                     </th>     <td> </td>   \n",
              "</tr>\n",
              "</table>\n",
              "<table class=\"simpletable\">\n",
              "<tr>\n",
              "             <td></td>                <th>coef</th>     <th>std err</th>      <th>z</th>      <th>P>|z|</th>  <th>[0.025</th>    <th>0.975]</th>  \n",
              "</tr>\n",
              "<tr>\n",
              "  <th>Intercept</th>               <td>    0.0152</td> <td>    0.588</td> <td>    0.026</td> <td> 0.979</td> <td>   -1.137</td> <td>    1.168</td>\n",
              "</tr>\n",
              "<tr>\n",
              "  <th>team[T.Bologna]</th>         <td>   -0.7076</td> <td>    0.531</td> <td>   -1.333</td> <td> 0.183</td> <td>   -1.748</td> <td>    0.333</td>\n",
              "</tr>\n",
              "<tr>\n",
              "  <th>team[T.Cagliari]</th>        <td>   -1.4042</td> <td>    0.714</td> <td>   -1.967</td> <td> 0.049</td> <td>   -2.803</td> <td>   -0.005</td>\n",
              "</tr>\n",
              "<tr>\n",
              "  <th>team[T.Empoli]</th>          <td>   -2.9185</td> <td>    1.087</td> <td>   -2.686</td> <td> 0.007</td> <td>   -5.048</td> <td>   -0.789</td>\n",
              "</tr>\n",
              "<tr>\n",
              "  <th>team[T.Fiorentina]</th>      <td>    0.0445</td> <td>    0.467</td> <td>    0.095</td> <td> 0.924</td> <td>   -0.871</td> <td>    0.960</td>\n",
              "</tr>\n",
              "<tr>\n",
              "  <th>team[T.Frosinone]</th>       <td>   -0.7333</td> <td>    0.535</td> <td>   -1.370</td> <td> 0.171</td> <td>   -1.782</td> <td>    0.316</td>\n",
              "</tr>\n",
              "<tr>\n",
              "  <th>team[T.Genoa]</th>           <td>   -0.4817</td> <td>    0.547</td> <td>   -0.880</td> <td> 0.379</td> <td>   -1.554</td> <td>    0.591</td>\n",
              "</tr>\n",
              "<tr>\n",
              "  <th>team[T.Inter]</th>           <td>    0.0308</td> <td>    0.481</td> <td>    0.064</td> <td> 0.949</td> <td>   -0.913</td> <td>    0.974</td>\n",
              "</tr>\n",
              "<tr>\n",
              "  <th>team[T.Juventus]</th>        <td>   -0.1923</td> <td>    0.504</td> <td>   -0.381</td> <td> 0.703</td> <td>   -1.181</td> <td>    0.796</td>\n",
              "</tr>\n",
              "<tr>\n",
              "  <th>team[T.Lazio]</th>           <td>    0.0977</td> <td>    0.517</td> <td>    0.189</td> <td> 0.850</td> <td>   -0.916</td> <td>    1.112</td>\n",
              "</tr>\n",
              "<tr>\n",
              "  <th>team[T.Lecce]</th>           <td>   -1.4071</td> <td>    0.621</td> <td>   -2.264</td> <td> 0.024</td> <td>   -2.625</td> <td>   -0.189</td>\n",
              "</tr>\n",
              "<tr>\n",
              "  <th>team[T.Milan]</th>           <td>   -0.1371</td> <td>    0.480</td> <td>   -0.286</td> <td> 0.775</td> <td>   -1.078</td> <td>    0.804</td>\n",
              "</tr>\n",
              "<tr>\n",
              "  <th>team[T.Monza]</th>           <td>   -1.0296</td> <td>    0.598</td> <td>   -1.722</td> <td> 0.085</td> <td>   -2.202</td> <td>    0.142</td>\n",
              "</tr>\n",
              "<tr>\n",
              "  <th>team[T.Napoli]</th>          <td>    0.0105</td> <td>    0.489</td> <td>    0.022</td> <td> 0.983</td> <td>   -0.948</td> <td>    0.969</td>\n",
              "</tr>\n",
              "<tr>\n",
              "  <th>team[T.Roma]</th>            <td>    0.1773</td> <td>    0.465</td> <td>    0.381</td> <td> 0.703</td> <td>   -0.734</td> <td>    1.089</td>\n",
              "</tr>\n",
              "<tr>\n",
              "  <th>team[T.Salernitana]</th>     <td>   -2.3656</td> <td>    1.078</td> <td>   -2.195</td> <td> 0.028</td> <td>   -4.478</td> <td>   -0.254</td>\n",
              "</tr>\n",
              "<tr>\n",
              "  <th>team[T.Sassuolo]</th>        <td>    0.3700</td> <td>    0.467</td> <td>    0.793</td> <td> 0.428</td> <td>   -0.545</td> <td>    1.285</td>\n",
              "</tr>\n",
              "<tr>\n",
              "  <th>team[T.Torino]</th>          <td>   -1.1611</td> <td>    0.599</td> <td>   -1.939</td> <td> 0.053</td> <td>   -2.335</td> <td>    0.013</td>\n",
              "</tr>\n",
              "<tr>\n",
              "  <th>team[T.Udinese]</th>         <td>   -1.5476</td> <td>    0.689</td> <td>   -2.247</td> <td> 0.025</td> <td>   -2.898</td> <td>   -0.197</td>\n",
              "</tr>\n",
              "<tr>\n",
              "  <th>team[T.Verona]</th>          <td>   -1.4367</td> <td>    0.822</td> <td>   -1.748</td> <td> 0.081</td> <td>   -3.048</td> <td>    0.174</td>\n",
              "</tr>\n",
              "<tr>\n",
              "  <th>opponent[T.Bologna]</th>     <td>   -0.3901</td> <td>    0.757</td> <td>   -0.515</td> <td> 0.606</td> <td>   -1.874</td> <td>    1.094</td>\n",
              "</tr>\n",
              "<tr>\n",
              "  <th>opponent[T.Cagliari]</th>    <td>    0.6713</td> <td>    0.533</td> <td>    1.258</td> <td> 0.208</td> <td>   -0.374</td> <td>    1.717</td>\n",
              "</tr>\n",
              "<tr>\n",
              "  <th>opponent[T.Empoli]</th>      <td>    0.8761</td> <td>    0.557</td> <td>    1.572</td> <td> 0.116</td> <td>   -0.216</td> <td>    1.969</td>\n",
              "</tr>\n",
              "<tr>\n",
              "  <th>opponent[T.Fiorentina]</th>  <td>    0.2106</td> <td>    0.603</td> <td>    0.349</td> <td> 0.727</td> <td>   -0.971</td> <td>    1.392</td>\n",
              "</tr>\n",
              "<tr>\n",
              "  <th>opponent[T.Frosinone]</th>   <td>    0.2170</td> <td>    0.604</td> <td>    0.359</td> <td> 0.719</td> <td>   -0.966</td> <td>    1.400</td>\n",
              "</tr>\n",
              "<tr>\n",
              "  <th>opponent[T.Genoa]</th>       <td>    0.5548</td> <td>    0.612</td> <td>    0.906</td> <td> 0.365</td> <td>   -0.645</td> <td>    1.755</td>\n",
              "</tr>\n",
              "<tr>\n",
              "  <th>opponent[T.Inter]</th>       <td>    0.1746</td> <td>    0.663</td> <td>    0.263</td> <td> 0.792</td> <td>   -1.125</td> <td>    1.474</td>\n",
              "</tr>\n",
              "<tr>\n",
              "  <th>opponent[T.Juventus]</th>    <td>   -0.2558</td> <td>    0.654</td> <td>   -0.391</td> <td> 0.696</td> <td>   -1.538</td> <td>    1.026</td>\n",
              "</tr>\n",
              "<tr>\n",
              "  <th>opponent[T.Lazio]</th>       <td>    0.2716</td> <td>    0.583</td> <td>    0.466</td> <td> 0.641</td> <td>   -0.871</td> <td>    1.414</td>\n",
              "</tr>\n",
              "<tr>\n",
              "  <th>opponent[T.Lecce]</th>       <td>    0.2461</td> <td>    0.610</td> <td>    0.404</td> <td> 0.686</td> <td>   -0.949</td> <td>    1.441</td>\n",
              "</tr>\n",
              "<tr>\n",
              "  <th>opponent[T.Milan]</th>       <td>   -0.0353</td> <td>    0.593</td> <td>   -0.059</td> <td> 0.953</td> <td>   -1.197</td> <td>    1.127</td>\n",
              "</tr>\n",
              "<tr>\n",
              "  <th>opponent[T.Monza]</th>       <td>   -0.4207</td> <td>    0.643</td> <td>   -0.654</td> <td> 0.513</td> <td>   -1.682</td> <td>    0.840</td>\n",
              "</tr>\n",
              "<tr>\n",
              "  <th>opponent[T.Napoli]</th>      <td>    0.4736</td> <td>    0.570</td> <td>    0.830</td> <td> 0.406</td> <td>   -0.644</td> <td>    1.591</td>\n",
              "</tr>\n",
              "<tr>\n",
              "  <th>opponent[T.Roma]</th>        <td>    0.7788</td> <td>    0.614</td> <td>    1.269</td> <td> 0.204</td> <td>   -0.424</td> <td>    1.982</td>\n",
              "</tr>\n",
              "<tr>\n",
              "  <th>opponent[T.Salernitana]</th> <td>    1.5064</td> <td>    0.584</td> <td>    2.579</td> <td> 0.010</td> <td>    0.362</td> <td>    2.651</td>\n",
              "</tr>\n",
              "<tr>\n",
              "  <th>opponent[T.Sassuolo]</th>    <td>    0.7357</td> <td>    0.582</td> <td>    1.264</td> <td> 0.206</td> <td>   -0.406</td> <td>    1.877</td>\n",
              "</tr>\n",
              "<tr>\n",
              "  <th>opponent[T.Torino]</th>      <td>   -0.1716</td> <td>    0.624</td> <td>   -0.275</td> <td> 0.783</td> <td>   -1.394</td> <td>    1.051</td>\n",
              "</tr>\n",
              "<tr>\n",
              "  <th>opponent[T.Udinese]</th>     <td>    0.5372</td> <td>    0.595</td> <td>    0.902</td> <td> 0.367</td> <td>   -0.630</td> <td>    1.704</td>\n",
              "</tr>\n",
              "<tr>\n",
              "  <th>opponent[T.Verona]</th>      <td>   -0.0627</td> <td>    0.619</td> <td>   -0.101</td> <td> 0.919</td> <td>   -1.275</td> <td>    1.150</td>\n",
              "</tr>\n",
              "<tr>\n",
              "  <th>home</th>                    <td>    0.6305</td> <td>    0.187</td> <td>    3.376</td> <td> 0.001</td> <td>    0.265</td> <td>    0.996</td>\n",
              "</tr>\n",
              "</table>"
            ],
            "text/latex": "\\begin{center}\n\\begin{tabular}{lclc}\n\\toprule\n\\textbf{Dep. Variable:}          &      goals       & \\textbf{  No. Observations:  } &      120    \\\\\n\\textbf{Model:}                  &       GLM        & \\textbf{  Df Residuals:      } &       80    \\\\\n\\textbf{Model Family:}           &     Poisson      & \\textbf{  Df Model:          } &       39    \\\\\n\\textbf{Link Function:}          &       Log        & \\textbf{  Scale:             } &    1.0000   \\\\\n\\textbf{Method:}                 &       IRLS       & \\textbf{  Log-Likelihood:    } &   -143.63   \\\\\n\\textbf{Date:}                   & Thu, 19 Oct 2023 & \\textbf{  Deviance:          } &    92.829   \\\\\n\\textbf{Time:}                   &     11:45:03     & \\textbf{  Pearson chi2:      } &     84.3    \\\\\n\\textbf{No. Iterations:}         &        6         & \\textbf{  Pseudo R-squ. (CS):} &   0.5320    \\\\\n\\textbf{Covariance Type:}        &    nonrobust     & \\textbf{                     } &             \\\\\n\\bottomrule\n\\end{tabular}\n\\begin{tabular}{lcccccc}\n                                 & \\textbf{coef} & \\textbf{std err} & \\textbf{z} & \\textbf{P$> |$z$|$} & \\textbf{[0.025} & \\textbf{0.975]}  \\\\\n\\midrule\n\\textbf{Intercept}               &       0.0152  &        0.588     &     0.026  &         0.979        &       -1.137    &        1.168     \\\\\n\\textbf{team[T.Bologna]}         &      -0.7076  &        0.531     &    -1.333  &         0.183        &       -1.748    &        0.333     \\\\\n\\textbf{team[T.Cagliari]}        &      -1.4042  &        0.714     &    -1.967  &         0.049        &       -2.803    &       -0.005     \\\\\n\\textbf{team[T.Empoli]}          &      -2.9185  &        1.087     &    -2.686  &         0.007        &       -5.048    &       -0.789     \\\\\n\\textbf{team[T.Fiorentina]}      &       0.0445  &        0.467     &     0.095  &         0.924        &       -0.871    &        0.960     \\\\\n\\textbf{team[T.Frosinone]}       &      -0.7333  &        0.535     &    -1.370  &         0.171        &       -1.782    &        0.316     \\\\\n\\textbf{team[T.Genoa]}           &      -0.4817  &        0.547     &    -0.880  &         0.379        &       -1.554    &        0.591     \\\\\n\\textbf{team[T.Inter]}           &       0.0308  &        0.481     &     0.064  &         0.949        &       -0.913    &        0.974     \\\\\n\\textbf{team[T.Juventus]}        &      -0.1923  &        0.504     &    -0.381  &         0.703        &       -1.181    &        0.796     \\\\\n\\textbf{team[T.Lazio]}           &       0.0977  &        0.517     &     0.189  &         0.850        &       -0.916    &        1.112     \\\\\n\\textbf{team[T.Lecce]}           &      -1.4071  &        0.621     &    -2.264  &         0.024        &       -2.625    &       -0.189     \\\\\n\\textbf{team[T.Milan]}           &      -0.1371  &        0.480     &    -0.286  &         0.775        &       -1.078    &        0.804     \\\\\n\\textbf{team[T.Monza]}           &      -1.0296  &        0.598     &    -1.722  &         0.085        &       -2.202    &        0.142     \\\\\n\\textbf{team[T.Napoli]}          &       0.0105  &        0.489     &     0.022  &         0.983        &       -0.948    &        0.969     \\\\\n\\textbf{team[T.Roma]}            &       0.1773  &        0.465     &     0.381  &         0.703        &       -0.734    &        1.089     \\\\\n\\textbf{team[T.Salernitana]}     &      -2.3656  &        1.078     &    -2.195  &         0.028        &       -4.478    &       -0.254     \\\\\n\\textbf{team[T.Sassuolo]}        &       0.3700  &        0.467     &     0.793  &         0.428        &       -0.545    &        1.285     \\\\\n\\textbf{team[T.Torino]}          &      -1.1611  &        0.599     &    -1.939  &         0.053        &       -2.335    &        0.013     \\\\\n\\textbf{team[T.Udinese]}         &      -1.5476  &        0.689     &    -2.247  &         0.025        &       -2.898    &       -0.197     \\\\\n\\textbf{team[T.Verona]}          &      -1.4367  &        0.822     &    -1.748  &         0.081        &       -3.048    &        0.174     \\\\\n\\textbf{opponent[T.Bologna]}     &      -0.3901  &        0.757     &    -0.515  &         0.606        &       -1.874    &        1.094     \\\\\n\\textbf{opponent[T.Cagliari]}    &       0.6713  &        0.533     &     1.258  &         0.208        &       -0.374    &        1.717     \\\\\n\\textbf{opponent[T.Empoli]}      &       0.8761  &        0.557     &     1.572  &         0.116        &       -0.216    &        1.969     \\\\\n\\textbf{opponent[T.Fiorentina]}  &       0.2106  &        0.603     &     0.349  &         0.727        &       -0.971    &        1.392     \\\\\n\\textbf{opponent[T.Frosinone]}   &       0.2170  &        0.604     &     0.359  &         0.719        &       -0.966    &        1.400     \\\\\n\\textbf{opponent[T.Genoa]}       &       0.5548  &        0.612     &     0.906  &         0.365        &       -0.645    &        1.755     \\\\\n\\textbf{opponent[T.Inter]}       &       0.1746  &        0.663     &     0.263  &         0.792        &       -1.125    &        1.474     \\\\\n\\textbf{opponent[T.Juventus]}    &      -0.2558  &        0.654     &    -0.391  &         0.696        &       -1.538    &        1.026     \\\\\n\\textbf{opponent[T.Lazio]}       &       0.2716  &        0.583     &     0.466  &         0.641        &       -0.871    &        1.414     \\\\\n\\textbf{opponent[T.Lecce]}       &       0.2461  &        0.610     &     0.404  &         0.686        &       -0.949    &        1.441     \\\\\n\\textbf{opponent[T.Milan]}       &      -0.0353  &        0.593     &    -0.059  &         0.953        &       -1.197    &        1.127     \\\\\n\\textbf{opponent[T.Monza]}       &      -0.4207  &        0.643     &    -0.654  &         0.513        &       -1.682    &        0.840     \\\\\n\\textbf{opponent[T.Napoli]}      &       0.4736  &        0.570     &     0.830  &         0.406        &       -0.644    &        1.591     \\\\\n\\textbf{opponent[T.Roma]}        &       0.7788  &        0.614     &     1.269  &         0.204        &       -0.424    &        1.982     \\\\\n\\textbf{opponent[T.Salernitana]} &       1.5064  &        0.584     &     2.579  &         0.010        &        0.362    &        2.651     \\\\\n\\textbf{opponent[T.Sassuolo]}    &       0.7357  &        0.582     &     1.264  &         0.206        &       -0.406    &        1.877     \\\\\n\\textbf{opponent[T.Torino]}      &      -0.1716  &        0.624     &    -0.275  &         0.783        &       -1.394    &        1.051     \\\\\n\\textbf{opponent[T.Udinese]}     &       0.5372  &        0.595     &     0.902  &         0.367        &       -0.630    &        1.704     \\\\\n\\textbf{opponent[T.Verona]}      &      -0.0627  &        0.619     &    -0.101  &         0.919        &       -1.275    &        1.150     \\\\\n\\textbf{home}                    &       0.6305  &        0.187     &     3.376  &         0.001        &        0.265    &        0.996     \\\\\n\\bottomrule\n\\end{tabular}\n%\\caption{Generalized Linear Model Regression Results}\n\\end{center}"
          },
          "metadata": {},
          "execution_count": 158
        }
      ]
    },
    {
      "cell_type": "code",
      "source": [
        "# #Fit the model to the data\n",
        "# #Home advantage included\n",
        "# #Team and opponent as fixed effects.\n",
        "# poisson_model = smf.glm(formula=\"goals ~ home + team + opponent + shots + shots_on_target\", data=goal_model_data,\n",
        "#                         family=sm.families.Poisson()).fit()\n",
        "# poisson_model.summary()"
      ],
      "metadata": {
        "id": "3EVn3qWGVfhw"
      },
      "execution_count": null,
      "outputs": []
    },
    {
      "cell_type": "code",
      "source": [
        "home_team='Sassuolo'\n",
        "away_team='Lazio'"
      ],
      "metadata": {
        "id": "VVpTSHtHiiV9"
      },
      "execution_count": 121,
      "outputs": []
    },
    {
      "cell_type": "code",
      "source": [
        "#Predict for Arsenal vs. Manchester City\n",
        "\n",
        "# https://stackoverflow.com/questions/65053036/predicting-claim-number-through-glm-model\n",
        "\n",
        "home_score_rate=poisson_model.predict(pd.DataFrame(data={'team': home_team, 'opponent': away_team,\n",
        "                                       'home':1, 'shots': -0.0583, 'shots_on_target': 0.2638},index=[1]))\n",
        "away_score_rate=poisson_model.predict(pd.DataFrame(data={'team': away_team, 'opponent': home_team,\n",
        "                                       'home':0, 'shots': -0.0583, 'shots_on_target': 0.2638},index=[1]))\n",
        "print(home_team + ' against ' + away_team + ' expect to score: ' + str(home_score_rate))\n",
        "print(away_team + ' against ' + home_team + ' expect to score: ' + str(away_score_rate))"
      ],
      "metadata": {
        "id": "I8VaCILXioPM",
        "colab": {
          "base_uri": "https://localhost:8080/"
        },
        "outputId": "8134508a-eb58-44af-a1df-7046f4ea7a2e"
      },
      "execution_count": 159,
      "outputs": [
        {
          "output_type": "stream",
          "name": "stdout",
          "text": [
            "Sassuolo against Lazio expect to score: 1    3.622571\n",
            "dtype: float64\n",
            "Lazio against Sassuolo expect to score: 1    2.336348\n",
            "dtype: float64\n"
          ]
        }
      ]
    },
    {
      "cell_type": "code",
      "source": [
        "#Lets just get a result\n",
        "home_goals=np.random.poisson(home_score_rate)\n",
        "away_goals=np.random.poisson(away_score_rate)\n",
        "print(home_team + ': ' + str(home_goals[0]))\n",
        "print(away_team + ': '  + str(away_goals[0]))"
      ],
      "metadata": {
        "colab": {
          "base_uri": "https://localhost:8080/"
        },
        "id": "o68R6PKdipEl",
        "outputId": "2221352a-3c5d-435a-99ac-1a312a5a760f"
      },
      "execution_count": 160,
      "outputs": [
        {
          "output_type": "stream",
          "name": "stdout",
          "text": [
            "Sassuolo: 4\n",
            "Lazio: 1\n"
          ]
        }
      ]
    },
    {
      "cell_type": "code",
      "source": [
        "#Lets just get a result\n",
        "hg = []\n",
        "ag = []\n",
        "\n",
        "for i in range(100000):\n",
        "  hg.append(np.random.poisson(home_score_rate))\n",
        "  ag.append(np.random.poisson(away_score_rate))\n",
        "print(home_team + ': ' + str(sum(hg) / len(hg)))\n",
        "print(away_team + ': '  + str(sum(ag) / len(ag)))"
      ],
      "metadata": {
        "colab": {
          "base_uri": "https://localhost:8080/"
        },
        "id": "5oq6t48arYWE",
        "outputId": "81c8534d-331e-4ec0-8fd3-f5be5ac6b928"
      },
      "execution_count": 161,
      "outputs": [
        {
          "output_type": "stream",
          "name": "stdout",
          "text": [
            "Sassuolo: [3.62834]\n",
            "Lazio: [2.33751]\n"
          ]
        }
      ]
    },
    {
      "cell_type": "code",
      "source": [
        "#Code to caluclate the goals for the match.\n",
        "def simulate_match(foot_model, homeTeam, awayTeam, max_goals=10):\n",
        "\n",
        "    home_goals_avg = foot_model.predict(pd.DataFrame(data={'team': homeTeam,\n",
        "                                                            'opponent': awayTeam,'home':1},\n",
        "                                                      index=[1])).values[0]\n",
        "    away_goals_avg = foot_model.predict(pd.DataFrame(data={'team': awayTeam,\n",
        "                                                            'opponent': homeTeam,'home':0},\n",
        "                                                      index=[1])).values[0]\n",
        "    team_pred = [[poisson.pmf(i, team_avg) for i in range(0, max_goals+1)] for team_avg in [home_goals_avg, away_goals_avg]]\n",
        "# team_pred = []\n",
        "\n",
        "# for team_avg in [home_goals_avg, away_goals_avg]:\n",
        "#     pred = []\n",
        "#     for i in range(0, max_goals+1):\n",
        "#         pred.append(stats.poisson.pmf(i, team_avg))\n",
        "#     team_pred.append(pred)\n",
        "    return (np.outer(np.array(team_pred[0]), np.array(team_pred[1])))"
      ],
      "metadata": {
        "id": "_qNRWCa8i9v0"
      },
      "execution_count": 151,
      "outputs": []
    },
    {
      "cell_type": "code",
      "source": [
        "max_goals=5\n",
        "score_matrix=simulate_match(poisson_model, home_team, away_team, max_goals)\n",
        "score_matrix"
      ],
      "metadata": {
        "colab": {
          "base_uri": "https://localhost:8080/"
        },
        "id": "8i1EfArAktSF",
        "outputId": "0c3df8f6-f7fa-4618-870b-e83bf4935dcb"
      },
      "execution_count": 152,
      "outputs": [
        {
          "output_type": "execute_result",
          "data": {
            "text/plain": [
              "array([[0.0025827 , 0.0060341 , 0.00704887, 0.00548954, 0.00320637,\n",
              "        0.00149824],\n",
              "       [0.00935603, 0.02185894, 0.02553504, 0.01988624, 0.01161529,\n",
              "        0.00542747],\n",
              "       [0.01694644, 0.03959277, 0.04625124, 0.03601966, 0.02103861,\n",
              "        0.0098307 ],\n",
              "       [0.02046322, 0.0478092 , 0.05584946, 0.04349458, 0.02540462,\n",
              "        0.0118708 ],\n",
              "       [0.01853236, 0.04329805, 0.05057965, 0.03939055, 0.02300751,\n",
              "        0.01075071],\n",
              "       [0.01342696, 0.03137005, 0.03664567, 0.02853901, 0.01666926,\n",
              "        0.00778904]])"
            ]
          },
          "metadata": {},
          "execution_count": 152
        }
      ]
    },
    {
      "cell_type": "code",
      "source": [
        "fig=plt.figure()\n",
        "\n",
        "#Make 2d histogram of results\n",
        "\n",
        "from pylab import rcParams\n",
        "rcParams['figure.figsize'] = 12/2.54, 8/2.54\n",
        "ax=fig.add_subplot(1,1,1)\n",
        "\n",
        "pos=ax.imshow(score_matrix, extent=[-0.5,max_goals+0.5,-0.5,max_goals+0.5], aspect='auto', cmap=plt.cm.Reds)\n",
        "fig.colorbar(pos, ax=ax)\n",
        "ax.set_title('Probability of outcome')\n",
        "plt.xlim((-0.5,5.5))\n",
        "plt.ylim((-0.5,5.5))\n",
        "plt.tight_layout()\n",
        "ax.set_xlabel('Goals scored by ' + away_team)\n",
        "ax.set_ylabel('Goals scored by ' + home_team)\n",
        "\n",
        "for i in range(5):\n",
        "    for j in range(5):\n",
        "        plt.annotate(str(round(pd.DataFrame(score_matrix).values[i][j], 2)),\\\n",
        "                     xy=(j, i),\n",
        "                     ha='center', va='center', color='black')\n",
        "\n",
        "plt.show()"
      ],
      "metadata": {
        "colab": {
          "base_uri": "https://localhost:8080/",
          "height": 506
        },
        "id": "Z07E4APyjGP1",
        "outputId": "0452f0f4-dbfd-476d-e88c-8e4f8152c46f"
      },
      "execution_count": 14,
      "outputs": [
        {
          "output_type": "display_data",
          "data": {
            "text/plain": [
              "<Figure size 640x480 with 2 Axes>"
            ],
            "image/png": "[encoded data removed]"
          },
          "metadata": {}
        }
      ]
    },
    {
      "cell_type": "code",
      "source": [
        "# https://stackoverflow.com/questions/33282368/plotting-a-2d-heatmap\n",
        "\n",
        "plt.imshow(score_matrix, cmap='hot', interpolation='nearest')\n",
        "plt.show()"
      ],
      "metadata": {
        "colab": {
          "base_uri": "https://localhost:8080/",
          "height": 303
        },
        "id": "fF36sIl6K_nD",
        "outputId": "23bdfd83-6c2d-4dc4-b666-e7ba8cb2e40e"
      },
      "execution_count": null,
      "outputs": [
        {
          "output_type": "display_data",
          "data": {
            "text/plain": [
              "<Figure size 472.441x314.961 with 1 Axes>"
            ],
            "image/png": "[encoded data removed]"
          },
          "metadata": {}
        }
      ]
    },
    {
      "cell_type": "code",
      "source": [
        "# https://www.geeksforgeeks.org/how-to-draw-2d-heatmap-using-matplotlib-in-python/\n",
        "\n",
        "import seaborn as sns\n",
        "\n",
        "ax = sns.heatmap(score_matrix, linewidth=0.5, annot=True)\n",
        "ax.set_xlabel('Goals scored by ' + away_team)\n",
        "ax.set_ylabel('Goals scored by ' + home_team)\n",
        "\n",
        "plt.show()"
      ],
      "metadata": {
        "colab": {
          "base_uri": "https://localhost:8080/",
          "height": 322
        },
        "id": "3gzcEVLALY6W",
        "outputId": "d9ebe786-6f73-40fb-aee6-a03a41b1af0f"
      },
      "execution_count": 156,
      "outputs": [
        {
          "output_type": "display_data",
          "data": {
            "text/plain": [
              "<Figure size 472.441x314.961 with 2 Axes>"
            ],
            "image/png": "[encoded data removed]"
          },
          "metadata": {}
        }
      ]
    },
    {
      "cell_type": "code",
      "source": [
        "score_matrix.shape"
      ],
      "metadata": {
        "colab": {
          "base_uri": "https://localhost:8080/"
        },
        "id": "z1NWIEet30Ca",
        "outputId": "88ba21b4-6999-43a1-d110-0cfe601cbe61"
      },
      "execution_count": null,
      "outputs": [
        {
          "output_type": "execute_result",
          "data": {
            "text/plain": [
              "(6, 6)"
            ]
          },
          "metadata": {},
          "execution_count": 183
        }
      ]
    },
    {
      "cell_type": "code",
      "source": [
        "#Home, draw, away probabilities\n",
        "homewin=np.sum(np.tril(score_matrix, -1))\n",
        "draw=np.sum(np.diag(score_matrix))\n",
        "awaywin=np.sum(np.triu(score_matrix, 1))\n",
        "\n",
        "round(homewin, 5), round(draw, 5), round(awaywin, 5)"
      ],
      "metadata": {
        "colab": {
          "base_uri": "https://localhost:8080/"
        },
        "id": "PUVIrMa7jPkk",
        "outputId": "65ae0245-6b4f-4867-fa56-c1be3f1c412b"
      },
      "execution_count": 154,
      "outputs": [
        {
          "output_type": "execute_result",
          "data": {
            "text/plain": [
              "(0.46847, 0.14498, 0.20066)"
            ]
          },
          "metadata": {},
          "execution_count": 154
        }
      ]
    },
    {
      "cell_type": "markdown",
      "source": [],
      "metadata": {
        "id": "XbZPsXzL4YpI"
      }
    },
    {
      "cell_type": "code",
      "source": [
        "[[1,2,3],[4,5,6],[7,8,9],[10,11,12]]"
      ],
      "metadata": {
        "colab": {
          "base_uri": "https://localhost:8080/"
        },
        "id": "vVJtXLML4Oyv",
        "outputId": "7d66fe5b-6a68-4433-f09f-c14bf274830e"
      },
      "execution_count": null,
      "outputs": [
        {
          "output_type": "execute_result",
          "data": {
            "text/plain": [
              "[[1, 2, 3], [4, 5, 6], [7, 8, 9], [10, 11, 12]]"
            ]
          },
          "metadata": {},
          "execution_count": 106
        }
      ]
    },
    {
      "cell_type": "code",
      "source": [
        "np.tril([[1,2,3],[4,5,6],[7,8,9],[10,11,12]], -1)"
      ],
      "metadata": {
        "colab": {
          "base_uri": "https://localhost:8080/"
        },
        "id": "o4EnD9Jr3_iZ",
        "outputId": "d02ae55b-4a53-479e-ea9f-bce0d9f0bdbc"
      },
      "execution_count": null,
      "outputs": [
        {
          "output_type": "execute_result",
          "data": {
            "text/plain": [
              "array([[ 0,  0,  0],\n",
              "       [ 4,  0,  0],\n",
              "       [ 7,  8,  0],\n",
              "       [10, 11, 12]])"
            ]
          },
          "metadata": {},
          "execution_count": 46
        }
      ]
    },
    {
      "cell_type": "code",
      "source": [
        "np.tril([[1,2,3],[4,5,6],[7,8,9],[10,11,12]])"
      ],
      "metadata": {
        "colab": {
          "base_uri": "https://localhost:8080/"
        },
        "id": "WWQrlxz24Ee6",
        "outputId": "c3217d1e-7e8a-487d-b0e1-82455d72b003"
      },
      "execution_count": null,
      "outputs": [
        {
          "output_type": "execute_result",
          "data": {
            "text/plain": [
              "array([[ 1,  0,  0],\n",
              "       [ 4,  5,  0],\n",
              "       [ 7,  8,  9],\n",
              "       [10, 11, 12]])"
            ]
          },
          "metadata": {},
          "execution_count": 107
        }
      ]
    },
    {
      "cell_type": "code",
      "source": [
        "np.tril([[1,2,3],[4,5,6],[7,8,9],[10,11,12]], 1)"
      ],
      "metadata": {
        "id": "LYDkpLNf4IyY",
        "colab": {
          "base_uri": "https://localhost:8080/"
        },
        "outputId": "30596fcb-be36-4039-d3f4-d281563ec311"
      },
      "execution_count": null,
      "outputs": [
        {
          "output_type": "execute_result",
          "data": {
            "text/plain": [
              "array([[ 1,  2,  0],\n",
              "       [ 4,  5,  6],\n",
              "       [ 7,  8,  9],\n",
              "       [10, 11, 12]])"
            ]
          },
          "metadata": {},
          "execution_count": 108
        }
      ]
    },
    {
      "cell_type": "code",
      "source": [],
      "metadata": {
        "id": "8dAroRhRz-_F"
      },
      "execution_count": null,
      "outputs": []
    },
    {
      "cell_type": "code",
      "source": [],
      "metadata": {
        "id": "yUm65Hcwz_Bn"
      },
      "execution_count": null,
      "outputs": []
    },
    {
      "cell_type": "code",
      "source": [],
      "metadata": {
        "id": "lMZewhZ1z_EI"
      },
      "execution_count": null,
      "outputs": []
    },
    {
      "cell_type": "markdown",
      "source": [
        "How to Use the Poisson Distribution in Python\n",
        "\n",
        "https://www.statology.org/poisson-distribution-python/\n",
        "\n",
        "Calculate poisson probability percentage\n",
        "\n",
        "https://stackoverflow.com/questions/280797/calculate-poisson-probability-percentage"
      ],
      "metadata": {
        "id": "uEaVb33K0fWC"
      }
    },
    {
      "cell_type": "markdown",
      "source": [
        "Example 1: Probability Equal to Some Value\n",
        "\n",
        "A store sells 3 apples per day on average. What is the probability that they will sell 5 apples on a given day?"
      ],
      "metadata": {
        "id": "Pjmb0Y_v0E-n"
      }
    },
    {
      "cell_type": "code",
      "source": [
        "from scipy.stats import poisson\n",
        "\n",
        "#calculate probability\n",
        "poisson.pmf(k=5, mu=3)\n"
      ],
      "metadata": {
        "colab": {
          "base_uri": "https://localhost:8080/"
        },
        "id": "8UnUv3GHz_Gp",
        "outputId": "5602df4a-60c6-4f10-9e09-cd8a668d0d1a"
      },
      "execution_count": 169,
      "outputs": [
        {
          "output_type": "execute_result",
          "data": {
            "text/plain": [
              "0.10081881344492458"
            ]
          },
          "metadata": {},
          "execution_count": 169
        }
      ]
    },
    {
      "cell_type": "markdown",
      "source": [
        "Example 2: Probability Less than Some Value\n",
        "\n",
        "A certain store sells seven footballs per day on average. What is the probability that this store sells four or less footballs in a given day?"
      ],
      "metadata": {
        "id": "5nn5EYsP0Jy4"
      }
    },
    {
      "cell_type": "code",
      "source": [
        "from scipy.stats import poisson\n",
        "\n",
        "#calculate probability\n",
        "poisson.cdf(k=4, mu=7)"
      ],
      "metadata": {
        "colab": {
          "base_uri": "https://localhost:8080/"
        },
        "id": "gyaSkxAe0KTI",
        "outputId": "17ab6b32-c007-4cc5-fd18-e8fe3267b04d"
      },
      "execution_count": 166,
      "outputs": [
        {
          "output_type": "execute_result",
          "data": {
            "text/plain": [
              "0.17299160788207146"
            ]
          },
          "metadata": {},
          "execution_count": 166
        }
      ]
    },
    {
      "cell_type": "code",
      "source": [
        "from scipy.stats import poisson\n",
        "\n",
        "#calculate probability\n",
        "poisson.cdf(k=0.5, mu=3)"
      ],
      "metadata": {
        "colab": {
          "base_uri": "https://localhost:8080/"
        },
        "id": "5w9agJGZ4rYK",
        "outputId": "36f81aa0-a5d3-48e1-d16d-b9852f8d6dbc"
      },
      "execution_count": 181,
      "outputs": [
        {
          "output_type": "execute_result",
          "data": {
            "text/plain": [
              "0.04978706836786395"
            ]
          },
          "metadata": {},
          "execution_count": 181
        }
      ]
    },
    {
      "cell_type": "markdown",
      "source": [
        "Example 3: Probability Greater than Some Value\n",
        "\n",
        "A certain store sells 15 cans of tuna per day on average. What is the probability that this store sells more than 20 cans of tuna in a given day?"
      ],
      "metadata": {
        "id": "ALx6nGqf0SCQ"
      }
    },
    {
      "cell_type": "code",
      "source": [
        "from scipy.stats import poisson\n",
        "\n",
        "#calculate probability\n",
        "1-poisson.cdf(k=20, mu=15)"
      ],
      "metadata": {
        "colab": {
          "base_uri": "https://localhost:8080/"
        },
        "id": "eLsp5msy0SmI",
        "outputId": "2884375a-3ca9-4892-9818-d9f6d05ae6fb"
      },
      "execution_count": 164,
      "outputs": [
        {
          "output_type": "execute_result",
          "data": {
            "text/plain": [
              "0.08297091003146029"
            ]
          },
          "metadata": {},
          "execution_count": 164
        }
      ]
    },
    {
      "cell_type": "code",
      "source": [
        "from scipy.stats import poisson\n",
        "\n",
        "#calculate probability\n",
        "1-poisson.cdf(k=2.5, mu=3.0)"
      ],
      "metadata": {
        "colab": {
          "base_uri": "https://localhost:8080/"
        },
        "id": "YRgJz4Sc2o9Y",
        "outputId": "35f78864-a2d5-4650-aeb7-933a0364a7ec"
      },
      "execution_count": 180,
      "outputs": [
        {
          "output_type": "execute_result",
          "data": {
            "text/plain": [
              "0.5768099188731564"
            ]
          },
          "metadata": {},
          "execution_count": 180
        }
      ]
    },
    {
      "cell_type": "markdown",
      "source": [
        "How to Plot a Poisson Distribution\n",
        "You can use the following syntax to plot a Poisson distribution with a given mean:"
      ],
      "metadata": {
        "id": "E1RwBH8A0V7n"
      }
    },
    {
      "cell_type": "code",
      "source": [
        "from scipy.stats import poisson\n",
        "import matplotlib.pyplot as plt\n",
        "\n",
        "#generate Poisson distribution with sample size 10000\n",
        "x = poisson.rvs(mu=3, size=10000)\n",
        "\n",
        "#create plot of Poisson distribution\n",
        "plt.hist(x, density=True, edgecolor='black')"
      ],
      "metadata": {
        "colab": {
          "base_uri": "https://localhost:8080/",
          "height": 391
        },
        "id": "a2WXIoeR0Ycf",
        "outputId": "94a13b86-cb80-4cbb-f612-2c71768cb93c"
      },
      "execution_count": 185,
      "outputs": [
        {
          "output_type": "execute_result",
          "data": {
            "text/plain": [
              "(array([1.66250000e-01, 1.94166667e-01, 1.83916667e-01, 1.39666667e-01,\n",
              "        8.02500000e-02, 5.99166667e-02, 6.75000000e-03, 1.58333333e-03,\n",
              "        7.50000000e-04, 8.33333333e-05]),\n",
              " array([ 0. ,  1.2,  2.4,  3.6,  4.8,  6. ,  7.2,  8.4,  9.6, 10.8, 12. ]),\n",
              " <BarContainer object of 10 artists>)"
            ]
          },
          "metadata": {},
          "execution_count": 185
        },
        {
          "output_type": "display_data",
          "data": {
            "text/plain": [
              "<Figure size 472.441x314.961 with 1 Axes>"
            ],
            "image/png": "[encoded data removed]"
          },
          "metadata": {}
        }
      ]
    },
    {
      "cell_type": "code",
      "source": [],
      "metadata": {
        "id": "XJo7N5oi1HEo"
      },
      "execution_count": null,
      "outputs": []
    },
    {
      "cell_type": "code",
      "source": [
        "import math\n",
        "\n",
        "def poisson_probability(actual, mean):\n",
        "    # naive:   math.exp(-mean) * mean**actual / factorial(actual)\n",
        "\n",
        "    # iterative, to keep the components from getting too large or small:\n",
        "    p = math.exp(-mean)\n",
        "    for i in range(actual):\n",
        "        p *= mean\n",
        "        p /= i+1\n",
        "    return p\n",
        "\n",
        "poisson_probability(5, 3)"
      ],
      "metadata": {
        "colab": {
          "base_uri": "https://localhost:8080/"
        },
        "id": "8tiPkkTe1HaG",
        "outputId": "635c7d97-c8cb-4a51-9ed0-a682f1e57d7d"
      },
      "execution_count": 172,
      "outputs": [
        {
          "output_type": "execute_result",
          "data": {
            "text/plain": [
              "0.10081881344492447"
            ]
          },
          "metadata": {},
          "execution_count": 172
        }
      ]
    },
    {
      "cell_type": "markdown",
      "source": [
        "https://stackoverflow.com/questions/46381930/poisson-probability-for-a-range-of-numbers-in-python\n",
        "\n",
        "For a given discrete distribution, the **pmf** function calculates the probability of a particular value, and the **cdf** function calculates the probability of any value less than or equal to the given value:"
      ],
      "metadata": {
        "id": "q-ROP05E7auq"
      }
    },
    {
      "cell_type": "code",
      "source": [
        "poisson.pmf(6, 11.53)"
      ],
      "metadata": {
        "colab": {
          "base_uri": "https://localhost:8080/"
        },
        "id": "ljxz5PFt7iMp",
        "outputId": "38cb0875-cbfe-4962-9796-f4a96577dadc"
      },
      "execution_count": 194,
      "outputs": [
        {
          "output_type": "execute_result",
          "data": {
            "text/plain": [
              "0.032079528095748586"
            ]
          },
          "metadata": {},
          "execution_count": 194
        }
      ]
    },
    {
      "cell_type": "code",
      "source": [
        "poisson.pmf([0,1,2,3,4,5,6], 11.5)"
      ],
      "metadata": {
        "colab": {
          "base_uri": "https://localhost:8080/"
        },
        "id": "YedN2orP71h6",
        "outputId": "35a68de4-9ac7-41e3-9f01-33d045aa01b1"
      },
      "execution_count": 195,
      "outputs": [
        {
          "output_type": "execute_result",
          "data": {
            "text/plain": [
              "array([1.01300936e-05, 1.16496076e-04, 6.69852439e-04, 2.56776768e-03,\n",
              "       7.38233209e-03, 1.69793638e-02, 3.25437806e-02])"
            ]
          },
          "metadata": {},
          "execution_count": 195
        }
      ]
    },
    {
      "cell_type": "code",
      "source": [
        "sum(poisson.pmf([0,1,2,3,4,5,6], 11.5))"
      ],
      "metadata": {
        "colab": {
          "base_uri": "https://localhost:8080/"
        },
        "id": "C3xHoDVK77VF",
        "outputId": "a5b0cd3a-8177-4ed2-ca17-f2b52d91a82f"
      },
      "execution_count": 189,
      "outputs": [
        {
          "output_type": "execute_result",
          "data": {
            "text/plain": [
              "0.060269722823413086"
            ]
          },
          "metadata": {},
          "execution_count": 189
        }
      ]
    },
    {
      "cell_type": "markdown",
      "source": [
        "If you want the probability of a range of values that doesn't start with zero, you can subtract **cdfs**, so the probability of **3 <= X <= 6** for X a Poisson variable with mean 11.5 is:"
      ],
      "metadata": {
        "id": "ZkxMpOAa8OvM"
      }
    },
    {
      "cell_type": "code",
      "source": [
        "poisson.cdf(6, 11.5) - poisson.cdf(2, 11.5)"
      ],
      "metadata": {
        "colab": {
          "base_uri": "https://localhost:8080/"
        },
        "id": "umDbyvgn8TYf",
        "outputId": "e738547b-2da3-4149-f5c9-b8988617de71"
      },
      "execution_count": 190,
      "outputs": [
        {
          "output_type": "execute_result",
          "data": {
            "text/plain": [
              "0.059473244214220844"
            ]
          },
          "metadata": {},
          "execution_count": 190
        }
      ]
    },
    {
      "cell_type": "code",
      "source": [
        "sum(poisson.pmf([3,4,5,6], 11.5))"
      ],
      "metadata": {
        "colab": {
          "base_uri": "https://localhost:8080/"
        },
        "id": "PJ8F50dr8Yyb",
        "outputId": "b78dace7-b3ac-4a71-d90e-5cebc336ffa7"
      },
      "execution_count": 191,
      "outputs": [
        {
          "output_type": "execute_result",
          "data": {
            "text/plain": [
              "0.05947324421422075"
            ]
          },
          "metadata": {},
          "execution_count": 191
        }
      ]
    },
    {
      "cell_type": "code",
      "source": [],
      "metadata": {
        "id": "iotDAbCQ7blU"
      },
      "execution_count": null,
      "outputs": []
    }
  ]
}