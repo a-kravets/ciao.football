{
 "cells": [
  {
   "cell_type": "code",
   "execution_count": null,
   "metadata": {},
   "outputs": [],
   "source": [
    "# Load some important libraries we'll be working with\n",
    "\n",
    "import pandas as pd\n",
    "from pandas import json_normalize\n",
    "import requests"
   ]
  },
  {
   "cell_type": "code",
   "execution_count": null,
   "metadata": {},
   "outputs": [],
   "source": [
    "# Load the competition file from StatsBomb open data folder at GitHub\n",
    "\n",
    "competitions = requests.get('https://raw.githubusercontent.com/statsbomb/open-data/master/data/competitions.json')\n",
    "competitions = competitions.json()"
   ]
  },
  {
   "cell_type": "code",
   "execution_count": null,
   "metadata": {},
   "outputs": [],
   "source": [
    "# Let's have a look what we got\n",
    "\n",
    "competitions"
   ]
  },
  {
   "cell_type": "code",
   "execution_count": null,
   "metadata": {},
   "outputs": [],
   "source": [
    "# Print all the competitions with ccompetition_id and season_id\n",
    "\n",
    "for competition in competitions:\n",
    "    print(competition['competition_name'], competition['season_name'], competition['competition_id'], competition['season_id'])"
   ]
  },
  {
   "cell_type": "code",
   "execution_count": null,
   "metadata": {},
   "outputs": [],
   "source": [
    "# Let's explore last FIFA World Cup\n",
    "\n",
    "competition_id = 43\n",
    "season_id = 3"
   ]
  },
  {
   "cell_type": "code",
   "execution_count": null,
   "metadata": {},
   "outputs": [],
   "source": [
    "# Load the list of matches for the competition and season we've chosen\n",
    "\n",
    "matches = requests.get('https://raw.githubusercontent.com/statsbomb/open-data/master/data/matches/'+str(competition_id)+'/'+str(season_id)+'.json')\n",
    "matches = matches.json()"
   ]
  },
  {
   "cell_type": "code",
   "execution_count": null,
   "metadata": {},
   "outputs": [],
   "source": [
    "# Let's have a look what we got\n",
    "\n",
    "matches"
   ]
  },
  {
   "cell_type": "code",
   "execution_count": null,
   "metadata": {},
   "outputs": [],
   "source": [
    "# Print all the games in this competitions with their scores and match_id's\n",
    "\n",
    "for match in matches:\n",
    "    print(match['home_team']['home_team_name'], match['away_team']['away_team_name']+\\\n",
    "        \" \" + str(match['home_score']) + \":\" + str(match['away_score']) + \" (match_id is \" + str(match['match_id']) + \")\")"
   ]
  },
  {
   "cell_type": "code",
   "execution_count": null,
   "metadata": {},
   "outputs": [],
   "source": [
    "# Let's explore Croatian team\n",
    "\n",
    "theteam = 'Croatia'"
   ]
  },
  {
   "cell_type": "code",
   "execution_count": null,
   "metadata": {},
   "outputs": [],
   "source": [
    "# Print all the Croatia matches and their scores, as well as match_id's\n",
    "\n",
    "for match in matches:\n",
    "    if match['home_team']['home_team_name'] == theteam or match['away_team']['away_team_name'] == theteam:\n",
    "        print(match['home_team']['home_team_name'], match['away_team']['away_team_name']+\\\n",
    "              \" \" + str(match['home_score']) + \":\" + str(match['away_score']) + \" (match_id is \" + str(match['match_id']) + \")\")"
   ]
  },
  {
   "cell_type": "code",
   "execution_count": null,
   "metadata": {},
   "outputs": [],
   "source": [
    "# Let's dive into the final\n",
    "\n",
    "match_id = 8658"
   ]
  },
  {
   "cell_type": "code",
   "execution_count": null,
   "metadata": {},
   "outputs": [],
   "source": [
    "# Load the list of events for the match we've chosen\n",
    "\n",
    "events = requests.get('https://raw.githubusercontent.com/statsbomb/open-data/master/data/events/'+str(match_id)+'.json')"
   ]
  },
  {
   "cell_type": "code",
   "execution_count": null,
   "metadata": {},
   "outputs": [],
   "source": [
    "# Let's have a look what we got\n",
    "\n",
    "events = events.json()\n",
    "events"
   ]
  },
  {
   "cell_type": "code",
   "execution_count": null,
   "metadata": {},
   "outputs": [],
   "source": [
    "# Let's transform our JSON object to Pandas DataFrame\n",
    "\n",
    "events = json_normalize(events, sep = \"_\")"
   ]
  },
  {
   "cell_type": "code",
   "execution_count": null,
   "metadata": {},
   "outputs": [],
   "source": [
    "# Let's have a look at result\n",
    "\n",
    "events.head(5)"
   ]
  },
  {
   "cell_type": "code",
   "execution_count": null,
   "metadata": {},
   "outputs": [],
   "source": [
    "# Excluding (...) for large number of columns\n",
    "\n",
    "pd.set_option(\"display.max.columns\", None)"
   ]
  },
  {
   "cell_type": "code",
   "execution_count": null,
   "metadata": {},
   "outputs": [],
   "source": [
    "# Checking\n",
    "\n",
    "events.head(5)"
   ]
  },
  {
   "cell_type": "code",
   "execution_count": null,
   "metadata": {},
   "outputs": [],
   "source": [
    "# Some stats\n",
    "\n",
    "events.describe()"
   ]
  },
  {
   "cell_type": "code",
   "execution_count": null,
   "metadata": {},
   "outputs": [],
   "source": [
    "# Let's see how many times each event occured during the match \n",
    "\n",
    "events['type_name'].value_counts()"
   ]
  },
  {
   "cell_type": "code",
   "execution_count": null,
   "metadata": {},
   "outputs": [],
   "source": [
    "# Let's have a look at Croatia events\n",
    "\n",
    "croatia = events.loc[events['possession_team_name'] == 'Croatia']\n",
    "croatia['type_name'].value_counts()"
   ]
  },
  {
   "cell_type": "code",
   "execution_count": null,
   "metadata": {},
   "outputs": [],
   "source": [
    "# Let's have a look at France events\n",
    "\n",
    "france = events.loc[events['possession_team_name'] == 'France']\n",
    "france['type_name'].value_counts()"
   ]
  },
  {
   "cell_type": "code",
   "execution_count": null,
   "metadata": {},
   "outputs": [],
   "source": [
    "# We can even visualize them\n",
    "\n",
    "france['type_name'].value_counts().plot()\n",
    "croatia['type_name'].value_counts().plot()"
   ]
  },
  {
   "cell_type": "code",
   "execution_count": null,
   "metadata": {},
   "outputs": [],
   "source": [
    "# Let's focus on Croatia passes\n",
    "\n",
    "croatia.head(5)"
   ]
  },
  {
   "cell_type": "code",
   "execution_count": null,
   "metadata": {},
   "outputs": [],
   "source": [
    "# Let's filter passes\n",
    "# And focus on players and events location\n",
    "\n",
    "croatia_passes = croatia.loc[croatia['type_name'] == 'Pass']\n",
    "croatia_passes = croatia_passes[['player_name', 'pass_recipient_name', 'location', 'pass_end_location']]\n",
    "croatia_passes"
   ]
  },
  {
   "cell_type": "code",
   "execution_count": null,
   "metadata": {},
   "outputs": [],
   "source": [
    "# Let's find out who passes to whom\n",
    "\n",
    "croatia_passes_players = croatia_passes[['player_name', 'pass_recipient_name']]\n",
    "croatia_passes_between_players = croatia_passes['player_name'] + \" --> \" + croatia_passes['pass_recipient_name']"
   ]
  },
  {
   "cell_type": "code",
   "execution_count": null,
   "metadata": {},
   "outputs": [],
   "source": [
    "# And how many time\n",
    "\n",
    "croatia_passes_between_players.value_counts().head(10)"
   ]
  },
  {
   "cell_type": "code",
   "execution_count": null,
   "metadata": {},
   "outputs": [],
   "source": []
  }
 ],
 "metadata": {
  "kernelspec": {
   "display_name": "Python 3",
   "language": "python",
   "name": "python3"
  },
  "language_info": {
   "codemirror_mode": {
    "name": "ipython",
    "version": 3
   },
   "file_extension": ".py",
   "mimetype": "text/x-python",
   "name": "python",
   "nbconvert_exporter": "python",
   "pygments_lexer": "ipython3",
   "version": "3.7.6"
  }
 },
 "nbformat": 4,
 "nbformat_minor": 4
}
