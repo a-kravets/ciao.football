{
 "cells": [
  {
   "cell_type": "code",
   "execution_count": null,
   "metadata": {},
   "outputs": [],
   "source": [
    "# Load some important libraries we'll be working with\n",
    "\n",
    "import pandas as pd\n",
    "from pandas import json_normalize\n",
    "import requests"
   ]
  },
  {
   "cell_type": "code",
   "execution_count": null,
   "metadata": {},
   "outputs": [],
   "source": [
    "API_TOKEN = ['API_TOKEN']"
   ]
  },
  {
   "cell_type": "code",
   "execution_count": null,
   "metadata": {},
   "outputs": [],
   "source": [
    "# Load all the leagues SportMonks offers in its free plan\n",
    "\n",
    "leagues = requests.get(\"https://soccer.sportmonks.com/api/v2.0/leagues?api_token=\"+API_TOKEN)\n",
    "\n",
    "leagues = leagues.json()"
   ]
  },
  {
   "cell_type": "code",
   "execution_count": null,
   "metadata": {},
   "outputs": [],
   "source": [
    "# Let's have a look what we got\n",
    "\n",
    "leagues"
   ]
  },
  {
   "cell_type": "code",
   "execution_count": null,
   "metadata": {},
   "outputs": [],
   "source": [
    "# Print all the leagues\n",
    "\n",
    "for league in leagues['data']:\n",
    "    print(league['id'], league['name'], league['country_id'])"
   ]
  },
  {
   "cell_type": "code",
   "execution_count": null,
   "metadata": {},
   "outputs": [],
   "source": [
    "# Load all the countries, so we can check what country our legues belong to\n",
    "\n",
    "countries = requests.get(\"https://soccer.sportmonks.com/api/v2.0/countries?api_token=\"+API_TOKEN)\n",
    "\n",
    "countries = countries.json()"
   ]
  },
  {
   "cell_type": "code",
   "execution_count": null,
   "metadata": {},
   "outputs": [],
   "source": [
    "# Let's see what we got\n",
    "\n",
    "countries"
   ]
  },
  {
   "cell_type": "code",
   "execution_count": null,
   "metadata": {},
   "outputs": [],
   "source": [
    "# Find our countries using country_id\n",
    "\n",
    "for country in countries['data']:\n",
    "    if (country['id'] == 320 or country['id'] == 1161):\n",
    "        print(country['id'], country['name'])"
   ]
  },
  {
   "cell_type": "code",
   "execution_count": null,
   "metadata": {},
   "outputs": [],
   "source": [
    "# Load all the matches that took place (or will take place) on a certain date\n",
    "\n",
    "date = '2021-04-09'\n",
    "\n",
    "fixtures = requests.get(\"https://soccer.sportmonks.com/api/v2.0/fixtures/date/\"+date+\"?api_token=\"+API_TOKEN)\n",
    "\n",
    "fixtures = fixtures.json()"
   ]
  },
  {
   "cell_type": "code",
   "execution_count": null,
   "metadata": {},
   "outputs": [],
   "source": [
    "# Let's see what we got\n",
    "\n",
    "fixtures"
   ]
  },
  {
   "cell_type": "code",
   "execution_count": null,
   "metadata": {},
   "outputs": [],
   "source": [
    "# Find the names of teams playing on this date\n",
    "\n",
    "localteam_id = 1789\n",
    "visitorteam_id = 7466\n",
    "\n",
    "local_team = requests.get(\"https://soccer.sportmonks.com/api/v2.0/teams/\"+str(localteam_id)+\"?api_token=\"+API_TOKEN)\n",
    "visitor_team = requests.get(\"https://soccer.sportmonks.com/api/v2.0/teams/\"+str(visitorteam_id)+\"?api_token=\"+API_TOKEN)\n",
    "\n",
    "local_team = local_team.json()\n",
    "visitor_team = visitor_team.json()"
   ]
  },
  {
   "cell_type": "code",
   "execution_count": null,
   "metadata": {},
   "outputs": [],
   "source": [
    "# Let's see what we got\n",
    "\n",
    "local_team, visitor_team"
   ]
  },
  {
   "cell_type": "code",
   "execution_count": null,
   "metadata": {},
   "outputs": [],
   "source": [
    "# Display names of the teams\n",
    "\n",
    "local_team['data']['name'], visitor_team['data']['name']"
   ]
  },
  {
   "cell_type": "code",
   "execution_count": null,
   "metadata": {},
   "outputs": [],
   "source": [
    "# Load statistics for this particular match\n",
    "\n",
    "fixture_id = 17952887\n",
    "\n",
    "fixture_stats = requests.get(\"https://soccer.sportmonks.com/api/v2.0/fixtures/\"+str(fixture_id)+\"?api_token=\"+API_TOKEN+\"&include=stats\")\n",
    "\n",
    "fixture_stats = fixture_stats.json()"
   ]
  },
  {
   "cell_type": "code",
   "execution_count": null,
   "metadata": {},
   "outputs": [],
   "source": [
    "# Display the result\n",
    "\n",
    "fixture_stats"
   ]
  },
  {
   "cell_type": "code",
   "execution_count": null,
   "metadata": {},
   "outputs": [],
   "source": [
    "# Let's have a look at starting formations\n",
    "\n",
    "fixture_stats['data']['formations']['localteam_formation'], fixture_stats['data']['formations']['visitorteam_formation']"
   ]
  },
  {
   "cell_type": "code",
   "execution_count": null,
   "metadata": {},
   "outputs": [],
   "source": [
    "# Load previous head to head games data between these teams\n",
    "\n",
    "head2head = requests.get(\"https://soccer.sportmonks.com/api/v2.0/head2head/\"+str(localteam_id)+\"/\"+str(visitorteam_id)+\\\n",
    "                         \"/?api_token=\"+API_TOKEN+\"&include=goals,cards,events,corners,odds,localTeam,visitorTeam\")\n",
    "\n",
    "head2head = head2head.json()"
   ]
  },
  {
   "cell_type": "code",
   "execution_count": null,
   "metadata": {},
   "outputs": [],
   "source": [
    "# Leave only data (filtering out meta part)\n",
    "\n",
    "head2head = head2head['data']"
   ]
  },
  {
   "cell_type": "code",
   "execution_count": null,
   "metadata": {},
   "outputs": [],
   "source": [
    "head2head"
   ]
  },
  {
   "cell_type": "code",
   "execution_count": null,
   "metadata": {},
   "outputs": [],
   "source": [
    "# Display all the cards (both yellow and red)\n",
    "\n",
    "for cards_data in head2head:\n",
    "    #print(card['cards']['data'])\n",
    "    for card in cards_data['cards']['data']:\n",
    "        print(card['fixture_id'], card['type'], card['team_id'], card['player_name'], card['minute'])"
   ]
  },
  {
   "cell_type": "code",
   "execution_count": null,
   "metadata": {},
   "outputs": [],
   "source": [
    "# Let's transform our JSON object to Pandas DataFrame\n",
    "\n",
    "head2head = json_normalize(head2head, sep = \"_\")"
   ]
  },
  {
   "cell_type": "code",
   "execution_count": null,
   "metadata": {},
   "outputs": [],
   "source": [
    "head2head.head(5)"
   ]
  },
  {
   "cell_type": "code",
   "execution_count": null,
   "metadata": {},
   "outputs": [],
   "source": [
    "# Excluding (...) for large number of columns\n",
    "\n",
    "pd.set_option(\"display.max.columns\", None)"
   ]
  },
  {
   "cell_type": "code",
   "execution_count": null,
   "metadata": {},
   "outputs": [],
   "source": [
    "head2head.head(5)"
   ]
  },
  {
   "cell_type": "code",
   "execution_count": null,
   "metadata": {},
   "outputs": [],
   "source": [
    "# Let's try to display the same cards data, but using tabular format instead of JSON\n",
    "\n",
    "head2head_cards = head2head['cards_data']"
   ]
  },
  {
   "cell_type": "code",
   "execution_count": null,
   "metadata": {},
   "outputs": [],
   "source": [
    "# Let's have a look at what do we have\n",
    "\n",
    "head2head_cards"
   ]
  },
  {
   "cell_type": "code",
   "execution_count": null,
   "metadata": {},
   "outputs": [],
   "source": [
    "# Load cards for a particular match\n",
    "\n",
    "head2head_cards[0]"
   ]
  },
  {
   "cell_type": "code",
   "execution_count": null,
   "metadata": {},
   "outputs": [],
   "source": [
    "# Transform JSON into tabular data\n",
    "\n",
    "head2head_cards = json_normalize(head2head_cards[0], sep = \"_\")"
   ]
  },
  {
   "cell_type": "code",
   "execution_count": null,
   "metadata": {},
   "outputs": [],
   "source": [
    "head2head_cards"
   ]
  },
  {
   "cell_type": "code",
   "execution_count": null,
   "metadata": {},
   "outputs": [],
   "source": []
  },
  {
   "cell_type": "code",
   "execution_count": null,
   "metadata": {},
   "outputs": [],
   "source": []
  },
  {
   "cell_type": "code",
   "execution_count": null,
   "metadata": {},
   "outputs": [],
   "source": []
  }
 ],
 "metadata": {
  "kernelspec": {
   "display_name": "Python 3",
   "language": "python",
   "name": "python3"
  },
  "language_info": {
   "codemirror_mode": {
    "name": "ipython",
    "version": 3
   },
   "file_extension": ".py",
   "mimetype": "text/x-python",
   "name": "python",
   "nbconvert_exporter": "python",
   "pygments_lexer": "ipython3",
   "version": "3.7.6"
  }
 },
 "nbformat": 4,
 "nbformat_minor": 4
}
