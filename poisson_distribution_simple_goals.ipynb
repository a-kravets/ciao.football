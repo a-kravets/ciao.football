{
 "cells": [
  {
   "cell_type": "markdown",
   "id": "882e741c",
   "metadata": {},
   "source": [
    "# Football Goals Prediction Model using simple Poisson Distribution"
   ]
  },
  {
   "cell_type": "markdown",
   "id": "7701d023",
   "metadata": {},
   "source": [
    "Reminder: for a given discrete distribution, the **pmf** function calculates the probability of a particular value, and the **cdf** function calculates the probability of any value less than or equal to the given value.\n",
    "\n",
    "* **k** is the number of successes (goals) we want to find probability for\n",
    "* **mu** is the average rate of success (goals)"
   ]
  },
  {
   "cell_type": "markdown",
   "id": "831db2f1",
   "metadata": {},
   "source": [
    "# Example 1: Probability Equal to Some Value"
   ]
  },
  {
   "cell_type": "markdown",
   "id": "14133940",
   "metadata": {},
   "source": [
    "A team scores 3 goals per home game on average. What is the probability that it will score 5 goals on a given match?"
   ]
  },
  {
   "cell_type": "code",
   "execution_count": 1,
   "id": "893de684",
   "metadata": {},
   "outputs": [
    {
     "data": {
      "text/plain": [
       "0.10081881344492458"
      ]
     },
     "execution_count": 1,
     "metadata": {},
     "output_type": "execute_result"
    }
   ],
   "source": [
    "from scipy.stats import poisson\n",
    "\n",
    "#calculate probability\n",
    "poisson.pmf(k=5, mu=3)"
   ]
  },
  {
   "cell_type": "markdown",
   "id": "c032d81c",
   "metadata": {},
   "source": [
    "# Example 2: Probability Less than Some Value"
   ]
  },
  {
   "cell_type": "markdown",
   "id": "0315a257",
   "metadata": {},
   "source": [
    "A team scores the same 3 goals per home game on average. What is the probability that this team scores 2 or less goals in a given match?"
   ]
  },
  {
   "cell_type": "code",
   "execution_count": 2,
   "id": "2a69cc76",
   "metadata": {},
   "outputs": [
    {
     "data": {
      "text/plain": [
       "0.42319008112684364"
      ]
     },
     "execution_count": 2,
     "metadata": {},
     "output_type": "execute_result"
    }
   ],
   "source": [
    "#calculate probability\n",
    "poisson.cdf(k=2, mu=3)"
   ]
  },
  {
   "cell_type": "markdown",
   "id": "c3d988b7",
   "metadata": {},
   "source": [
    "# Example 3: Probability Greater than Some Value"
   ]
  },
  {
   "cell_type": "markdown",
   "id": "cdd7287a",
   "metadata": {},
   "source": [
    "A team scores the same 3 goals per home game on average. What is the probability that this team scores more than 2 goals in a given match?"
   ]
  },
  {
   "cell_type": "code",
   "execution_count": 8,
   "id": "bdca5bdf",
   "metadata": {},
   "outputs": [
    {
     "data": {
      "text/plain": [
       "0.5768099188731564"
      ]
     },
     "execution_count": 8,
     "metadata": {},
     "output_type": "execute_result"
    }
   ],
   "source": [
    "from scipy.stats import poisson\n",
    "\n",
    "#calculate probability\n",
    "1-poisson.cdf(k=2, mu=3)"
   ]
  },
  {
   "cell_type": "markdown",
   "id": "14b92724",
   "metadata": {},
   "source": [
    "# Example 4: Probability Distribution"
   ]
  },
  {
   "cell_type": "markdown",
   "id": "13908031",
   "metadata": {},
   "source": [
    "Reminder: for a given discrete distribution, the pmf function calculates the probability of a particular value, and the cdf function calculates the probability of any value less than or equal to the given value:"
   ]
  },
  {
   "cell_type": "code",
   "execution_count": 14,
   "id": "34701e43",
   "metadata": {},
   "outputs": [
    {
     "data": {
      "text/plain": [
       "array([0.04978707, 0.14936121, 0.22404181, 0.22404181, 0.16803136,\n",
       "       0.10081881, 0.05040941])"
      ]
     },
     "execution_count": 14,
     "metadata": {},
     "output_type": "execute_result"
    }
   ],
   "source": [
    "poisson.pmf([0,1,2,3,4,5,6], 3)"
   ]
  },
  {
   "cell_type": "code",
   "execution_count": 15,
   "id": "073ef136",
   "metadata": {},
   "outputs": [
    {
     "data": {
      "text/plain": [
       "0.9664914646911589"
      ]
     },
     "execution_count": 15,
     "metadata": {},
     "output_type": "execute_result"
    }
   ],
   "source": [
    "sum(poisson.pmf([0,1,2,3,4,5,6], 3))"
   ]
  },
  {
   "cell_type": "code",
   "execution_count": 16,
   "id": "41a3ea62",
   "metadata": {},
   "outputs": [
    {
     "data": {
      "text/plain": [
       "0.42319008112684353"
      ]
     },
     "execution_count": 16,
     "metadata": {},
     "output_type": "execute_result"
    }
   ],
   "source": [
    "sum(poisson.pmf([0, 1, 2], 3))"
   ]
  },
  {
   "cell_type": "markdown",
   "id": "5b0dedcb",
   "metadata": {},
   "source": [
    "# Example 5: Probability Distribution for a Range"
   ]
  },
  {
   "cell_type": "markdown",
   "id": "cf086b89",
   "metadata": {},
   "source": [
    "If you want the probability of a range of values that doesn't start with zero, you can subtract cdfs, so the probability of 3 <= X <= 6 for X a Poisson variable with mean 3 is:"
   ]
  },
  {
   "cell_type": "code",
   "execution_count": 18,
   "id": "31febd6c",
   "metadata": {},
   "outputs": [
    {
     "data": {
      "text/plain": [
       "0.5433013835643151"
      ]
     },
     "execution_count": 18,
     "metadata": {},
     "output_type": "execute_result"
    }
   ],
   "source": [
    "poisson.cdf(6, 3) - poisson.cdf(2, 3)"
   ]
  },
  {
   "cell_type": "code",
   "execution_count": 19,
   "id": "26b9656f",
   "metadata": {},
   "outputs": [
    {
     "data": {
      "text/plain": [
       "0.5433013835643153"
      ]
     },
     "execution_count": 19,
     "metadata": {},
     "output_type": "execute_result"
    }
   ],
   "source": [
    "sum(poisson.pmf([3,4,5,6], 3))"
   ]
  },
  {
   "cell_type": "markdown",
   "id": "2727c1d7",
   "metadata": {},
   "source": [
    "# Alternative Approach: Online Calculators"
   ]
  },
  {
   "cell_type": "markdown",
   "id": "20e6cf12",
   "metadata": {},
   "source": [
    "https://stattrek.com/online-calculator/poisson"
   ]
  },
  {
   "cell_type": "code",
   "execution_count": null,
   "id": "8adc6ca0",
   "metadata": {},
   "outputs": [],
   "source": []
  }
 ],
 "metadata": {
  "kernelspec": {
   "display_name": "Python 3 (ipykernel)",
   "language": "python",
   "name": "python3"
  },
  "language_info": {
   "codemirror_mode": {
    "name": "ipython",
    "version": 3
   },
   "file_extension": ".py",
   "mimetype": "text/x-python",
   "name": "python",
   "nbconvert_exporter": "python",
   "pygments_lexer": "ipython3",
   "version": "3.10.9"
  }
 },
 "nbformat": 4,
 "nbformat_minor": 5
}
